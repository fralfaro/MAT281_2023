{
 "cells": [
  {
   "cell_type": "markdown",
   "id": "64fe4451",
   "metadata": {},
   "source": [
    "<a href=\"https://colab.research.google.com/github/fralfaro/MAT281_2023/blob/main/docs/labs/lab_03.ipynb\" target=\"_parent\"><img src=\"https://colab.research.google.com/assets/colab-badge.svg\" alt=\"Open In Colab\"/></a>\n",
    "\n",
    "\n",
    "\n",
    "# MAT281 - Laboratorio N°03\n"
   ]
  },
  {
   "cell_type": "markdown",
   "id": "63a15921",
   "metadata": {},
   "source": [
    "Esta semana revisaremos datos del **Índice de Libertad de Prensa** que confecciona cada año la asociación de Reporteros Sin Fronteras.\n",
    "\n",
    "> **Nota**: Los datos se encuentran en el siguiente [link](https://drive.google.com/drive/folders/1zxiYb5ji_xa5_5tWxvdjCEGYRY9YvjR7?usp=drive_link).\n",
    "\n",
    "## Diccionario de datos\n",
    "\n",
    "\n",
    "|Variable       |Clase               |Descripción |\n",
    "|:--------------|:-------------------|:-----------|\n",
    "| codigo_iso | caracter | Código ISO del país |\n",
    "| pais | caracter | País |\n",
    "| anio | entero | Año del resultado |\n",
    "| indice | entero | Puntaje Índice Libertad de Prensa (menor puntaje = mayor libertad de prensa) |\n",
    "| ranking | entero | Ranking Libertad de Prensa |\n",
    "\n",
    "\n",
    "## Fuente original y adaptación\n",
    "Los datos fueron extraídos de [The World Bank](https://tcdata360.worldbank.org/indicators/h3f86901f?country=BRA&indicator=32416&viz=line_chart&years=2001,2019). La fuente original es [Reporteros sin Fronteras](https://www.rsf-es.org/). \n",
    "\n",
    "Por otro lado, estos archivos han sido modificado intencionalmente para ocupar todo lo aprendido en clases. A continuación, una breve descripción de cada uno de los data frames:\n",
    "\n",
    "* **libertad_prensa_codigo.csv**: contiene la información codigo_iso/pais. Existe un código que tiene dos valores.\n",
    "* **libertad_prensa_anio.csv**: contiene la información pais/anio/indice/ranking. Los nombres de las columnas estan en mayúscula.\n",
    "\n",
    "\n"
   ]
  },
  {
   "cell_type": "code",
   "execution_count": null,
   "id": "a41a118f",
   "metadata": {},
   "outputs": [],
   "source": [
    "from google.colab import drive\n",
    "drive.mount('/content/drive')"
   ]
  },
  {
   "cell_type": "code",
   "execution_count": 2,
   "id": "ed417506",
   "metadata": {},
   "outputs": [],
   "source": [
    "import numpy as np \n",
    "import pandas as pd\n",
    "\n",
    "from os import listdir\n",
    "from os.path import isfile, join"
   ]
  },
  {
   "cell_type": "code",
   "execution_count": 3,
   "id": "28a58320",
   "metadata": {},
   "outputs": [],
   "source": [
    "path = \"data/\"\n",
    "\n",
    "archivos_anio = [path + f for f in listdir(path) if 'libertad_prensa_codigo' not in f ] \n",
    "df_codigos = pd.read_csv(path + 'libertad_prensa_codigo.csv')"
   ]
  },
  {
   "cell_type": "markdown",
   "id": "0894056d",
   "metadata": {},
   "source": [
    " El objetivo es tratar de obtener la mayor información posible de este conjunto de datos. Para cumplir este objetivo debe resolver las siguientes problemáticas:\n",
    " \n",
    "1. Lo primero será juntar toda la información en un _solo archivo_, para ello necesitamos seguir los siguientes pasos:\n",
    "\n",
    " * a) Crear el archivo **df_anio**, que contenga la información de **libertad_prensa_anio.csv** para cada año. Luego, normalice el nombre de las columnas a minúscula.\n",
    " * b) Encuentre y elimine el dato que esta duplicado en el archivo **df_codigo**.\n",
    " * c) Crear el archivo **df** que junte la información del archivo **df_anio** con **df_codigo** por la columna _codigo_iso_.\n",
    " \n",
    "> **Hint**: Para juntar por _anio_ ocupe la función **pd.concat**. Para juntar información por columna ocupe **pd.merge**."
   ]
  },
  {
   "cell_type": "code",
   "execution_count": null,
   "id": "cfd268a0",
   "metadata": {},
   "outputs": [],
   "source": [
    "# FIXME"
   ]
  },
  {
   "cell_type": "markdown",
   "id": "282e8301",
   "metadata": {},
   "source": [
    "2. Encontrar:\n",
    "   * ¿Cuál es el número de observaciones en el conjunto de datos?   \n",
    "   * ¿Cuál es el número de columnas en el conjunto de datos?   \n",
    "   * Imprime el nombre de todas las columnas  \n",
    "   * ¿Cuál es el tipo de datos de cada columna? \n",
    "   * Describir el conjunto de datos (**hint**: .describe())\n",
    "    "
   ]
  },
  {
   "cell_type": "code",
   "execution_count": null,
   "id": "14369830",
   "metadata": {},
   "outputs": [],
   "source": [
    "# FIXME"
   ]
  },
  {
   "cell_type": "markdown",
   "id": "6ebfbbea",
   "metadata": {},
   "source": [
    "3. Desarrolle una función `resumen_df(df)` para encontrar el total de elementos distintos y vacíos por columnas."
   ]
  },
  {
   "cell_type": "code",
   "execution_count": null,
   "id": "b571f6da",
   "metadata": {},
   "outputs": [],
   "source": [
    "# respuesta\n",
    "\n",
    "def resumen_df(df):\n",
    "    \"\"\"\n",
    "    funcion resumen con elementos distintos y vacios\n",
    "    por columnas\n",
    "    \"\"\"\n",
    "    nombres = df.columns\n",
    "    \n",
    "    result = pd.DataFrame({'nombres': nombres})\n",
    "    result['elementos_distintos'] = 0\n",
    "    result['elementos_vacios'] = 0\n",
    "    \n",
    "    return result"
   ]
  },
  {
   "cell_type": "code",
   "execution_count": null,
   "id": "4ceaaaa4",
   "metadata": {},
   "outputs": [],
   "source": [
    "# retornar \n",
    "resumen_df(df)"
   ]
  },
  {
   "cell_type": "markdown",
   "id": "98efcc39",
   "metadata": {},
   "source": [
    "4. Para los paises latinoamericano, encuentre por año  el país con mayor y menor `indice`.\n",
    "\n",
    " * a) Mediante un ciclo _for_.\n",
    " * b) Mediante un  _groupby_."
   ]
  },
  {
   "cell_type": "code",
   "execution_count": null,
   "id": "9077a9bc",
   "metadata": {},
   "outputs": [],
   "source": [
    "# respuesta\n",
    "\n",
    "america = ['ARG', 'ATG', 'BLZ', 'BOL', 'BRA', 'CAN', 'CHL', 'COL', 'CRI',\n",
    "       'CUB', 'DOM', 'ECU', 'GRD', 'GTM', 'GUY', 'HND', 'HTI', 'JAM',\n",
    "       'MEX', 'NIC', 'PAN', 'PER', 'PRY', 'SLV', 'SUR', 'TTO', 'URY',\n",
    "       'USA', 'VEN']\n",
    "\n",
    "df_america = # FIX ME"
   ]
  },
  {
   "cell_type": "markdown",
   "id": "91532f43",
   "metadata": {},
   "source": [
    "5. Para cada _país_, muestre el _indice_ máximo que alcanzo por _anio_. Para los datos nulos, rellene con el valor **0**.\n",
    "\n",
    "**Ejemplo**:\n",
    "\n",
    "<img src=\"https://drive.google.com/uc?export=view&id=1ob0qch1dsOjDOUuZXnCY0HU_3XPp19gV\" width = \"700\" align=\"center\"/>\n",
    "\n",
    "> **Hint**: Utilice la función **pd.pivot_table**.\n",
    "\n"
   ]
  },
  {
   "cell_type": "code",
   "execution_count": null,
   "id": "c844a0a8",
   "metadata": {},
   "outputs": [],
   "source": [
    "# FIX ME"
   ]
  }
 ],
 "metadata": {
  "kernelspec": {
   "display_name": "Python 3 (ipykernel)",
   "language": "python",
   "name": "python3"
  },
  "language_info": {
   "codemirror_mode": {
    "name": "ipython",
    "version": 3
   },
   "file_extension": ".py",
   "mimetype": "text/x-python",
   "name": "python",
   "nbconvert_exporter": "python",
   "pygments_lexer": "ipython3",
   "version": "3.8.10"
  }
 },
 "nbformat": 4,
 "nbformat_minor": 5
}
