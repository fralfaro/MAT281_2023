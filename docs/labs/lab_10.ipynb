{
 "cells": [
  {
   "cell_type": "markdown",
   "id": "f4324d27",
   "metadata": {},
   "source": [
    "<a href=\"https://colab.research.google.com/github/fralfaro/MAT281_2023/blob/main/docs/labs/lab_10.ipynb\" target=\"_parent\"><img src=\"https://colab.research.google.com/assets/colab-badge.svg\" alt=\"Open In Colab\"/></a>\n",
    "\n",
    "\n",
    "# MAT281 - Laboratorio N°10\n",
    "\n",
    "<a id='p1'></a>\n",
    "## I.- Problema 01\n",
    "\n",
    "Lista de actos delictivos registrados por el Service de police de la Ville de Montréal (SPVM).\n",
    "\n",
    "\n",
    "<img src=\"http://henriquecapriles.com/wp-content/uploads/2017/02/femina_detenida-1080x675.jpg\" width=\"480\" height=\"360\" align=\"center\"/>\n",
    "\n",
    "El conjunto de datos en estudio `interventionscitoyendo.csv` corresponde a  todos los delitos entre 2015 y agosto de 2020en Montreal. Cada delito está asociado en grandes categorías, y hay información sobre la ubicación, el momento del día, etc.\n",
    "\n",
    "> **Nota**: Para más información seguir el siguiente el [link](https://donnees.montreal.ca/ville-de-montreal/actes-criminels)."
   ]
  },
  {
   "cell_type": "code",
   "execution_count": null,
   "id": "d7c49bbd",
   "metadata": {},
   "outputs": [],
   "source": [
    "# librerias \n",
    "import pandas as pd\n",
    "import numpy as np \n",
    "import matplotlib.pyplot as plt \n",
    "import seaborn as sns \n",
    "import statsmodels.api as sm\n",
    "from prophet import Prophet\n",
    "from statsmodels.tsa.statespace.sarimax import SARIMAX\n",
    "\n",
    "# graficos incrustados\n",
    "sns.set_style('whitegrid')\n",
    "%matplotlib inline\n",
    "\n",
    "# parametros esteticos de seaborn\n",
    "sns.set_palette(\"deep\", desat=.6)\n",
    "sns.set_context(rc={\"figure.figsize\": (12, 4)})"
   ]
  },
  {
   "cell_type": "code",
   "execution_count": null,
   "id": "1c607d1b",
   "metadata": {},
   "outputs": [],
   "source": [
    "from sklearn.metrics import mean_absolute_error, mean_squared_error\n",
    "\n",
    "def mean_absolute_percentage_error(y_true, y_pred):\n",
    "    return np.mean(np.abs((y_true - y_pred) / y_true)) * 100\n",
    "\n",
    "def regression_metrics(df):\n",
    "    \"\"\"\n",
    "    Aplicar las distintas métricas definidas\n",
    "    :param df: DataFrame con las columnas: ['y', 'yhat']\n",
    "    :return: DataFrame con las métricas especificadas\n",
    "    \"\"\"\n",
    "    df_result = pd.DataFrame()\n",
    "\n",
    "    y_true = df['y']\n",
    "    y_pred = df['yhat']\n",
    "\n",
    "    df_result['mae'] = [round(mean_absolute_error(y_true, y_pred), 4)]\n",
    "    df_result['mse'] = [round(mean_squared_error(y_true, y_pred), 4)]\n",
    "    df_result['rmse'] = [round(np.sqrt(mean_squared_error(y_true, y_pred)), 4)]\n",
    "    df_result['mape'] = [round(mean_absolute_percentage_error(y_true, y_pred), 4)]\n",
    "    df_result['smape'] = [round(2 * mean_absolute_percentage_error(y_true, y_pred) / (mean_absolute_percentage_error(y_true, y_pred) + 100), 4)]\n",
    "\n",
    "    return df_result"
   ]
  },
  {
   "cell_type": "code",
   "execution_count": null,
   "id": "94c2e804",
   "metadata": {},
   "outputs": [],
   "source": [
    "# read data\n",
    "\n",
    "validate_categorie = [\n",
    "  'Introduction', 'Méfait','Vol dans / sur véhicule à moteur', 'Vol de véhicule à moteur',\n",
    "]\n",
    "\n",
    "df = pd.read_csv(\"https://raw.githubusercontent.com/fralfaro/MAT281_2022/main/labs/lab_10/data/interventionscitoyendo.csv\", sep=\",\", encoding='latin-1')\n",
    "df.columns = df.columns.str.lower()\n",
    "df['date'] = pd.to_datetime(df['date'], format='%Y-%m-%d')\n",
    "\n",
    "df = df.loc[lambda x: x['categorie'].isin(validate_categorie)]\n",
    "df = df.sort_values(['categorie','date'])\n",
    "df.head()"
   ]
  },
  {
   "cell_type": "markdown",
   "id": "f456efe8",
   "metadata": {},
   "source": [
    "Como tenemos muchos datos por categoría a nivel de día, agruparemos a nivel de **semanas** y separaremos cada serie temporal."
   ]
  },
  {
   "cell_type": "code",
   "execution_count": null,
   "id": "4dcd5820",
   "metadata": {},
   "outputs": [],
   "source": [
    "cols = ['date','pdq']\n",
    "y_s1 = df.loc[lambda x: x.categorie == validate_categorie[0] ][cols].set_index('date').resample('W').mean()\n",
    "y_s2 = df.loc[lambda x: x.categorie == validate_categorie[1] ][cols].set_index('date').resample('W').mean()\n",
    "y_s3 = df.loc[lambda x: x.categorie == validate_categorie[2] ][cols].set_index('date').resample('W').mean()\n",
    "y_s4 = df.loc[lambda x: x.categorie == validate_categorie[3] ][cols].set_index('date').resample('W').mean()"
   ]
  },
  {
   "cell_type": "markdown",
   "id": "8c4d30b7",
   "metadata": {},
   "source": [
    "El objetivo de este laboratorio es poder realizar un análisis completo del conjunto de datos en estudio, para eso debe responder las siguientes preguntas:\n",
    "\n",
    "1. Realizar un gráfico para cada serie temporal $y\\_{si}, i =1,2,3,4$.\n"
   ]
  },
  {
   "cell_type": "code",
   "execution_count": null,
   "id": "0b7ef8e8",
   "metadata": {},
   "outputs": [],
   "source": [
    "# FIXME"
   ]
  },
  {
   "cell_type": "markdown",
   "id": "cc6afc99",
   "metadata": {},
   "source": [
    "2. Escoger alguna serie temporal $y\\_{si}, i =1,2,3,4$. Luego:\n",
    "\n",
    "* Realizar un análisis exploratorio de la serie temporal escogida\n",
    "* Aplicar el modelo de pronóstico $SARIMA(p,d,q)x(P,D,Q,S)$, probando varias configuraciones de los hiperparámetros. Encuentre la mejor configuración. Concluya.\n",
    "* Para el mejor modelo encontrado, verificar si el residuo corresponde a un ruido blanco.\n",
    "\n",
    "> **Hint**: Tome como `target_date` =  '2021-01-01'. Recuerde considerar que su columna de valores se llama `pdq`.\n"
   ]
  },
  {
   "cell_type": "code",
   "execution_count": null,
   "id": "f5317975",
   "metadata": {},
   "outputs": [],
   "source": [
    "# Creando la clase SarimaModels\n",
    "class SarimaModels:\n",
    "    def __init__(self, params):\n",
    "        self.params = params\n",
    "\n",
    "    @property\n",
    "    def name_model(self):\n",
    "        return f\"SARIMA_{self.params[0]}X{self.params[1]}\".replace(' ', '')\n",
    "\n",
    "    @staticmethod\n",
    "    def test_train_model(y, date):\n",
    "        mask_ds = y.index < date\n",
    "        y_train = y[mask_ds]\n",
    "        y_test = y[~mask_ds]\n",
    "        return y_train, y_test\n",
    "\n",
    "    def fit_model(self, y, date):\n",
    "        y_train, y_test = self.test_train_model(y, date)\n",
    "        model = SARIMAX(y_train,\n",
    "                        order=self.params[0],\n",
    "                        seasonal_order=self.params[1],\n",
    "                        enforce_stationarity=False,\n",
    "                        enforce_invertibility=False)\n",
    "        model_fit = model.fit(disp=0)\n",
    "        return model_fit\n",
    "\n",
    "    def df_testing(self, y, date):\n",
    "        y_train, y_test = self.test_train_model(y, date)\n",
    "        model = SARIMAX(y_train,\n",
    "                        order=self.params[0],\n",
    "                        seasonal_order=self.params[1],\n",
    "                        enforce_stationarity=False,\n",
    "                        enforce_invertibility=False)\n",
    "        model_fit = model.fit(disp=0)\n",
    "        start_index = y_test.index.min()\n",
    "        end_index = y_test.index.max()\n",
    "        preds = model_fit.get_prediction(start=start_index, end=end_index, dynamic=False)\n",
    "        df_temp = pd.DataFrame({\n",
    "            'y': y_test['pdq'],\n",
    "            'yhat': preds.predicted_mean\n",
    "        })\n",
    "        return df_temp\n",
    "\n",
    "    def metrics(self, y, date):\n",
    "        df_temp = self.df_testing(y, date)\n",
    "        df_metrics = regression_metrics(df_temp)\n",
    "        df_metrics['model'] = self.name_model\n",
    "        return df_metrics\n",
    "\n",
    "# Definir parámetros\n",
    "import itertools\n",
    "p = d = q = range(0, 2)\n",
    "pdq = list(itertools.product(p, d, q))\n",
    "seasonal_pdq = [(x[0], x[1], x[2], 12) for x in list(itertools.product(p, d, q))]\n",
    "params = list(itertools.product(pdq, seasonal_pdq))\n",
    "target_date = '2021-01-01'"
   ]
  },
  {
   "cell_type": "code",
   "execution_count": null,
   "id": "1795bb9e",
   "metadata": {},
   "outputs": [],
   "source": [
    "# FIXME"
   ]
  },
  {
   "cell_type": "markdown",
   "id": "5070f8c3",
   "metadata": {},
   "source": [
    "3. Resuelva el ejercicio anterior utilizando la librería de `Prophet`."
   ]
  },
  {
   "cell_type": "code",
   "execution_count": null,
   "id": "b6bc1188",
   "metadata": {},
   "outputs": [],
   "source": [
    "# FIXME"
   ]
  }
 ],
 "metadata": {
  "kernelspec": {
   "display_name": "Python 3 (ipykernel)",
   "language": "python",
   "name": "python3"
  },
  "language_info": {
   "codemirror_mode": {
    "name": "ipython",
    "version": 3
   },
   "file_extension": ".py",
   "mimetype": "text/x-python",
   "name": "python",
   "nbconvert_exporter": "python",
   "pygments_lexer": "ipython3",
   "version": "3.8.10"
  }
 },
 "nbformat": 4,
 "nbformat_minor": 5
}
