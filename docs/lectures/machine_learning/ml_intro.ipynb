{
 "cells": [
  {
   "cell_type": "markdown",
   "id": "dc399abd",
   "metadata": {},
   "source": [
    "# Introducción\n",
    "\n",
    "\n",
    "\n",
    "## ¿Qué es el Machine learning?\n",
    "\n",
    "\n",
    "Podemos resumir [Machine Learning](https://en.wikipedia.org/wiki/Machine_learning) en cuatro puntos:\n",
    "\n",
    "-   Estudia y construye sistemas que pueden aprender de los datos, más\n",
    "    que seguir instrucciones explícitamente programadas.\n",
    "\n",
    "-   Conjunto de técnicas y modelos que permiten\n",
    "    el modelamiento predictivo de datos, reunidas a partir de la\n",
    "    intersección de elementos de probabilidad, estadística e\n",
    "    inteligencia artificial.\n",
    "\n",
    "-   Típicamente, alguien que trabaja en Machine Learning está en la Academia y busca realizar investigación y publicar artículos.\n",
    "\n",
    "-   Pregunta fundamental:\n",
    "    ¿Qué conocimiento emerge a partir de los datos? ¿Qué modelo/técnica\n",
    "    otorga la mejor predicción para estos datos?\n",
    "    \n",
    "Para poder avanzar en el estudio de machine learning es de vital importancia definir el concepto de **modelo**.\n",
    "\n",
    "### ¿Qué se entiende por modelo?\n",
    "\n",
    "\n",
    "<img src=\"https://drive.google.com/uc?export=view&id=1EoZF2s3L73cSYZOSXALq4kERpf2HRxVt\" width = \"300\" align=\"center\"/>\n",
    "\n",
    "Un [modelo](https://en.wikipedia.org/wiki/Mathematical_model) se entinde como:\n",
    "* Una representación abstracta y conveniente de un sistema.\n",
    "* Una simplificación del mundo real.\n",
    "* Un medio de exploración y de explicación para nuestro entendimiento de la realidad.\n",
    "\n",
    "Por otro lado, un modelo **no** es:\n",
    "\n",
    "* Igual al mundo real.\n",
    "* Un sustituto para mediciones o experimentos.\n",
    "\n",
    "Los modelos nos permiten: \n",
    "\n",
    "* reproducir experimentos donde factores no pueden ser fácilmente controlados.\n",
    "    * **Ejemplo**: Comportamiento de cápsula lunar en gravedad cero y al atravesar atmósfera a gran velocidad.\n",
    "\n",
    "\n",
    "* simplificar el entendimiento de sistemas complejos, al permitir el análisis y exploración de cada componente del sistema por separado.\n",
    "    * **Ejemplo**: Adelgazamiento de la capa de hielo polar por calentamiento global."
   ]
  },
  {
   "cell_type": "markdown",
   "id": "8306dc89",
   "metadata": {},
   "source": [
    "### ¿ Qué tipos de problemas podemos abordar con machine learning?\n",
    "\n",
    "Los problemas que se pueden resolver con machine learning se pueden englobar en tres tipos: **aprendeizaje supervisado**, **aprendizaje no supervisado** y **aprendizaje reforzado**.\n",
    "\n",
    "<img src=\"https://drive.google.com/uc?export=view&id=1H0NGHBGPBa2ettCg9uKD_3fx0tN3qR56\" width = \"600\" align=\"center\"/>\n"
   ]
  },
  {
   "cell_type": "markdown",
   "id": "2e359c52",
   "metadata": {},
   "source": [
    "#### Aprendizaje supervisado\n",
    "* El sistema aprende en base a datos estructurados o no\n",
    "estructurados. \n",
    "* Clasificados previamente (se conoce la respuesta).\n",
    "* El algoritmo produce una función que establece una\n",
    "correspondencia entre las entradas y las salidas\n",
    "deseadas del sistema.\n",
    "\n",
    "<img src=\"https://drive.google.com/uc?export=view&id=1hzCNZDFxLzcKUCyHKFunfTbdV7FkKMs0\" width = \"300\" align=\"center\"/>\n"
   ]
  },
  {
   "cell_type": "markdown",
   "id": "a60a27e5",
   "metadata": {},
   "source": [
    "#### Aprendizaje no supervisado\n",
    "* Modelo se construye usando un conjunto de datos\n",
    "como entrada, los cuales no han sido clasificados\n",
    "previamente.\n",
    "* El sistema tiene que ser capaz de reconocer patrones\n",
    "para poder etiquetar las nuevas entradas.\n",
    "\n",
    "<img src=\"https://drive.google.com/uc?export=view&id=19m7_f7pamGi7QytwW7iXMCcVDU73tk27\" width = \"300\" align=\"center\"/>\n"
   ]
  },
  {
   "cell_type": "markdown",
   "id": "a98a2772",
   "metadata": {},
   "source": [
    "#### Aprendizaje por refuerzo\n",
    "\n",
    "Aprendizaje por refuerzo o Aprendizaje reforzado es un área del aprendizaje automático inspirada en la psicología conductista, cuya ocupación es determinar qué acciones debe escoger un agente de software en un entorno dado con el fin de maximizar alguna noción de \"recompensa\" o premio acumulado. \n",
    "\n",
    "<img src=\"https://drive.google.com/uc?export=view&id=12t60yfpR1z1Rj27JewOxjUXZaYcwekAE\" width = \"300\" align=\"center\"/>\n"
   ]
  },
  {
   "cell_type": "markdown",
   "id": "07c52dff",
   "metadata": {},
   "source": [
    "### Algoritmos más utilizados\n",
    "\n",
    "Los algoritmos que más se suelen utilizar en los problemas de Machine Learning son los siguientes:\n",
    "\n",
    "1. [Regresión Lineal](https://es.wikipedia.org/wiki/Regresi%C3%B3n_lineal)\n",
    "2. [Regresión Logística](https://es.wikipedia.org/wiki/Regresi%C3%B3n_log%C3%ADstica)\n",
    "3. [Arboles de Decision](https://es.wikipedia.org/wiki/%C3%81rbol_de_decisi%C3%B3n)\n",
    "4. [Random Forest](https://es.wikipedia.org/wiki/Random_forest)\n",
    "5. [SVM](https://es.wikipedia.org/wiki/M%C3%A1quinas_de_vectores_de_soporte) \n",
    "6. [KNN](https://es.wikipedia.org/wiki/K-vecinos_m%C3%A1s_cercanos) \n",
    "7. [K-means](https://es.wikipedia.org/wiki/K-means)\n",
    "\n",
    "\n",
    "**¿ Qué se necesita para aprender machine learning?**\n",
    "\n",
    "Se necesita tener conocimientos de los siguientes tópicos.\n",
    "\n",
    "* **Algebra Lineal**\n",
    "* **Probabilidad y estadística**\n",
    "* **Optimización**\n",
    "\n",
    "### Librerías de machine learning en python\n",
    "\n",
    "Una de las grandes ventajas que ofrece python  sobre otros lenguajes de programación; es lo grande y prolifera que es la comunidad de desarrolladores que lo rodean; comunidad que ha contribuido con una gran variedad de librerías de primer nivel que extienden la funcionalidades del lenguaje. Para el caso de Machine Learning , las principales librerías que podemos utilizar son: "
   ]
  },
  {
   "cell_type": "markdown",
   "id": "120d40de",
   "metadata": {},
   "source": [
    "#### Scikit-Learn\n",
    "\n",
    "<img src=\"https://drive.google.com/uc?export=view&id=14hrQNxdf5OCYzRYsqfh3PgAxGXI4_IG9\" width = \"200\" align=\"center\"/>\n",
    "\n",
    "\n",
    "[Scikit-learn](http://scikit-learn.org/stable/) es la principal librería que existe para trabajar con Machine Learning, incluye la implementación de un gran número de algoritmos  de aprendizaje. La podemos utilizar para <a href='http://scikit-learn.org/stable/supervised_learning.html#supervised-learning' target='_blank'>clasificaciones</a>, <a href='http://scikit-learn.org/stable/modules/feature_extraction.html#feature-extractionfeature' target='_blank'>extraccion de características</a>, <a href='http://scikit-learn.org/stable/supervised_learning.html#supervised-learning' target='_blank'>regresiones</a>, <a href='http://scikit-learn.org/stable/modules/clustering.html#clustering' target='_blank'>agrupaciones</a>, <a href='http://scikit-learn.org/stable/modules/decomposition.html#decompositions' target='_blank'>reducción de dimensiones</a>, <a href='http://scikit-learn.org/stable/model_selection.html#model-selection' target='_blank'>selección de modelos</a>, o <a href='http://scikit-learn.org/stable/modules/preprocessing.html#preprocessing' target='_blank'>preprocesamiento</a>. \n",
    "\n",
    "\n",
    "#### Statsmodels\n",
    "\n",
    "<img src=\"https://drive.google.com/uc?export=view&id=1LNDm9Y832_bE7yCwPqnGNSmaECfYL6HR\" width = \"200\" align=\"center\"/>\n",
    "\n",
    "\n",
    "[Statsmodels](http://statsmodels.sourceforge.net/) es otra gran librería que hace foco en modelos estadísticos y se utiliza principalmente para análisis predictivos y exploratorios.  Las pruebas estadísticas que ofrece son bastante amplias y abarcan tareas de validación para la mayoría de los casos. "
   ]
  },
  {
   "cell_type": "markdown",
   "id": "37a2a79c",
   "metadata": {},
   "source": [
    "## Conceptos claves en machine learning\n",
    "\n",
    "### Esquema machine learning\n",
    "\n",
    "EL proceso de machine learning se puede resumir a grandes rasgo por el siguiente esquema.\n",
    "\n",
    "<img src=\"https://drive.google.com/uc?export=view&id=1Vxpcec53gfargYVh2sKU2ibWx_PdM--R\" width = \"500\" align=\"center\"/>\n",
    "\n",
    "\n",
    "\n",
    "\n",
    "1. **Recolectar los datos**. Podemos recolectar los datos desde muchas fuentes, podemos por ejemplo extraer los datos de un sitio web o obtener los datos utilizando una [API](https://es.wikipedia.org/wiki/Interfaz_de_programaci%C3%B3n_de_aplicaciones) o desde una base de datos. \n",
    "\n",
    "\n",
    "2. **Preprocesar los datos**. Es prácticamente inevitable tener que realizar varias tareas de preprocesamiento antes de poder utilizar los datos. Igualmente este punto suele ser mucho más sencillo que el paso anterior.\n",
    "\n",
    "\n",
    "3. **Explorar los datos**. Una vez que ya tenemos los datos y están con el formato correcto, podemos realizar un pre análisis para corregir los casos de valores faltantes o intentar encontrar a simple vista algún patrón en los mismos que nos facilite la construcción del modelo.\n",
    "\n",
    "\n",
    "4. **Entrenar el modelo**. En esta etapa se entrenan los modelos con los datos que venimos procesando en las etapas anteriores. La idea es que los modelos puedan extraer información útil de los datos que le pasamos para luego poder hacer predicciones. \n",
    "\n",
    "\n",
    "5. **Evaluar el modelo**. Evaluamos que tan preciso es el modelo en sus predicciones y si no estamos muy conforme con su rendimiento, podemos volver a la etapa anterior y continuar entrenando el modelo cambiando algunos parámetros hasta lograr un rendimiento aceptable.  \n",
    "\n",
    "\n",
    "6. **Utilizar el modelo**. En esta ultima etapa, ya ponemos a nuestro modelo a enfrentarse al problema real. Aquí también podemos medir su rendimiento, lo que tal vez nos obligue a revisar todos los pasos anteriores. \n",
    "\n",
    "\n",
    "Los pasos 1,2,3 son los pasos que ya se han visto con detalle en este curso. Por otro lado, la etapa de modelamiento (entrenar, evaluar y predecir) será necesario introducir nuevos conceptos.\n",
    "\n",
    "## Referencias\n",
    "\n",
    "1. [Basic Concepts in Machine Learning](https://machinelearningmastery.com/basic-concepts-in-machine-learning/)\n",
    "2. [An Introduction to Machine Learning Theory and Its Applications: A Visual Tutorial with Examples](https://www.toptal.com/machine-learning/machine-learning-theory-an-introductory-primer)"
   ]
  }
 ],
 "metadata": {
  "kernelspec": {
   "display_name": "Python 3 (ipykernel)",
   "language": "python",
   "name": "python3"
  },
  "language_info": {
   "codemirror_mode": {
    "name": "ipython",
    "version": 3
   },
   "file_extension": ".py",
   "mimetype": "text/x-python",
   "name": "python",
   "nbconvert_exporter": "python",
   "pygments_lexer": "ipython3",
   "version": "3.8.10"
  }
 },
 "nbformat": 4,
 "nbformat_minor": 5
}
