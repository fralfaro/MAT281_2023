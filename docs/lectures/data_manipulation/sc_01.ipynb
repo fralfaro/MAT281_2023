{
 "cells": [
  {
   "cell_type": "markdown",
   "metadata": {},
   "source": [
    "<a href=\"https://colab.research.google.com/github/fralfaro/MAT281_20XX/blob/main/docs/lectures/data_manipulation/sc_01.ipynb\" target=\"_parent\"><img src=\"https://colab.research.google.com/assets/colab-badge.svg\" alt=\"Open In Colab\"/></a>\n",
    "\n",
    "# Numpy\n",
    "\n"
   ]
  },
  {
   "cell_type": "markdown",
   "metadata": {},
   "source": [
    "<img src=\"https://drive.google.com/uc?export=view&id=1l3ub4ZxZYcCd9WZSATHz8EFlrJw-JQNN\" width = \"200\" align=\"center\"/>\n",
    "\n"
   ]
  },
  {
   "cell_type": "markdown",
   "metadata": {},
   "source": [
    "[Numpy](https://numpy.org/) s una biblioteca de Python que se utiliza para trabajar con matrices y vectores de datos numéricos. Proporciona un conjunto de funciones y métodos eficientes y optimizados para el procesamiento de datos numéricos, incluyendo operaciones matriciales, estadísticas, álgebra lineal, entre otras.\n",
    "\n",
    "NumPy es ampliamente utilizado en áreas como la ciencia de datos, el aprendizaje automático, la ingeniería y la física, entre otras. Es una herramienta fundamental en el ecosistema de Python para el procesamiento y análisis de datos numéricos.\n",
    "\n",
    "Algunas de las características principales de NumPy son:\n",
    "\n",
    "* Arrays multidimensionales eficientes y optimizados para operaciones numéricas.\n",
    "* Funciones y métodos para operaciones matemáticas y estadísticas.\n",
    "* Integración con otras bibliotecas de Python para el procesamiento de datos, como **Pandas** y **Matplotlib**.\n",
    "* Capacidad de procesar grandes conjuntos de datos numéricos de manera eficiente y escalable.\n",
    " "
   ]
  },
  {
   "cell_type": "markdown",
   "metadata": {},
   "source": [
    "## Python Lists vs Numpy Arrays\n",
    "\n",
    "\n",
    "Las **listas** de Python y los **arrays** de NumPy son dos estructuras de datos diferentes que se utilizan para almacenar y manipular conjuntos de datos en Python.\n",
    "\n",
    "* Las listas de Python son una colección de elementos que pueden ser de diferentes tipos de datos, como enteros, flotantes, cadenas, etc. Pueden ser de longitud variable y se pueden modificar en tiempo de ejecución. Las listas de Python son más flexibles y versátiles que los arrays de NumPy, pero pueden ser más lentas para operaciones matemáticas y numéricas.\n",
    "\n",
    "* Los arrays de NumPy son una estructura de datos más especializada que se utiliza para trabajar con datos numéricos, como matrices y vectores. Son más rápidos y eficientes que las listas de Python para operaciones numéricas y matemáticas, y proporcionan muchas funciones y métodos útiles para el procesamiento de datos, como operaciones matriciales y de álgebra lineal. Los arrays de NumPy tienen una longitud fija y no se pueden modificar una vez creados.\n",
    "\n",
    "Una pregunta común para principiantes es cuál es la verdadera diferencia aquí. La respuesta es el **rendimiento**. Las estructuras de datos de Numpy funcionan mejor en:\n",
    "\n",
    "* **Tamaño**: las estructuras de datos de Numpy ocupan menos espacio\n",
    "* **Rendimiento**: necesitan velocidad y son más rápidos que las listas\n",
    "* **Funcionalidad**: SciPy y NumPy tienen funciones optimizadas, como las operaciones de álgebra lineal integradas."
   ]
  },
  {
   "cell_type": "markdown",
   "metadata": {},
   "source": [
    "### Diferencias Tiempo - Memoria \n",
    "\n",
    "Los principales beneficios del uso de matrices NumPy deberían ser un menor consumo de memoria y un mejor comportamiento en tiempo de ejecución.\n",
    "\n",
    "* Para las **listas** de Python podemos concluir de esto que para cada elemento nuevo, necesitamos otros ocho bytes para la referencia al nuevo objeto. El nuevo objeto entero en sí consume 28 bytes. El tamaño de una lista **lst** sin el tamaño de los elementos se puede calcular con:\n",
    "\n",
    "                        64 + 8 * len (lst) + + len (lst) * 28"
   ]
  },
  {
   "cell_type": "markdown",
   "metadata": {},
   "source": [
    "<img src=\"https://drive.google.com/uc?export=view&id=1NVqrWDUkT9G7TCJXAQdceS25nWAe-zPz\" width = \"500\" align=\"center\"/>\n",
    "\n"
   ]
  },
  {
   "cell_type": "markdown",
   "metadata": {},
   "source": [
    "* Los **array** NumPy ocupan menos espacio. Esto significa que una matriz entera arbitraria de longitud **n** en necesidades numpy se calcula por: \n",
    "\n",
    "                        96 + n * 8 bytes"
   ]
  },
  {
   "cell_type": "markdown",
   "metadata": {},
   "source": [
    "<img src=\"https://drive.google.com/uc?export=view&id=1YOIBqjPHWmAeQcJKHM5AubdTORXy7m04\" width = \"500\" align=\"center\"/>\n"
   ]
  },
  {
   "cell_type": "markdown",
   "metadata": {},
   "source": [
    "Veamos un ejemplo:\n"
   ]
  },
  {
   "cell_type": "code",
   "execution_count": 1,
   "metadata": {},
   "outputs": [],
   "source": [
    "import numpy as np \n",
    "import time\n",
    "import sys\n",
    "\n",
    "def arreglo_python(n):\n",
    "    t1 = time.time()\n",
    "    X = range(n)\n",
    "    Y = range(n)\n",
    "    Z = [X[i] + Y[i] for i in range(len(X)) ]\n",
    "    return (time.time() - t1,sys.getsizeof(Z) )\n",
    "\n",
    "def arreglo_numpy(n):\n",
    "    t1 = time.time()\n",
    "    X = np.arange(n)\n",
    "    Y = np.arange(n)\n",
    "    Z = X + Y\n",
    "    return (time.time() - t1,sys.getsizeof(Z) )"
   ]
  },
  {
   "cell_type": "code",
   "execution_count": 2,
   "metadata": {},
   "outputs": [
    {
     "name": "stdout",
     "output_type": "stream",
     "text": [
      "size of vector: 10\n",
      "python list -- time: 0.0 seg, size: 184 bytes\n",
      "numpy array -- time: 0.0 seg, size: 152 bytes\n",
      "\n",
      "size of vector: 100\n",
      "python list -- time: 0.0 seg, size: 904 bytes\n",
      "numpy array -- time: 0.0 seg, size: 512 bytes\n",
      "\n",
      "size of vector: 1000\n",
      "python list -- time: 0.0 seg, size: 9016 bytes\n",
      "numpy array -- time: 0.0 seg, size: 4112 bytes\n",
      "\n",
      "size of vector: 10000\n",
      "python list -- time: 0.00201082 seg, size: 87616 bytes\n",
      "numpy array -- time: 0.0 seg, size: 40112 bytes\n",
      "\n",
      "size of vector: 100000\n",
      "python list -- time: 0.01404929 seg, size: 824456 bytes\n",
      "numpy array -- time: 0.0 seg, size: 400112 bytes\n",
      "\n",
      "size of vector: 1000000\n",
      "python list -- time: 0.14597535 seg, size: 8697456 bytes\n",
      "numpy array -- time: 0.00299621 seg, size: 4000112 bytes\n",
      "\n"
     ]
    }
   ],
   "source": [
    "# generar varios casos\n",
    "for size_of_vec in [10,100,1000,10000,100000,1000000]:\n",
    "    print(f\"size of vector: {size_of_vec}\")\n",
    "    \n",
    "    #list vs numpy\n",
    "    t1, size1 = arreglo_python(size_of_vec)\n",
    "    t2, size2 = arreglo_numpy(size_of_vec)\n",
    "    \n",
    "    # resultados\n",
    "    print(f\"python list -- time: {round(t1,8)} seg, size: {size1} bytes\")\n",
    "    print(f\"numpy array -- time: {round(t2,8)} seg, size: {size2} bytes\\n\")"
   ]
  },
  {
   "cell_type": "markdown",
   "metadata": {},
   "source": [
    "## Objetos en Numpy\n",
    "\n",
    "<img src=\"https://drive.google.com/uc?export=view&id=1Ah568ZF4nUoJhIIe1z8wQPjxoEV4PDHI\" width = \"600\" align=\"center\"/>\n",
    "\n",
    "\n",
    "En NumPy, el objeto principal es el **array multidimensional** (llamado `ndarray`), que es una estructura de datos eficiente para el procesamiento de datos numéricos. Los arrays en NumPy son objetos homogéneos y de tamaño fijo que contienen elementos del mismo tipo de datos.\n",
    "\n",
    "Aquí hay algunos ejemplos de objetos en NumPy:"
   ]
  },
  {
   "cell_type": "code",
   "execution_count": 3,
   "metadata": {},
   "outputs": [
    {
     "name": "stdout",
     "output_type": "stream",
     "text": [
      "[1 2 3]\n"
     ]
    }
   ],
   "source": [
    "# Crear un array 1D de longitud 3\n",
    "arr_1d = np.array([1, 2, 3])\n",
    "print(arr_1d)"
   ]
  },
  {
   "cell_type": "code",
   "execution_count": 4,
   "metadata": {},
   "outputs": [
    {
     "name": "stdout",
     "output_type": "stream",
     "text": [
      "[[1 2 3]\n",
      " [4 5 6]]\n"
     ]
    }
   ],
   "source": [
    "# Crear un array 2D de tamaño 2x3\n",
    "arr_2d = np.array([\n",
    "    [1, 2, 3], \n",
    "    [4, 5, 6]\n",
    "])\n",
    "print(arr_2d)"
   ]
  },
  {
   "cell_type": "code",
   "execution_count": 5,
   "metadata": {},
   "outputs": [
    {
     "name": "stdout",
     "output_type": "stream",
     "text": [
      "[[[ 1  2  3]\n",
      "  [ 4  5  6]]\n",
      "\n",
      " [[ 7  8  9]\n",
      "  [10 11 12]]]\n"
     ]
    }
   ],
   "source": [
    "# Crear un array 3D de tamaño 2x2x3\n",
    "arr_3d = np.array([\n",
    "    [\n",
    "        [1, 2, 3], \n",
    "        [4, 5, 6]\n",
    "    ], \n",
    "    [\n",
    "        [7, 8, 9],\n",
    "        [10, 11, 12]\n",
    "    ]\n",
    "])\n",
    "print(arr_3d)"
   ]
  },
  {
   "cell_type": "markdown",
   "metadata": {},
   "source": [
    "Veamos algunos atributos de los arreglos en Numpy:\n",
    "\n",
    "* `ndarray.shape`: devuelve la forma (dimensiones) del array.\n",
    "* `ndarray.ndim`: devuelve el número de dimensiones del array.\n",
    "* `ndarray.size`: devuelve el número total de elementos en el array.\n",
    "* `ndarray.dtype`: devuelve el tipo de datos de los elementos del array.\n"
   ]
  },
  {
   "cell_type": "code",
   "execution_count": 6,
   "metadata": {},
   "outputs": [],
   "source": [
    "# crear objeto\n",
    "obj_numpy =np.array(\n",
    "    [1, 2, 3, 4, 5, 6, 7, 8, 9])"
   ]
  },
  {
   "cell_type": "code",
   "execution_count": 7,
   "metadata": {},
   "outputs": [
    {
     "data": {
      "text/plain": [
       "(9,)"
      ]
     },
     "execution_count": 7,
     "metadata": {},
     "output_type": "execute_result"
    }
   ],
   "source": [
    "# shape\n",
    "obj_numpy.shape"
   ]
  },
  {
   "cell_type": "code",
   "execution_count": 8,
   "metadata": {},
   "outputs": [
    {
     "data": {
      "text/plain": [
       "1"
      ]
     },
     "execution_count": 8,
     "metadata": {},
     "output_type": "execute_result"
    }
   ],
   "source": [
    "# ndim\n",
    "obj_numpy.ndim"
   ]
  },
  {
   "cell_type": "code",
   "execution_count": 9,
   "metadata": {},
   "outputs": [
    {
     "data": {
      "text/plain": [
       "9"
      ]
     },
     "execution_count": 9,
     "metadata": {},
     "output_type": "execute_result"
    }
   ],
   "source": [
    "# size\n",
    "obj_numpy.size"
   ]
  },
  {
   "cell_type": "code",
   "execution_count": 10,
   "metadata": {},
   "outputs": [
    {
     "data": {
      "text/plain": [
       "dtype('int32')"
      ]
     },
     "execution_count": 10,
     "metadata": {},
     "output_type": "execute_result"
    }
   ],
   "source": [
    "# dtype\n",
    "obj_numpy.dtype"
   ]
  },
  {
   "cell_type": "markdown",
   "metadata": {},
   "source": [
    "## Operaciones\n",
    "\n",
    "NumPy proporciona una variedad de **operaciones básicas** que se pueden realizar en los arrays, como operaciones aritméticas, operaciones de comparación y operaciones de agregación. Aquí hay algunos ejemplos de operaciones básicas en NumPy:\n"
   ]
  },
  {
   "cell_type": "markdown",
   "metadata": {},
   "source": [
    "### Operaciones aritméticas\n"
   ]
  },
  {
   "cell_type": "code",
   "execution_count": 11,
   "metadata": {},
   "outputs": [],
   "source": [
    "import numpy as np\n",
    "\n",
    "# Crear dos arrays\n",
    "a = np.array([1, 2, 3])\n",
    "b = np.array([4, 5, 6])"
   ]
  },
  {
   "cell_type": "code",
   "execution_count": 12,
   "metadata": {},
   "outputs": [
    {
     "name": "stdout",
     "output_type": "stream",
     "text": [
      "[5 7 9]\n"
     ]
    }
   ],
   "source": [
    "# Suma de arrays\n",
    "c = a + b\n",
    "print(c)"
   ]
  },
  {
   "cell_type": "code",
   "execution_count": 13,
   "metadata": {},
   "outputs": [
    {
     "name": "stdout",
     "output_type": "stream",
     "text": [
      "[-3 -3 -3]\n"
     ]
    }
   ],
   "source": [
    "# Resta de arrays\n",
    "c = a - b\n",
    "print(c)"
   ]
  },
  {
   "cell_type": "code",
   "execution_count": 14,
   "metadata": {},
   "outputs": [
    {
     "name": "stdout",
     "output_type": "stream",
     "text": [
      "[ 4 10 18]\n"
     ]
    }
   ],
   "source": [
    "# Multiplicación de arrays\n",
    "c = a * b\n",
    "print(c)"
   ]
  },
  {
   "cell_type": "code",
   "execution_count": 15,
   "metadata": {},
   "outputs": [
    {
     "name": "stdout",
     "output_type": "stream",
     "text": [
      "[0.25 0.4  0.5 ]\n"
     ]
    }
   ],
   "source": [
    "# División de arrays\n",
    "c = a / b\n",
    "print(c)"
   ]
  },
  {
   "cell_type": "markdown",
   "metadata": {},
   "source": [
    "### Operaciones de comparación"
   ]
  },
  {
   "cell_type": "code",
   "execution_count": 16,
   "metadata": {},
   "outputs": [],
   "source": [
    "# Crear dos arrays\n",
    "a = np.array([1, 2, 3])\n",
    "b = np.array([2, 2, 4])"
   ]
  },
  {
   "cell_type": "code",
   "execution_count": 17,
   "metadata": {},
   "outputs": [
    {
     "name": "stdout",
     "output_type": "stream",
     "text": [
      "[False  True False]\n"
     ]
    }
   ],
   "source": [
    "# Comparación de arrays\n",
    "c = a == b\n",
    "print(c)"
   ]
  },
  {
   "cell_type": "code",
   "execution_count": 18,
   "metadata": {},
   "outputs": [
    {
     "name": "stdout",
     "output_type": "stream",
     "text": [
      "[False False False]\n"
     ]
    }
   ],
   "source": [
    "# Comparación de arrays\n",
    "c = a > b\n",
    "print(c)"
   ]
  },
  {
   "cell_type": "code",
   "execution_count": 19,
   "metadata": {},
   "outputs": [
    {
     "name": "stdout",
     "output_type": "stream",
     "text": [
      "[ True  True  True]\n"
     ]
    }
   ],
   "source": [
    "# Comparación de arrays\n",
    "c = a <= b\n",
    "print(c)"
   ]
  },
  {
   "cell_type": "markdown",
   "metadata": {},
   "source": [
    "### Operaciones de estadísticas"
   ]
  },
  {
   "cell_type": "code",
   "execution_count": 20,
   "metadata": {},
   "outputs": [
    {
     "name": "stdout",
     "output_type": "stream",
     "text": [
      "Suma de elementos: 15\n"
     ]
    }
   ],
   "source": [
    "# Crear un array\n",
    "a = np.array([1, 2, 3, 4, 5])\n",
    "\n",
    "# Suma de los elementos en un array\n",
    "sum_a = np.sum(a)\n",
    "print(f\"Suma de elementos: {sum_a}\")"
   ]
  },
  {
   "cell_type": "code",
   "execution_count": 21,
   "metadata": {},
   "outputs": [
    {
     "name": "stdout",
     "output_type": "stream",
     "text": [
      "minimo: 1\n",
      "maximo: 5\n"
     ]
    }
   ],
   "source": [
    "# Mínimo y máximo de los elementos en un array\n",
    "min_a = np.min(a)\n",
    "max_a = np.max(a)\n",
    "\n",
    "print(f\"minimo: {min_a}\")\n",
    "print(f\"maximo: {max_a}\")"
   ]
  },
  {
   "cell_type": "code",
   "execution_count": 22,
   "metadata": {},
   "outputs": [
    {
     "name": "stdout",
     "output_type": "stream",
     "text": [
      "promedio: 3.0\n",
      "desviacion estandar: 1.4142135623730951\n"
     ]
    }
   ],
   "source": [
    "# Promedio y desviación estándar de los elementos en un array\n",
    "mean_a = np.mean(a)\n",
    "std_a = np.std(a)\n",
    "\n",
    "print(f\"promedio: {mean_a}\")\n",
    "print(f\"desviacion estandar: {std_a}\")"
   ]
  },
  {
   "cell_type": "markdown",
   "metadata": {},
   "source": [
    "## Indexación \n",
    "\n",
    "La **indexación** en NumPy es similar a la indexación en listas de Python, pero se extiende a múltiples dimensiones. En NumPy, los arrays se pueden indexar y rebanar para acceder a elementos y subarrays específicos. Aquí hay algunos ejemplos de indexación en NumPy:"
   ]
  },
  {
   "cell_type": "markdown",
   "metadata": {},
   "source": [
    "**Acceder a elementos individuales de un array unidimensional**"
   ]
  },
  {
   "cell_type": "code",
   "execution_count": 23,
   "metadata": {},
   "outputs": [],
   "source": [
    "# Crear un array unidimensional\n",
    "a = np.array([1, 2, 3, 4, 5])"
   ]
  },
  {
   "cell_type": "code",
   "execution_count": 24,
   "metadata": {},
   "outputs": [
    {
     "name": "stdout",
     "output_type": "stream",
     "text": [
      "1\n"
     ]
    }
   ],
   "source": [
    "# Acceder al primer elemento\n",
    "print(a[0])"
   ]
  },
  {
   "cell_type": "code",
   "execution_count": 25,
   "metadata": {},
   "outputs": [
    {
     "name": "stdout",
     "output_type": "stream",
     "text": [
      "5\n"
     ]
    }
   ],
   "source": [
    "# Acceder al último elemento\n",
    "print(a[-1])"
   ]
  },
  {
   "cell_type": "code",
   "execution_count": 26,
   "metadata": {},
   "outputs": [
    {
     "name": "stdout",
     "output_type": "stream",
     "text": [
      "3\n"
     ]
    }
   ],
   "source": [
    "# Acceder al tercer elemento\n",
    "print(a[2])"
   ]
  },
  {
   "cell_type": "markdown",
   "metadata": {},
   "source": [
    "**Acceder a elementos individuales de un array multidimensional**"
   ]
  },
  {
   "cell_type": "code",
   "execution_count": 27,
   "metadata": {},
   "outputs": [],
   "source": [
    "# Crear un array bidimensional\n",
    "b = np.array([\n",
    "    [1, 2, 3],\n",
    "    [4, 5, 6],\n",
    "    [7, 8, 9]]\n",
    ")"
   ]
  },
  {
   "cell_type": "code",
   "execution_count": 28,
   "metadata": {},
   "outputs": [
    {
     "name": "stdout",
     "output_type": "stream",
     "text": [
      "1\n"
     ]
    }
   ],
   "source": [
    "# Acceder al primer elemento\n",
    "print(b[0, 0])"
   ]
  },
  {
   "cell_type": "code",
   "execution_count": 29,
   "metadata": {},
   "outputs": [
    {
     "name": "stdout",
     "output_type": "stream",
     "text": [
      "9\n"
     ]
    }
   ],
   "source": [
    "# Acceder al último elemento\n",
    "print(b[-1, -1])"
   ]
  },
  {
   "cell_type": "code",
   "execution_count": 30,
   "metadata": {},
   "outputs": [
    {
     "name": "stdout",
     "output_type": "stream",
     "text": [
      "6\n"
     ]
    }
   ],
   "source": [
    "# Acceder al elemento en la segunda fila y tercer columna\n",
    "print(b[1, 2])"
   ]
  },
  {
   "cell_type": "markdown",
   "metadata": {},
   "source": [
    "**Rebanar un array unidimensional**\n"
   ]
  },
  {
   "cell_type": "code",
   "execution_count": 31,
   "metadata": {},
   "outputs": [],
   "source": [
    "# Rebanar un array unidimensional\n",
    "a = np.array([1, 2, 3, 4, 5])"
   ]
  },
  {
   "cell_type": "code",
   "execution_count": 32,
   "metadata": {},
   "outputs": [
    {
     "name": "stdout",
     "output_type": "stream",
     "text": [
      "[1 2 3]\n"
     ]
    }
   ],
   "source": [
    "# Rebanar los primeros tres elementos\n",
    "print(a[:3])"
   ]
  },
  {
   "cell_type": "code",
   "execution_count": 33,
   "metadata": {},
   "outputs": [
    {
     "name": "stdout",
     "output_type": "stream",
     "text": [
      "[4 5]\n"
     ]
    }
   ],
   "source": [
    "# Rebanar los últimos dos elementos\n",
    "print(a[-2:])"
   ]
  },
  {
   "cell_type": "code",
   "execution_count": 34,
   "metadata": {},
   "outputs": [
    {
     "name": "stdout",
     "output_type": "stream",
     "text": [
      "[1 3 5]\n"
     ]
    }
   ],
   "source": [
    "# Rebanar todos los elementos saltando de dos en dos\n",
    "print(a[::2])"
   ]
  },
  {
   "cell_type": "markdown",
   "metadata": {},
   "source": [
    "**Rebanar un array multidimensional**"
   ]
  },
  {
   "cell_type": "code",
   "execution_count": 35,
   "metadata": {},
   "outputs": [],
   "source": [
    "# Rebanar un array bidimensional\n",
    "b = np.array([\n",
    "    [1, 2, 3], \n",
    "    [4, 5, 6], \n",
    "    [7, 8, 9]]\n",
    ")"
   ]
  },
  {
   "cell_type": "code",
   "execution_count": 36,
   "metadata": {},
   "outputs": [
    {
     "name": "stdout",
     "output_type": "stream",
     "text": [
      "[[1 2 3]\n",
      " [4 5 6]]\n"
     ]
    }
   ],
   "source": [
    "# Rebanar la primera y segunda fila\n",
    "print(b[:2, :])"
   ]
  },
  {
   "cell_type": "code",
   "execution_count": 37,
   "metadata": {},
   "outputs": [
    {
     "name": "stdout",
     "output_type": "stream",
     "text": [
      "[[2 3]\n",
      " [5 6]\n",
      " [8 9]]\n"
     ]
    }
   ],
   "source": [
    "# Rebanar la segunda y tercera columna\n",
    "print(b[:, 1:])"
   ]
  },
  {
   "cell_type": "code",
   "execution_count": 38,
   "metadata": {},
   "outputs": [
    {
     "name": "stdout",
     "output_type": "stream",
     "text": [
      "[1 5 9]\n"
     ]
    }
   ],
   "source": [
    "# Rebanar la diagonal principal\n",
    "print(b.diagonal())"
   ]
  },
  {
   "cell_type": "markdown",
   "metadata": {},
   "source": [
    "## Algebra Lineal\n",
    "\n",
    "NumPy es una biblioteca popular en Python para el **álgebra lineal**, que es una rama de las matemáticas que se enfoca en el estudio de vectores, matrices y sistemas de ecuaciones lineales. NumPy proporciona una gran cantidad de funciones y métodos para realizar operaciones de álgebra lineal de manera eficiente en Python.\n",
    "\n",
    "Aquí hay algunos ejemplos de operaciones de álgebra lineal que se pueden realizar con NumPy:"
   ]
  },
  {
   "cell_type": "markdown",
   "metadata": {},
   "source": [
    "**Vectores/Matrices especializadas**"
   ]
  },
  {
   "cell_type": "code",
   "execution_count": 39,
   "metadata": {},
   "outputs": [
    {
     "name": "stdout",
     "output_type": "stream",
     "text": [
      "Zeros:\n",
      "[[0. 0. 0.]\n",
      " [0. 0. 0.]\n",
      " [0. 0. 0.]]\n"
     ]
    }
   ],
   "source": [
    "# Arreglo de ceros: np.zeros(shape)\n",
    "print(\"Zeros:\")\n",
    "print( np.zeros((3,3)) )"
   ]
  },
  {
   "cell_type": "code",
   "execution_count": 40,
   "metadata": {},
   "outputs": [
    {
     "name": "stdout",
     "output_type": "stream",
     "text": [
      "\n",
      "Ones:\n",
      "[[1. 1. 1.]\n",
      " [1. 1. 1.]\n",
      " [1. 1. 1.]]\n"
     ]
    }
   ],
   "source": [
    "# Arreglos de uno: np.ones(shape)\n",
    "print(\"\\nOnes:\")\n",
    "print( np.ones((3,3)) )"
   ]
  },
  {
   "cell_type": "code",
   "execution_count": 41,
   "metadata": {},
   "outputs": [
    {
     "name": "stdout",
     "output_type": "stream",
     "text": [
      "\n",
      "Empty:\n",
      "[[2.12199579e-314 4.67296746e-307]\n",
      " [6.04736351e-321 9.88850039e-312]]\n"
     ]
    }
   ],
   "source": [
    "# Arreglo vacio: np.empty(shape)\n",
    "print(\"\\nEmpty:\")\n",
    "print( np.empty([2, 2]) )"
   ]
  },
  {
   "cell_type": "code",
   "execution_count": 42,
   "metadata": {},
   "outputs": [
    {
     "name": "stdout",
     "output_type": "stream",
     "text": [
      "\n",
      "Range:\n"
     ]
    },
    {
     "data": {
      "text/plain": [
       "array([0., 1., 2., 3., 4., 5., 6., 7., 8., 9.])"
      ]
     },
     "execution_count": 42,
     "metadata": {},
     "output_type": "execute_result"
    }
   ],
   "source": [
    "# Rango de valores: np.range(start, stop, step)\n",
    "print(\"\\nRange:\")\n",
    "np.arange(0., 10., 1.) "
   ]
  },
  {
   "cell_type": "code",
   "execution_count": 43,
   "metadata": {},
   "outputs": [
    {
     "name": "stdout",
     "output_type": "stream",
     "text": [
      "\n",
      "Regular grid:\n",
      "[0.    0.125 0.25  0.375 0.5   0.625 0.75  0.875 1.   ]\n"
     ]
    }
   ],
   "source": [
    "# Grilla de valores: np.linspace(start, end, n_values)\n",
    "print(\"\\nRegular grid:\")\n",
    "print( np.linspace(0., 1., 9) )"
   ]
  },
  {
   "cell_type": "code",
   "execution_count": 44,
   "metadata": {},
   "outputs": [
    {
     "name": "stdout",
     "output_type": "stream",
     "text": [
      "\n",
      "Random sequences:\n",
      "[6.62913893 1.44357124 3.41205452 4.61207364 8.59583224 8.59604932]\n"
     ]
    }
   ],
   "source": [
    "# fijar semilla\n",
    "np.random.seed(42)\n",
    "\n",
    "# Sequencia de valores aleatorios: np.random\n",
    "print(\"\\nRandom sequences:\")\n",
    "print( np.random.uniform(10, size=6) )"
   ]
  },
  {
   "cell_type": "markdown",
   "metadata": {},
   "source": [
    "**Operaciones con Matrices**"
   ]
  },
  {
   "cell_type": "code",
   "execution_count": 45,
   "metadata": {},
   "outputs": [
    {
     "name": "stdout",
     "output_type": "stream",
     "text": [
      "Matrix A: \n",
      " [[1 2 3]\n",
      " [4 5 6]\n",
      " [7 8 9]]\n",
      "\n",
      "Matrix B: \n",
      " [[9 8 7]\n",
      " [6 5 4]\n",
      " [3 2 1]]\n"
     ]
    }
   ],
   "source": [
    "# crear matrices\n",
    "\n",
    "A = np.array([\n",
    "    [1,2,3],\n",
    "    [4,5,6],\n",
    "    [7,8,9]\n",
    "])\n",
    "\n",
    "B = np.array([\n",
    "    [9,8,7],\n",
    "    [6,5,4],\n",
    "    [3,2,1]]\n",
    ")\n",
    "\n",
    "print(f\"Matrix A: \\n {A}\\n\")\n",
    "print(f\"Matrix B: \\n {B}\")"
   ]
  },
  {
   "cell_type": "code",
   "execution_count": 46,
   "metadata": {},
   "outputs": [
    {
     "name": "stdout",
     "output_type": "stream",
     "text": [
      "Sum:\n",
      "[[10 10 10]\n",
      " [10 10 10]\n",
      " [10 10 10]]\n"
     ]
    }
   ],
   "source": [
    "# sumar dos matrices\n",
    "print(\"Sum:\")\n",
    "print( A+B )"
   ]
  },
  {
   "cell_type": "code",
   "execution_count": 47,
   "metadata": {},
   "outputs": [
    {
     "name": "stdout",
     "output_type": "stream",
     "text": [
      "\n",
      "Subtraction\n",
      "[[-8 -6 -4]\n",
      " [-2  0  2]\n",
      " [ 4  6  8]]\n"
     ]
    }
   ],
   "source": [
    "# restar dos matrices\n",
    "print(\"\\nSubtraction\")\n",
    "print( A-B )"
   ]
  },
  {
   "cell_type": "code",
   "execution_count": 48,
   "metadata": {},
   "outputs": [
    {
     "name": "stdout",
     "output_type": "stream",
     "text": [
      "\n",
      "Product\n",
      "[[ 9 16 21]\n",
      " [24 25 24]\n",
      " [21 16  9]]\n"
     ]
    }
   ],
   "source": [
    "# producto uno a uno\n",
    "print(\"\\nProduct\")\n",
    "print( A*B )"
   ]
  },
  {
   "cell_type": "code",
   "execution_count": 49,
   "metadata": {},
   "outputs": [
    {
     "name": "stdout",
     "output_type": "stream",
     "text": [
      "\n",
      "Matricial Product\n",
      "[[ 30  24  18]\n",
      " [ 84  69  54]\n",
      " [138 114  90]]\n"
     ]
    }
   ],
   "source": [
    "# producto matricial\n",
    "print(\"\\nMatricial Product\")\n",
    "print( np.dot(A,B) )"
   ]
  },
  {
   "cell_type": "code",
   "execution_count": 50,
   "metadata": {},
   "outputs": [
    {
     "name": "stdout",
     "output_type": "stream",
     "text": [
      "\n",
      " Power\n",
      "[[ 1  4  9]\n",
      " [16 25 36]\n",
      " [49 64 81]]\n"
     ]
    }
   ],
   "source": [
    "# potencia\n",
    "print(\"\\n Power\")\n",
    "print( A**2 )"
   ]
  },
  {
   "cell_type": "markdown",
   "metadata": {},
   "source": [
    "**Algunas funciones especiales**"
   ]
  },
  {
   "cell_type": "code",
   "execution_count": 51,
   "metadata": {},
   "outputs": [],
   "source": [
    "# crear matriz\n",
    "A = np.array([\n",
    "    [1,2,3],\n",
    "    [4,5,6],\n",
    "    [7,8,9]\n",
    "])"
   ]
  },
  {
   "cell_type": "code",
   "execution_count": 52,
   "metadata": {},
   "outputs": [
    {
     "name": "stdout",
     "output_type": "stream",
     "text": [
      "funcion exponencial\n",
      "[[2.71828183e+00 7.38905610e+00 2.00855369e+01]\n",
      " [5.45981500e+01 1.48413159e+02 4.03428793e+02]\n",
      " [1.09663316e+03 2.98095799e+03 8.10308393e+03]]\n"
     ]
    }
   ],
   "source": [
    "print(\"funcion exponencial\")\n",
    "print( np.exp(A) )"
   ]
  },
  {
   "cell_type": "code",
   "execution_count": 53,
   "metadata": {},
   "outputs": [
    {
     "name": "stdout",
     "output_type": "stream",
     "text": [
      "funcion seno\n",
      "[[ 0.84147098  0.90929743  0.14112001]\n",
      " [-0.7568025  -0.95892427 -0.2794155 ]\n",
      " [ 0.6569866   0.98935825  0.41211849]]\n"
     ]
    }
   ],
   "source": [
    "print(\"funcion seno\")\n",
    "print( np.sin(A) )"
   ]
  },
  {
   "cell_type": "code",
   "execution_count": 54,
   "metadata": {},
   "outputs": [
    {
     "name": "stdout",
     "output_type": "stream",
     "text": [
      "funcion coseno\n",
      "[[ 0.54030231 -0.41614684 -0.9899925 ]\n",
      " [-0.65364362  0.28366219  0.96017029]\n",
      " [ 0.75390225 -0.14550003 -0.91113026]]\n"
     ]
    }
   ],
   "source": [
    "print(\"funcion coseno\")\n",
    "print( np.cos(A))"
   ]
  },
  {
   "cell_type": "code",
   "execution_count": 55,
   "metadata": {},
   "outputs": [
    {
     "name": "stdout",
     "output_type": "stream",
     "text": [
      "funcion tangente\n",
      "[[ 1.55740772 -2.18503986 -0.14254654]\n",
      " [ 1.15782128 -3.38051501 -0.29100619]\n",
      " [ 0.87144798 -6.79971146 -0.45231566]]\n"
     ]
    }
   ],
   "source": [
    "print(\"funcion tangente\")\n",
    "print( np.tan(A) )"
   ]
  },
  {
   "cell_type": "markdown",
   "metadata": {},
   "source": [
    "**Operaciones álgebra líneal**"
   ]
  },
  {
   "cell_type": "code",
   "execution_count": 56,
   "metadata": {},
   "outputs": [],
   "source": [
    "# crear matriz\n",
    "A = np.array([[1,2],\n",
    "              [3,4]])"
   ]
  },
  {
   "cell_type": "code",
   "execution_count": 57,
   "metadata": {},
   "outputs": [
    {
     "name": "stdout",
     "output_type": "stream",
     "text": [
      "Transpose: \n",
      "[[1 3]\n",
      " [2 4]]\n"
     ]
    }
   ],
   "source": [
    "# matriz transpuesta\n",
    "print(\"Transpose: \")\n",
    "print( A.T )"
   ]
  },
  {
   "cell_type": "code",
   "execution_count": 58,
   "metadata": {},
   "outputs": [
    {
     "name": "stdout",
     "output_type": "stream",
     "text": [
      "determinant\n",
      "-2.0\n"
     ]
    }
   ],
   "source": [
    "# determinante\n",
    "print(\"determinant\")\n",
    "print( round(np.linalg.det(A) ,2))"
   ]
  },
  {
   "cell_type": "code",
   "execution_count": 59,
   "metadata": {},
   "outputs": [
    {
     "name": "stdout",
     "output_type": "stream",
     "text": [
      "Inverse\n",
      "[[-2.   1. ]\n",
      " [ 1.5 -0.5]]\n"
     ]
    }
   ],
   "source": [
    "# Matriz Inversa\n",
    "print(\"Inverse\")\n",
    "print( np.linalg.inv(A) )"
   ]
  },
  {
   "cell_type": "code",
   "execution_count": 60,
   "metadata": {},
   "outputs": [
    {
     "name": "stdout",
     "output_type": "stream",
     "text": [
      "Trace\n",
      "5\n"
     ]
    }
   ],
   "source": [
    "# traza\n",
    "print(\"Trace\")\n",
    "print( np.trace(A))"
   ]
  },
  {
   "cell_type": "code",
   "execution_count": 61,
   "metadata": {},
   "outputs": [
    {
     "name": "stdout",
     "output_type": "stream",
     "text": [
      "eigenvalues\n",
      "[-0.37228132  5.37228132]\n",
      "\n",
      "eigenvectors\n",
      "[[-0.82456484 -0.41597356]\n",
      " [ 0.56576746 -0.90937671]]\n"
     ]
    }
   ],
   "source": [
    "# Valores y vectores propios\n",
    "eigenvalues, eigenvectors = np.linalg.eig(A) \n",
    "\n",
    "print(\"eigenvalues\")\n",
    "print( eigenvalues )\n",
    "print(\"\\neigenvectors\")\n",
    "print( eigenvectors )"
   ]
  },
  {
   "cell_type": "code",
   "execution_count": 62,
   "metadata": {},
   "outputs": [
    {
     "name": "stdout",
     "output_type": "stream",
     "text": [
      "eigenvalues\n",
      "[-0.37228132  5.37228132]\n",
      "\n",
      "eigenvectors\n",
      "[[-0.82456484 -0.41597356]\n",
      " [ 0.56576746 -0.90937671]]\n"
     ]
    }
   ],
   "source": [
    "# Valores y vectores propios\n",
    "eigenvalues, eigenvectors = np.linalg.eig(A) \n",
    "\n",
    "print(\"eigenvalues\")\n",
    "print( eigenvalues )\n",
    "print(\"\\neigenvectors\")\n",
    "print( eigenvectors )"
   ]
  },
  {
   "cell_type": "markdown",
   "metadata": {},
   "source": [
    "**Resolver sitema de ecuaciones**"
   ]
  },
  {
   "cell_type": "code",
   "execution_count": 63,
   "metadata": {},
   "outputs": [],
   "source": [
    "# crear matriz\n",
    "A = np.array([[1,2],\n",
    "              [3,4]])\n",
    "\n",
    "# sistemas lineales: Ax = b\n",
    "b = np.array([[5.], [7.]])"
   ]
  },
  {
   "cell_type": "code",
   "execution_count": 64,
   "metadata": {},
   "outputs": [
    {
     "name": "stdout",
     "output_type": "stream",
     "text": [
      "linear system: Ax=b\n",
      "\n",
      "x = \n",
      "[[-3.]\n",
      " [ 4.]]\n"
     ]
    }
   ],
   "source": [
    "print(\"linear system: Ax=b\")\n",
    "print(\"\\nx = \")\n",
    "print( np.linalg.solve(A, b) )"
   ]
  },
  {
   "cell_type": "markdown",
   "metadata": {},
   "source": [
    "## Broadcasting\n"
   ]
  },
  {
   "cell_type": "markdown",
   "metadata": {},
   "source": [
    "<img src=\"https://drive.google.com/uc?export=view&id=1EjnRrf3d0c-kAvrgKejQXy5Zyn8s6vmc\" width = \"500\" align=\"center\"/>\n",
    "\n"
   ]
  },
  {
   "cell_type": "markdown",
   "metadata": {},
   "source": [
    "**Broadcasting** es un término utilizado en NumPy para describir la forma en que las operaciones entre arrays con diferentes formas se manejan automáticamente por NumPy. En otras palabras, cuando se realizan operaciones aritméticas entre dos arrays de diferentes formas, NumPy ajusta automáticamente la forma del array más pequeño para que coincida con la forma del array más grande antes de realizar la operación. Esto permite que las operaciones se realicen de manera eficiente sin la necesidad de crear copias adicionales de los datos.\n",
    "\n",
    "Las reglas de broadcasting en NumPy son las siguientes:\n",
    "\n",
    "* Si los dos arrays tienen el mismo número de dimensiones, pero las formas no son iguales, NumPy agrega 1 a la forma del array más pequeño para que coincida con la forma del array más grande.\n",
    "\n",
    "* Si la forma de los dos arrays no es la misma y no tienen el mismo número de dimensiones, NumPy agrega 1 a las dimensiones menos y expande las formas de los arrays para que sean iguales en la dimensión más alta.\n",
    "\n",
    "* Si la forma de los dos arrays no es la misma y alguna dimensión no coincide, NumPy genera un error."
   ]
  },
  {
   "cell_type": "code",
   "execution_count": 65,
   "metadata": {},
   "outputs": [
    {
     "name": "stdout",
     "output_type": "stream",
     "text": [
      "np.arange(3)+ 5:\n",
      "[5 6 7]\n"
     ]
    }
   ],
   "source": [
    "# example 01\n",
    "a = np.arange(3)+ 5\n",
    "print(f\"np.arange(3)+ 5:\\n{a}\" )"
   ]
  },
  {
   "cell_type": "code",
   "execution_count": 66,
   "metadata": {},
   "outputs": [
    {
     "name": "stdout",
     "output_type": "stream",
     "text": [
      "np.ones((3,3))+np.arange(3):\n",
      "[[1. 2. 3.]\n",
      " [1. 2. 3.]\n",
      " [1. 2. 3.]]\n"
     ]
    }
   ],
   "source": [
    "# example 02\n",
    "b = np.ones((3,3))+np.arange(3)\n",
    "print(f\"np.ones((3,3))+np.arange(3):\\n{b}\" )"
   ]
  },
  {
   "cell_type": "code",
   "execution_count": 67,
   "metadata": {},
   "outputs": [
    {
     "name": "stdout",
     "output_type": "stream",
     "text": [
      "np.arange(3).reshape((3,1)) +  np.arange(3):\n",
      "[[0 1 2]\n",
      " [1 2 3]\n",
      " [2 3 4]]\n"
     ]
    }
   ],
   "source": [
    "# example 03\n",
    "c = np.arange(3).reshape((3,1)) +  np.arange(3)\n",
    "print(f\"np.arange(3).reshape((3,1)) +  np.arange(3):\\n{c }\" )"
   ]
  },
  {
   "cell_type": "markdown",
   "metadata": {},
   "source": [
    "## Referencias\n",
    "\n",
    "1. [Quickstart tutorial-numpy](https://docs.scipy.org/doc/numpy/user/quickstart.html)\n",
    "2. [Mathematical functions](https://numpy.org/doc/stable/reference/routines.math.html)"
   ]
  }
 ],
 "metadata": {
  "kernelspec": {
   "display_name": "Python 3 (ipykernel)",
   "language": "python",
   "name": "python3"
  },
  "language_info": {
   "codemirror_mode": {
    "name": "ipython",
    "version": 3
   },
   "file_extension": ".py",
   "mimetype": "text/x-python",
   "name": "python",
   "nbconvert_exporter": "python",
   "pygments_lexer": "ipython3",
   "version": "3.8.10"
  }
 },
 "nbformat": 4,
 "nbformat_minor": 4
}
