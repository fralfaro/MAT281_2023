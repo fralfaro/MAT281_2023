{
 "cells": [
  {
   "cell_type": "markdown",
   "metadata": {},
   "source": [
    "<a href=\"https://colab.research.google.com/github/fralfaro/MAT281_20XX/blob/main/docs/lectures/data_manipulation/pd_01.ipynb\" target=\"_parent\"><img src=\"https://colab.research.google.com/assets/colab-badge.svg\" alt=\"Open In Colab\"/></a>\n",
    "\n",
    "\n",
    "# Pandas"
   ]
  },
  {
   "cell_type": "markdown",
   "metadata": {},
   "source": [
    "<img src=\"https://drive.google.com/uc?export=view&id=1co9FgB74nNBC69dMz0fjNRTomOXUuFh1\" width = \"200\" align=\"center\"/>\n"
   ]
  },
  {
   "cell_type": "markdown",
   "metadata": {},
   "source": [
    "[Pandas](https://pandas.pydata.org/) es un paquete de Python que proporciona estructuras de datos rápidas, flexibles y expresivas diseñadas para que trabajar con datos \"relacionales\" o \"etiquetados\" sea fácil e intuitivo. \n",
    "\n",
    "Su objetivo es ser el bloque de construcción fundamental de alto nivel para hacer análisis de datos prácticos del mundo real en Python. Además, tiene el objetivo más amplio de convertirse en la herramienta de análisis/manipulación de datos de código abierto más potente y flexible disponible en cualquier idioma. Ya está en camino hacia este objetivo."
   ]
  },
  {
   "cell_type": "markdown",
   "metadata": {},
   "source": [
    "**Series y DataFrames**\n",
    "\n",
    "* Las **series** son  arreglos unidimensionales con etiquetas. Se puede pensar como una generalización de los diccionarios de Python. \n",
    "\n",
    "* Los **dataframe** son arreglos bidimensionales y una extensión natural de las series. Se puede pensar como la generalización de un numpy.array.\n"
   ]
  },
  {
   "cell_type": "markdown",
   "metadata": {},
   "source": [
    "## Pandas Series\n",
    "\n",
    "### Trabajando con  pandas.Series\n",
    "\n",
    "<img src=\"https://drive.google.com/uc?export=view&id=1sa-aWrdbaw-tDP5Vi_ys6Ee-8M6RlRXE\" width = \"300\" align=\"center\"/>\n"
   ]
  },
  {
   "cell_type": "code",
   "execution_count": 1,
   "metadata": {},
   "outputs": [],
   "source": [
    "import pandas as pd\n",
    "import numpy as np"
   ]
  },
  {
   "cell_type": "code",
   "execution_count": 2,
   "metadata": {},
   "outputs": [
    {
     "name": "stdout",
     "output_type": "stream",
     "text": [
      "A    10\n",
      "B    20\n",
      "C    30\n",
      "D    40\n",
      "E    50\n",
      "dtype: int64\n"
     ]
    }
   ],
   "source": [
    "# Crear una serie con índices de letras\n",
    "data = [10, 20, 30, 40, 50]\n",
    "indices = ['A', 'B', 'C', 'D', 'E']\n",
    "my_serie = pd.Series(data, index=indices)\n",
    "print(my_serie)"
   ]
  },
  {
   "cell_type": "code",
   "execution_count": 3,
   "metadata": {},
   "outputs": [
    {
     "name": "stdout",
     "output_type": "stream",
     "text": [
      "type:\n",
      "<class 'pandas.core.series.Series'>\n"
     ]
    }
   ],
   "source": [
    "# tipo \n",
    "print(\"type:\")\n",
    "print( type(my_serie) )"
   ]
  },
  {
   "cell_type": "code",
   "execution_count": 4,
   "metadata": {},
   "outputs": [
    {
     "name": "stdout",
     "output_type": "stream",
     "text": [
      "values:\n",
      "[10 20 30 40 50]\n"
     ]
    }
   ],
   "source": [
    "# valores \n",
    "print(\"values:\")\n",
    "print(my_serie.values)"
   ]
  },
  {
   "cell_type": "code",
   "execution_count": 5,
   "metadata": {},
   "outputs": [
    {
     "name": "stdout",
     "output_type": "stream",
     "text": [
      "index:\n",
      "Index(['A', 'B', 'C', 'D', 'E'], dtype='object')\n"
     ]
    }
   ],
   "source": [
    "# indice\n",
    "print(\"index:\")\n",
    "print(my_serie.index)"
   ]
  },
  {
   "cell_type": "markdown",
   "metadata": {},
   "source": [
    "* El método `loc` se utiliza para acceder y seleccionar datos utilizando etiquetas de índice.\n",
    "* El método `iloc` se utiliza para acceder y seleccionar datos utilizando índices enteros basados en la posición"
   ]
  },
  {
   "cell_type": "code",
   "execution_count": 6,
   "metadata": {},
   "outputs": [
    {
     "name": "stdout",
     "output_type": "stream",
     "text": [
      "direct:\n",
      "20\n"
     ]
    }
   ],
   "source": [
    "# acceder al valor de la serie: directo\n",
    "print(\"direct:\")\n",
    "print(my_serie['B'])"
   ]
  },
  {
   "cell_type": "code",
   "execution_count": 7,
   "metadata": {},
   "outputs": [
    {
     "name": "stdout",
     "output_type": "stream",
     "text": [
      "loc:\n",
      "20\n"
     ]
    }
   ],
   "source": [
    "# acceder al valor de la serie: loc\n",
    "print(\"loc:\")\n",
    "print(my_serie.loc['B'])"
   ]
  },
  {
   "cell_type": "code",
   "execution_count": 8,
   "metadata": {},
   "outputs": [
    {
     "name": "stdout",
     "output_type": "stream",
     "text": [
      "iloc:\n",
      "20\n"
     ]
    }
   ],
   "source": [
    "# acceder al valor de la serie: iloc\n",
    "print(\"iloc:\")\n",
    "print(my_serie.iloc[1])"
   ]
  },
  {
   "cell_type": "code",
   "execution_count": 9,
   "metadata": {},
   "outputs": [
    {
     "name": "stdout",
     "output_type": "stream",
     "text": [
      "edit:\n",
      "\n",
      "old 'D': 40\n"
     ]
    }
   ],
   "source": [
    "# editar valores\n",
    "print(\"edit:\")\n",
    "print(\"\\nold 'D':\",my_serie.loc['D'] )"
   ]
  },
  {
   "cell_type": "code",
   "execution_count": 10,
   "metadata": {},
   "outputs": [
    {
     "name": "stdout",
     "output_type": "stream",
     "text": [
      "new 'D': 1000\n"
     ]
    }
   ],
   "source": [
    "my_serie.loc['D'] = 1000\n",
    "print(\"new 'D':\",my_serie.loc['D'] )"
   ]
  },
  {
   "cell_type": "code",
   "execution_count": 11,
   "metadata": {},
   "outputs": [
    {
     "name": "stdout",
     "output_type": "stream",
     "text": [
      "order:\n"
     ]
    },
    {
     "data": {
      "text/plain": [
       "A      10\n",
       "B      20\n",
       "C      30\n",
       "E      50\n",
       "D    1000\n",
       "dtype: int64"
      ]
     },
     "execution_count": 11,
     "metadata": {},
     "output_type": "execute_result"
    }
   ],
   "source": [
    "# ordenar valores\n",
    "print(\"order:\")\n",
    "my_serie.sort_values()"
   ]
  },
  {
   "cell_type": "code",
   "execution_count": 12,
   "metadata": {},
   "outputs": [
    {
     "name": "stdout",
     "output_type": "stream",
     "text": [
      "order:\n"
     ]
    },
    {
     "data": {
      "text/plain": [
       "D    1000\n",
       "E      50\n",
       "C      30\n",
       "B      20\n",
       "A      10\n",
       "dtype: int64"
      ]
     },
     "execution_count": 12,
     "metadata": {},
     "output_type": "execute_result"
    }
   ],
   "source": [
    "# ordenar valores\n",
    "print(\"order:\")\n",
    "my_serie.sort_values(ascending  = False)"
   ]
  },
  {
   "cell_type": "markdown",
   "metadata": {},
   "source": [
    "### Operaciones matemáticas\n",
    "\n",
    "Al igual que numpy, las series de pandas pueden realizar operaciones matemáticas similares (mientrás los arreglos a operar sean del tipo numérico). Por otro lado existen otras funciones de utilidad."
   ]
  },
  {
   "cell_type": "markdown",
   "metadata": {},
   "source": [
    "**Básicas**"
   ]
  },
  {
   "cell_type": "code",
   "execution_count": 13,
   "metadata": {},
   "outputs": [],
   "source": [
    "s1 = pd.Series([1,2,3,4,5])\n",
    "s2 = pd.Series([1,1,2,2,2])"
   ]
  },
  {
   "cell_type": "code",
   "execution_count": 14,
   "metadata": {},
   "outputs": [
    {
     "name": "stdout",
     "output_type": "stream",
     "text": [
      "suma: \n",
      "0    2\n",
      "1    3\n",
      "2    5\n",
      "3    6\n",
      "4    7\n",
      "dtype: int64\n",
      "\n"
     ]
    }
   ],
   "source": [
    "# suma\n",
    "print(f\"suma: \\n{s1+s2}\\n\")"
   ]
  },
  {
   "cell_type": "code",
   "execution_count": 15,
   "metadata": {},
   "outputs": [
    {
     "name": "stdout",
     "output_type": "stream",
     "text": [
      "multiplicacion: \n",
      "0     1\n",
      "1     2\n",
      "2     6\n",
      "3     8\n",
      "4    10\n",
      "dtype: int64\n"
     ]
    }
   ],
   "source": [
    "# multiplicacion\n",
    "print(f\"multiplicacion: \\n{s1*s2}\")"
   ]
  },
  {
   "cell_type": "markdown",
   "metadata": {},
   "source": [
    "**Estadísticas**"
   ]
  },
  {
   "cell_type": "code",
   "execution_count": 16,
   "metadata": {},
   "outputs": [
    {
     "name": "stdout",
     "output_type": "stream",
     "text": [
      "max:    5\n",
      "min:    1\n",
      "mean:   3.0\n",
      "median: 3.0\n"
     ]
    }
   ],
   "source": [
    "# crear serie\n",
    "s1 = pd.Series([1,1,1,2,2,2,3,3,3,4,5,5,5,5])\n",
    "print(f\"max:    {s1.max()}\") # maximo\n",
    "print(f\"min:    {s1.min()}\") # minimo\n",
    "print(f\"mean:   {s1.mean()}\") # promedio\n",
    "print(f\"median: {s1.median()}\") # mediana"
   ]
  },
  {
   "cell_type": "code",
   "execution_count": 17,
   "metadata": {},
   "outputs": [
    {
     "data": {
      "text/plain": [
       "count    14.000000\n",
       "mean      3.000000\n",
       "std       1.568929\n",
       "min       1.000000\n",
       "25%       2.000000\n",
       "50%       3.000000\n",
       "75%       4.750000\n",
       "max       5.000000\n",
       "dtype: float64"
      ]
     },
     "execution_count": 17,
     "metadata": {},
     "output_type": "execute_result"
    }
   ],
   "source": [
    "# funcion describe\n",
    "s1.describe()"
   ]
  },
  {
   "cell_type": "markdown",
   "metadata": {},
   "source": [
    "**Conteos**"
   ]
  },
  {
   "cell_type": "code",
   "execution_count": 18,
   "metadata": {},
   "outputs": [
    {
     "name": "stdout",
     "output_type": "stream",
     "text": [
      "Conteo:\n",
      "c    4\n",
      "a    2\n",
      "b    1\n",
      "d    1\n",
      "dtype: int64\n"
     ]
    }
   ],
   "source": [
    "# funcion count_values\n",
    "s2 = pd.Series([\"a\",\"a\",\"b\",\"c\",\"c\",\"c\",\"c\",\"d\",])\n",
    "print(f\"Conteo:\\n{s2.value_counts()}\")"
   ]
  },
  {
   "cell_type": "markdown",
   "metadata": {},
   "source": [
    "### Filtro\n",
    "\n",
    "En Pandas, puedes aplicar filtros o máscaras a un DataFrame utilizando operaciones lógicas y comparativas. Esto te permite seleccionar y filtrar las filas que cumplan con ciertas condiciones específicas. \n"
   ]
  },
  {
   "cell_type": "code",
   "execution_count": 19,
   "metadata": {},
   "outputs": [],
   "source": [
    "# 1. definir valor maximo \n",
    "n_max = s1.max()"
   ]
  },
  {
   "cell_type": "code",
   "execution_count": 20,
   "metadata": {},
   "outputs": [],
   "source": [
    "# 2.- definir \"mask\" que busca el valor objetivo\n",
    "mask = (s1 == n_max)"
   ]
  },
  {
   "cell_type": "code",
   "execution_count": 21,
   "metadata": {},
   "outputs": [
    {
     "data": {
      "text/plain": [
       "10    5\n",
       "11    5\n",
       "12    5\n",
       "13    5\n",
       "dtype: int64"
      ]
     },
     "execution_count": 21,
     "metadata": {},
     "output_type": "execute_result"
    }
   ],
   "source": [
    "# 3.- aplicar mask sobre la serie\n",
    "s1[mask]"
   ]
  },
  {
   "cell_type": "markdown",
   "metadata": {},
   "source": [
    "### Valores Nulos o datos perdidos\n",
    "\n",
    "En algunas ocaciones, los arreglos no tienen información en una determinada posición, lo cual puede ser perjudicial si no se tiene control sobre estos valores.\n",
    "\n",
    "**Encontrar valores nulos**"
   ]
  },
  {
   "cell_type": "code",
   "execution_count": 22,
   "metadata": {},
   "outputs": [
    {
     "data": {
      "text/plain": [
       "0    1.0\n",
       "1    2.0\n",
       "2    NaN\n",
       "3    4.0\n",
       "4    5.0\n",
       "5    6.0\n",
       "6    7.0\n",
       "7    NaN\n",
       "8    9.0\n",
       "dtype: float64"
      ]
     },
     "execution_count": 22,
     "metadata": {},
     "output_type": "execute_result"
    }
   ],
   "source": [
    "# crear serie\n",
    "s_null = pd.Series([1,2,np.nan,4,5,6,7,np.nan,9])\n",
    "s_null"
   ]
  },
  {
   "cell_type": "code",
   "execution_count": 23,
   "metadata": {},
   "outputs": [
    {
     "name": "stdout",
     "output_type": "stream",
     "text": [
      "is null?:\n",
      "\n",
      "0    False\n",
      "1    False\n",
      "2     True\n",
      "3    False\n",
      "4    False\n",
      "5    False\n",
      "6    False\n",
      "7     True\n",
      "8    False\n",
      "dtype: bool\n"
     ]
    }
   ],
   "source": [
    "# mask valores nulos\n",
    "print(\"is null?:\\n\")\n",
    "print(s_null.isnull() )"
   ]
  },
  {
   "cell_type": "code",
   "execution_count": 24,
   "metadata": {},
   "outputs": [
    {
     "name": "stdout",
     "output_type": "stream",
     "text": [
      "null serie: \n",
      "\n",
      "2   NaN\n",
      "7   NaN\n",
      "dtype: float64\n"
     ]
    }
   ],
   "source": [
    "# filtrar valores nulos\n",
    "print(\"null serie: \\n\")\n",
    "print(s_null[s_null.isnull()] )"
   ]
  },
  {
   "cell_type": "markdown",
   "metadata": {},
   "source": [
    "**Encontrar valores no nulos**"
   ]
  },
  {
   "cell_type": "code",
   "execution_count": 25,
   "metadata": {},
   "outputs": [
    {
     "name": "stdout",
     "output_type": "stream",
     "text": [
      "serie:\n",
      "0    1.0\n",
      "1    2.0\n",
      "2    NaN\n",
      "3    4.0\n",
      "4    5.0\n",
      "5    6.0\n",
      "6    7.0\n",
      "7    NaN\n",
      "8    9.0\n",
      "dtype: float64\n"
     ]
    }
   ],
   "source": [
    "# imprimir serie\n",
    "print(\"serie:\")\n",
    "print( s_null )"
   ]
  },
  {
   "cell_type": "code",
   "execution_count": 26,
   "metadata": {},
   "outputs": [
    {
     "name": "stdout",
     "output_type": "stream",
     "text": [
      "\n",
      "is not null?:\n",
      "0     True\n",
      "1     True\n",
      "2    False\n",
      "3     True\n",
      "4     True\n",
      "5     True\n",
      "6     True\n",
      "7    False\n",
      "8     True\n",
      "dtype: bool\n"
     ]
    }
   ],
   "source": [
    "# mask valores no nulos\n",
    "print(\"\\nis not null?:\")\n",
    "print(s_null.notnull() )"
   ]
  },
  {
   "cell_type": "code",
   "execution_count": 27,
   "metadata": {},
   "outputs": [
    {
     "name": "stdout",
     "output_type": "stream",
     "text": [
      "\n",
      "serie with not null values\n",
      "0    1.0\n",
      "1    2.0\n",
      "3    4.0\n",
      "4    5.0\n",
      "5    6.0\n",
      "6    7.0\n",
      "8    9.0\n",
      "dtype: float64\n"
     ]
    }
   ],
   "source": [
    "# filtrar valores no nulos\n",
    "print(\"\\nserie with not null values\")\n",
    "print(s_null[s_null.notnull()] )"
   ]
  },
  {
   "cell_type": "markdown",
   "metadata": {},
   "source": [
    "La pregunta que nos queda hacer es: ¿ Qué se debe hacer con los valores nulos ?, la respuesta es **depende**.\n",
    "\n",
    "   * Si tenemos muchos datos, lo más probable es que se puedan eliminar estos datos sin culpa.\n",
    "   * Si se tienen poco datos, lo más probable es que se necesite inputar un valor por defecto a los valores nulos (**ejemplo**: el promedio)."
   ]
  },
  {
   "cell_type": "markdown",
   "metadata": {},
   "source": [
    "###  Manejo de Fechas\n",
    "\n",
    "Pandas también trae módulos para trabajar el formato de fechas."
   ]
  },
  {
   "cell_type": "markdown",
   "metadata": {},
   "source": [
    "**Crear Serie de fechas**"
   ]
  },
  {
   "cell_type": "code",
   "execution_count": 28,
   "metadata": {},
   "outputs": [],
   "source": [
    "# crear serie de fechas\n",
    "date_rng = pd.date_range(start='1/1/2019', end='1/03/2019', freq='4H')"
   ]
  },
  {
   "cell_type": "code",
   "execution_count": 29,
   "metadata": {},
   "outputs": [
    {
     "name": "stdout",
     "output_type": "stream",
     "text": [
      "serie:\n",
      "DatetimeIndex(['2019-01-01 00:00:00', '2019-01-01 04:00:00',\n",
      "               '2019-01-01 08:00:00', '2019-01-01 12:00:00',\n",
      "               '2019-01-01 16:00:00', '2019-01-01 20:00:00',\n",
      "               '2019-01-02 00:00:00', '2019-01-02 04:00:00',\n",
      "               '2019-01-02 08:00:00', '2019-01-02 12:00:00',\n",
      "               '2019-01-02 16:00:00', '2019-01-02 20:00:00',\n",
      "               '2019-01-03 00:00:00'],\n",
      "              dtype='datetime64[ns]', freq='4H')\n"
     ]
    }
   ],
   "source": [
    "# imprimir serie\n",
    "print(\"serie:\")\n",
    "print( date_rng )"
   ]
  },
  {
   "cell_type": "code",
   "execution_count": 30,
   "metadata": {},
   "outputs": [
    {
     "name": "stdout",
     "output_type": "stream",
     "text": [
      "type:\n",
      "\n",
      "<class 'pandas.core.indexes.datetimes.DatetimeIndex'>\n"
     ]
    }
   ],
   "source": [
    "# tipo \n",
    "print(\"type:\\n\")\n",
    "print( type(date_rng) )"
   ]
  },
  {
   "cell_type": "markdown",
   "metadata": {},
   "source": [
    "**Atributos de las fechas**"
   ]
  },
  {
   "cell_type": "code",
   "execution_count": 31,
   "metadata": {},
   "outputs": [
    {
     "name": "stdout",
     "output_type": "stream",
     "text": [
      "date:\n",
      "\n",
      "[datetime.date(2019, 1, 1) datetime.date(2019, 1, 1)\n",
      " datetime.date(2019, 1, 1) datetime.date(2019, 1, 1)\n",
      " datetime.date(2019, 1, 1) datetime.date(2019, 1, 1)\n",
      " datetime.date(2019, 1, 2) datetime.date(2019, 1, 2)\n",
      " datetime.date(2019, 1, 2) datetime.date(2019, 1, 2)\n",
      " datetime.date(2019, 1, 2) datetime.date(2019, 1, 2)\n",
      " datetime.date(2019, 1, 3)]\n",
      "\n",
      "hour:\n",
      "\n",
      "[datetime.time(0, 0) datetime.time(4, 0) datetime.time(8, 0)\n",
      " datetime.time(12, 0) datetime.time(16, 0) datetime.time(20, 0)\n",
      " datetime.time(0, 0) datetime.time(4, 0) datetime.time(8, 0)\n",
      " datetime.time(12, 0) datetime.time(16, 0) datetime.time(20, 0)\n",
      " datetime.time(0, 0)]\n"
     ]
    }
   ],
   "source": [
    "# obtener fechas\n",
    "print(\"date:\\n\")\n",
    "print(date_rng.date)\n",
    "\n",
    "# obtener tiempo\n",
    "print(\"\\nhour:\\n\")\n",
    "print(date_rng.time)"
   ]
  },
  {
   "cell_type": "markdown",
   "metadata": {},
   "source": [
    "**Fechas y string**"
   ]
  },
  {
   "cell_type": "code",
   "execution_count": 32,
   "metadata": {},
   "outputs": [
    {
     "name": "stdout",
     "output_type": "stream",
     "text": [
      "datetime to string: \n",
      "\n",
      "['2019-01-01 00:00:00' '2019-01-01 04:00:00' '2019-01-01 08:00:00'\n",
      " '2019-01-01 12:00:00' '2019-01-01 16:00:00' '2019-01-01 20:00:00'\n",
      " '2019-01-02 00:00:00' '2019-01-02 04:00:00' '2019-01-02 08:00:00'\n",
      " '2019-01-02 12:00:00' '2019-01-02 16:00:00' '2019-01-02 20:00:00'\n",
      " '2019-01-03 00:00:00']\n"
     ]
    }
   ],
   "source": [
    "# elementos de datetime a string \n",
    "string_date_rng = [str(x) for x in date_rng]\n",
    "\n",
    "print(\"datetime to string: \\n\")\n",
    "print( np.array(string_date_rng) )"
   ]
  },
  {
   "cell_type": "code",
   "execution_count": 33,
   "metadata": {},
   "outputs": [
    {
     "name": "stdout",
     "output_type": "stream",
     "text": [
      "string to datetime:\n",
      "\n",
      "DatetimeIndex(['2019-01-01 00:00:00', '2019-01-01 04:00:00',\n",
      "               '2019-01-01 08:00:00', '2019-01-01 12:00:00',\n",
      "               '2019-01-01 16:00:00', '2019-01-01 20:00:00',\n",
      "               '2019-01-02 00:00:00', '2019-01-02 04:00:00',\n",
      "               '2019-01-02 08:00:00', '2019-01-02 12:00:00',\n",
      "               '2019-01-02 16:00:00', '2019-01-02 20:00:00',\n",
      "               '2019-01-03 00:00:00'],\n",
      "              dtype='datetime64[ns]', freq=None)\n"
     ]
    }
   ],
   "source": [
    "# elementos de string a datetime \n",
    "timestamp_date_rng = pd.to_datetime(string_date_rng, infer_datetime_format=True)\n",
    "\n",
    "print(\"string to datetime:\\n\")\n",
    "print( timestamp_date_rng )"
   ]
  },
  {
   "cell_type": "markdown",
   "metadata": {},
   "source": [
    "## Pandas Dataframes\n",
    "\n",
    "### Trabajando  con pandas.DataFrames\n",
    "\n",
    "<img src=\"https://drive.google.com/uc?export=view&id=1lWYOFwrVoQcGOx2RcuzMqTGhRpkv6zWM\" width = \"700\" align=\"center\"/>\n",
    "\n",
    "\n",
    "Como se mencina anteriormente, los dataframes son arreglos de series, los cuales pueden ser de distintos tipos (numéricos, string, etc.). En esta parte mostraremos un ejemplo aplicado de las distintas funcionalidades de los dataframes."
   ]
  },
  {
   "cell_type": "markdown",
   "metadata": {},
   "source": [
    "### Creación de dataframes\n",
    "\n",
    "La creación se puede hacer de variadas formas con listas, dictionarios , numpy array , entre otros.\n"
   ]
  },
  {
   "cell_type": "code",
   "execution_count": 34,
   "metadata": {},
   "outputs": [
    {
     "data": {
      "text/html": [
       "<div>\n",
       "<style scoped>\n",
       "    .dataframe tbody tr th:only-of-type {\n",
       "        vertical-align: middle;\n",
       "    }\n",
       "\n",
       "    .dataframe tbody tr th {\n",
       "        vertical-align: top;\n",
       "    }\n",
       "\n",
       "    .dataframe thead th {\n",
       "        text-align: right;\n",
       "    }\n",
       "</style>\n",
       "<table border=\"1\" class=\"dataframe\">\n",
       "  <thead>\n",
       "    <tr style=\"text-align: right;\">\n",
       "      <th></th>\n",
       "    </tr>\n",
       "  </thead>\n",
       "  <tbody>\n",
       "  </tbody>\n",
       "</table>\n",
       "</div>"
      ],
      "text/plain": [
       "Empty DataFrame\n",
       "Columns: []\n",
       "Index: []"
      ]
     },
     "execution_count": 34,
     "metadata": {},
     "output_type": "execute_result"
    }
   ],
   "source": [
    "# empty dataframe\n",
    "df_empty = pd.DataFrame()\n",
    "df_empty"
   ]
  },
  {
   "cell_type": "code",
   "execution_count": 35,
   "metadata": {},
   "outputs": [
    {
     "data": {
      "text/html": [
       "<div>\n",
       "<style scoped>\n",
       "    .dataframe tbody tr th:only-of-type {\n",
       "        vertical-align: middle;\n",
       "    }\n",
       "\n",
       "    .dataframe tbody tr th {\n",
       "        vertical-align: top;\n",
       "    }\n",
       "\n",
       "    .dataframe thead th {\n",
       "        text-align: right;\n",
       "    }\n",
       "</style>\n",
       "<table border=\"1\" class=\"dataframe\">\n",
       "  <thead>\n",
       "    <tr style=\"text-align: right;\">\n",
       "      <th></th>\n",
       "      <th>nombre</th>\n",
       "      <th>apellido</th>\n",
       "      <th>edad</th>\n",
       "    </tr>\n",
       "  </thead>\n",
       "  <tbody>\n",
       "    <tr>\n",
       "      <th>0</th>\n",
       "      <td>nombre_01</td>\n",
       "      <td>apellido_01</td>\n",
       "      <td>60</td>\n",
       "    </tr>\n",
       "    <tr>\n",
       "      <th>1</th>\n",
       "      <td>nombre_02</td>\n",
       "      <td>apellido_02</td>\n",
       "      <td>14</td>\n",
       "    </tr>\n",
       "  </tbody>\n",
       "</table>\n",
       "</div>"
      ],
      "text/plain": [
       "      nombre     apellido  edad\n",
       "0  nombre_01  apellido_01    60\n",
       "1  nombre_02  apellido_02    14"
      ]
     },
     "execution_count": 35,
     "metadata": {},
     "output_type": "execute_result"
    }
   ],
   "source": [
    "# dataframe with list\n",
    "df_list = pd.DataFrame(\n",
    "    [\n",
    "        [\"nombre_01\", \"apellido_01\", 60],\n",
    "        [\"nombre_02\", \"apellido_02\", 14]\n",
    "    ],\n",
    "    \n",
    "    columns = [\"nombre\", \"apellido\", \"edad\"]\n",
    ")\n",
    "df_list"
   ]
  },
  {
   "cell_type": "code",
   "execution_count": 36,
   "metadata": {},
   "outputs": [
    {
     "data": {
      "text/html": [
       "<div>\n",
       "<style scoped>\n",
       "    .dataframe tbody tr th:only-of-type {\n",
       "        vertical-align: middle;\n",
       "    }\n",
       "\n",
       "    .dataframe tbody tr th {\n",
       "        vertical-align: top;\n",
       "    }\n",
       "\n",
       "    .dataframe thead th {\n",
       "        text-align: right;\n",
       "    }\n",
       "</style>\n",
       "<table border=\"1\" class=\"dataframe\">\n",
       "  <thead>\n",
       "    <tr style=\"text-align: right;\">\n",
       "      <th></th>\n",
       "      <th>nombre</th>\n",
       "      <th>apellido</th>\n",
       "      <th>edad</th>\n",
       "    </tr>\n",
       "  </thead>\n",
       "  <tbody>\n",
       "    <tr>\n",
       "      <th>0</th>\n",
       "      <td>nombre_01</td>\n",
       "      <td>apellido_01</td>\n",
       "      <td>60</td>\n",
       "    </tr>\n",
       "    <tr>\n",
       "      <th>1</th>\n",
       "      <td>nombre_02</td>\n",
       "      <td>apellido_02</td>\n",
       "      <td>14</td>\n",
       "    </tr>\n",
       "  </tbody>\n",
       "</table>\n",
       "</div>"
      ],
      "text/plain": [
       "      nombre     apellido  edad\n",
       "0  nombre_01  apellido_01    60\n",
       "1  nombre_02  apellido_02    14"
      ]
     },
     "execution_count": 36,
     "metadata": {},
     "output_type": "execute_result"
    }
   ],
   "source": [
    "# dataframe with dct\n",
    "df_dct =  pd.DataFrame(\n",
    "    {\n",
    "        \"nombre\": [\"nombre_01\", \"nombre_02\",],\n",
    "        \"apellido\": [\"apellido_01\", \"apellido_02\"],\n",
    "        \"edad\": np.array([60,14]),\n",
    "    }\n",
    ")\n",
    "\n",
    "df_dct"
   ]
  },
  {
   "cell_type": "markdown",
   "metadata": {},
   "source": [
    "### Lectura de datos con dataframes\n",
    "\n",
    "En general, cuando se trabajan con datos, estos se almacenan en algún lugar y en algún tipo de formato, por ejemplo:\n",
    "* `.txt`\n",
    "* `.csv`\n",
    "* `.xlsx`\n",
    "* `.db`\n",
    "* etc.\n",
    " \n",
    " \n",
    "\n",
    "Para cada formato, existe un módulo para realizar la lectura de datos. En este caso, se analiza el conjunto de datos 'player_data.csv', el cual muestra informacion básica de algunos jugadores de la NBA.\n",
    "\n",
    "<img src=\"https://drive.google.com/uc?export=view&id=1kByBLEHCc8p6p-lkiRuZbgslY2C0_q-e\" width = \"300\" align=\"center\"/>\n",
    "\n",
    "\n"
   ]
  },
  {
   "cell_type": "code",
   "execution_count": 37,
   "metadata": {},
   "outputs": [
    {
     "data": {
      "text/html": [
       "<div>\n",
       "<style scoped>\n",
       "    .dataframe tbody tr th:only-of-type {\n",
       "        vertical-align: middle;\n",
       "    }\n",
       "\n",
       "    .dataframe tbody tr th {\n",
       "        vertical-align: top;\n",
       "    }\n",
       "\n",
       "    .dataframe thead th {\n",
       "        text-align: right;\n",
       "    }\n",
       "</style>\n",
       "<table border=\"1\" class=\"dataframe\">\n",
       "  <thead>\n",
       "    <tr style=\"text-align: right;\">\n",
       "      <th></th>\n",
       "      <th>name</th>\n",
       "      <th>year_start</th>\n",
       "      <th>year_end</th>\n",
       "      <th>position</th>\n",
       "      <th>height</th>\n",
       "      <th>weight</th>\n",
       "      <th>birth_date</th>\n",
       "      <th>college</th>\n",
       "    </tr>\n",
       "  </thead>\n",
       "  <tbody>\n",
       "    <tr>\n",
       "      <th>0</th>\n",
       "      <td>Alaa Abdelnaby</td>\n",
       "      <td>1991</td>\n",
       "      <td>1995</td>\n",
       "      <td>F-C</td>\n",
       "      <td>6-10</td>\n",
       "      <td>240.0</td>\n",
       "      <td>June 24, 1968</td>\n",
       "      <td>Duke University</td>\n",
       "    </tr>\n",
       "    <tr>\n",
       "      <th>1</th>\n",
       "      <td>Zaid Abdul-Aziz</td>\n",
       "      <td>1969</td>\n",
       "      <td>1978</td>\n",
       "      <td>C-F</td>\n",
       "      <td>6-9</td>\n",
       "      <td>235.0</td>\n",
       "      <td>April 7, 1946</td>\n",
       "      <td>Iowa State University</td>\n",
       "    </tr>\n",
       "    <tr>\n",
       "      <th>2</th>\n",
       "      <td>Kareem Abdul-Jabbar</td>\n",
       "      <td>1970</td>\n",
       "      <td>1989</td>\n",
       "      <td>C</td>\n",
       "      <td>7-2</td>\n",
       "      <td>225.0</td>\n",
       "      <td>April 16, 1947</td>\n",
       "      <td>University of California, Los Angeles</td>\n",
       "    </tr>\n",
       "    <tr>\n",
       "      <th>3</th>\n",
       "      <td>Mahmoud Abdul-Rauf</td>\n",
       "      <td>1991</td>\n",
       "      <td>2001</td>\n",
       "      <td>G</td>\n",
       "      <td>6-1</td>\n",
       "      <td>162.0</td>\n",
       "      <td>March 9, 1969</td>\n",
       "      <td>Louisiana State University</td>\n",
       "    </tr>\n",
       "    <tr>\n",
       "      <th>4</th>\n",
       "      <td>Tariq Abdul-Wahad</td>\n",
       "      <td>1998</td>\n",
       "      <td>2003</td>\n",
       "      <td>F</td>\n",
       "      <td>6-6</td>\n",
       "      <td>223.0</td>\n",
       "      <td>November 3, 1974</td>\n",
       "      <td>San Jose State University</td>\n",
       "    </tr>\n",
       "    <tr>\n",
       "      <th>...</th>\n",
       "      <td>...</td>\n",
       "      <td>...</td>\n",
       "      <td>...</td>\n",
       "      <td>...</td>\n",
       "      <td>...</td>\n",
       "      <td>...</td>\n",
       "      <td>...</td>\n",
       "      <td>...</td>\n",
       "    </tr>\n",
       "    <tr>\n",
       "      <th>4545</th>\n",
       "      <td>Ante Zizic</td>\n",
       "      <td>2018</td>\n",
       "      <td>2018</td>\n",
       "      <td>F-C</td>\n",
       "      <td>6-11</td>\n",
       "      <td>250.0</td>\n",
       "      <td>January 4, 1997</td>\n",
       "      <td>NaN</td>\n",
       "    </tr>\n",
       "    <tr>\n",
       "      <th>4546</th>\n",
       "      <td>Jim Zoet</td>\n",
       "      <td>1983</td>\n",
       "      <td>1983</td>\n",
       "      <td>C</td>\n",
       "      <td>7-1</td>\n",
       "      <td>240.0</td>\n",
       "      <td>December 20, 1953</td>\n",
       "      <td>Kent State University</td>\n",
       "    </tr>\n",
       "    <tr>\n",
       "      <th>4547</th>\n",
       "      <td>Bill Zopf</td>\n",
       "      <td>1971</td>\n",
       "      <td>1971</td>\n",
       "      <td>G</td>\n",
       "      <td>6-1</td>\n",
       "      <td>170.0</td>\n",
       "      <td>June 7, 1948</td>\n",
       "      <td>Duquesne University</td>\n",
       "    </tr>\n",
       "    <tr>\n",
       "      <th>4548</th>\n",
       "      <td>Ivica Zubac</td>\n",
       "      <td>2017</td>\n",
       "      <td>2018</td>\n",
       "      <td>C</td>\n",
       "      <td>7-1</td>\n",
       "      <td>265.0</td>\n",
       "      <td>March 18, 1997</td>\n",
       "      <td>NaN</td>\n",
       "    </tr>\n",
       "    <tr>\n",
       "      <th>4549</th>\n",
       "      <td>Matt Zunic</td>\n",
       "      <td>1949</td>\n",
       "      <td>1949</td>\n",
       "      <td>G-F</td>\n",
       "      <td>6-3</td>\n",
       "      <td>195.0</td>\n",
       "      <td>December 19, 1919</td>\n",
       "      <td>George Washington University</td>\n",
       "    </tr>\n",
       "  </tbody>\n",
       "</table>\n",
       "<p>4550 rows × 8 columns</p>\n",
       "</div>"
      ],
      "text/plain": [
       "                     name  year_start  year_end position height  weight  \\\n",
       "0          Alaa Abdelnaby        1991      1995      F-C   6-10   240.0   \n",
       "1         Zaid Abdul-Aziz        1969      1978      C-F    6-9   235.0   \n",
       "2     Kareem Abdul-Jabbar        1970      1989        C    7-2   225.0   \n",
       "3      Mahmoud Abdul-Rauf        1991      2001        G    6-1   162.0   \n",
       "4       Tariq Abdul-Wahad        1998      2003        F    6-6   223.0   \n",
       "...                   ...         ...       ...      ...    ...     ...   \n",
       "4545           Ante Zizic        2018      2018      F-C   6-11   250.0   \n",
       "4546             Jim Zoet        1983      1983        C    7-1   240.0   \n",
       "4547            Bill Zopf        1971      1971        G    6-1   170.0   \n",
       "4548          Ivica Zubac        2017      2018        C    7-1   265.0   \n",
       "4549           Matt Zunic        1949      1949      G-F    6-3   195.0   \n",
       "\n",
       "             birth_date                                college  \n",
       "0         June 24, 1968                        Duke University  \n",
       "1         April 7, 1946                  Iowa State University  \n",
       "2        April 16, 1947  University of California, Los Angeles  \n",
       "3         March 9, 1969             Louisiana State University  \n",
       "4      November 3, 1974              San Jose State University  \n",
       "...                 ...                                    ...  \n",
       "4545    January 4, 1997                                    NaN  \n",
       "4546  December 20, 1953                  Kent State University  \n",
       "4547       June 7, 1948                    Duquesne University  \n",
       "4548     March 18, 1997                                    NaN  \n",
       "4549  December 19, 1919           George Washington University  \n",
       "\n",
       "[4550 rows x 8 columns]"
      ]
     },
     "execution_count": 37,
     "metadata": {},
     "output_type": "execute_result"
    }
   ],
   "source": [
    "# load data\n",
    "\n",
    "url='https://drive.google.com/file/d/1V7k6JxEn7aJuWHmQH0ZxzbZTNZJeMkvs/view?usp=drive_link'\n",
    "url='https://drive.google.com/uc?id=' + url.split('/')[-2]\n",
    "\n",
    "player_data = pd.read_csv(url, sep=\",\" )\n",
    "player_data"
   ]
  },
  {
   "cell_type": "markdown",
   "metadata": {},
   "source": [
    "### Módulos básicos\n",
    "\n",
    "Existen módulos para comprender rápidamente la naturaleza del dataframe."
   ]
  },
  {
   "cell_type": "code",
   "execution_count": 38,
   "metadata": {},
   "outputs": [
    {
     "name": "stdout",
     "output_type": "stream",
     "text": [
      "first 5 rows:\n"
     ]
    },
    {
     "data": {
      "text/html": [
       "<div>\n",
       "<style scoped>\n",
       "    .dataframe tbody tr th:only-of-type {\n",
       "        vertical-align: middle;\n",
       "    }\n",
       "\n",
       "    .dataframe tbody tr th {\n",
       "        vertical-align: top;\n",
       "    }\n",
       "\n",
       "    .dataframe thead th {\n",
       "        text-align: right;\n",
       "    }\n",
       "</style>\n",
       "<table border=\"1\" class=\"dataframe\">\n",
       "  <thead>\n",
       "    <tr style=\"text-align: right;\">\n",
       "      <th></th>\n",
       "      <th>name</th>\n",
       "      <th>year_start</th>\n",
       "      <th>year_end</th>\n",
       "      <th>position</th>\n",
       "      <th>height</th>\n",
       "      <th>weight</th>\n",
       "      <th>birth_date</th>\n",
       "      <th>college</th>\n",
       "    </tr>\n",
       "  </thead>\n",
       "  <tbody>\n",
       "    <tr>\n",
       "      <th>0</th>\n",
       "      <td>Alaa Abdelnaby</td>\n",
       "      <td>1991</td>\n",
       "      <td>1995</td>\n",
       "      <td>F-C</td>\n",
       "      <td>6-10</td>\n",
       "      <td>240.0</td>\n",
       "      <td>June 24, 1968</td>\n",
       "      <td>Duke University</td>\n",
       "    </tr>\n",
       "    <tr>\n",
       "      <th>1</th>\n",
       "      <td>Zaid Abdul-Aziz</td>\n",
       "      <td>1969</td>\n",
       "      <td>1978</td>\n",
       "      <td>C-F</td>\n",
       "      <td>6-9</td>\n",
       "      <td>235.0</td>\n",
       "      <td>April 7, 1946</td>\n",
       "      <td>Iowa State University</td>\n",
       "    </tr>\n",
       "    <tr>\n",
       "      <th>2</th>\n",
       "      <td>Kareem Abdul-Jabbar</td>\n",
       "      <td>1970</td>\n",
       "      <td>1989</td>\n",
       "      <td>C</td>\n",
       "      <td>7-2</td>\n",
       "      <td>225.0</td>\n",
       "      <td>April 16, 1947</td>\n",
       "      <td>University of California, Los Angeles</td>\n",
       "    </tr>\n",
       "    <tr>\n",
       "      <th>3</th>\n",
       "      <td>Mahmoud Abdul-Rauf</td>\n",
       "      <td>1991</td>\n",
       "      <td>2001</td>\n",
       "      <td>G</td>\n",
       "      <td>6-1</td>\n",
       "      <td>162.0</td>\n",
       "      <td>March 9, 1969</td>\n",
       "      <td>Louisiana State University</td>\n",
       "    </tr>\n",
       "    <tr>\n",
       "      <th>4</th>\n",
       "      <td>Tariq Abdul-Wahad</td>\n",
       "      <td>1998</td>\n",
       "      <td>2003</td>\n",
       "      <td>F</td>\n",
       "      <td>6-6</td>\n",
       "      <td>223.0</td>\n",
       "      <td>November 3, 1974</td>\n",
       "      <td>San Jose State University</td>\n",
       "    </tr>\n",
       "  </tbody>\n",
       "</table>\n",
       "</div>"
      ],
      "text/plain": [
       "                  name  year_start  year_end position height  weight  \\\n",
       "0       Alaa Abdelnaby        1991      1995      F-C   6-10   240.0   \n",
       "1      Zaid Abdul-Aziz        1969      1978      C-F    6-9   235.0   \n",
       "2  Kareem Abdul-Jabbar        1970      1989        C    7-2   225.0   \n",
       "3   Mahmoud Abdul-Rauf        1991      2001        G    6-1   162.0   \n",
       "4    Tariq Abdul-Wahad        1998      2003        F    6-6   223.0   \n",
       "\n",
       "         birth_date                                college  \n",
       "0     June 24, 1968                        Duke University  \n",
       "1     April 7, 1946                  Iowa State University  \n",
       "2    April 16, 1947  University of California, Los Angeles  \n",
       "3     March 9, 1969             Louisiana State University  \n",
       "4  November 3, 1974              San Jose State University  "
      ]
     },
     "execution_count": 38,
     "metadata": {},
     "output_type": "execute_result"
    }
   ],
   "source": [
    "# primeras silas\n",
    "print(\"first 5 rows:\")\n",
    "player_data.head(5)"
   ]
  },
  {
   "cell_type": "code",
   "execution_count": 39,
   "metadata": {},
   "outputs": [
    {
     "name": "stdout",
     "output_type": "stream",
     "text": [
      "\n",
      "last 5 rows:\n"
     ]
    },
    {
     "data": {
      "text/html": [
       "<div>\n",
       "<style scoped>\n",
       "    .dataframe tbody tr th:only-of-type {\n",
       "        vertical-align: middle;\n",
       "    }\n",
       "\n",
       "    .dataframe tbody tr th {\n",
       "        vertical-align: top;\n",
       "    }\n",
       "\n",
       "    .dataframe thead th {\n",
       "        text-align: right;\n",
       "    }\n",
       "</style>\n",
       "<table border=\"1\" class=\"dataframe\">\n",
       "  <thead>\n",
       "    <tr style=\"text-align: right;\">\n",
       "      <th></th>\n",
       "      <th>name</th>\n",
       "      <th>year_start</th>\n",
       "      <th>year_end</th>\n",
       "      <th>position</th>\n",
       "      <th>height</th>\n",
       "      <th>weight</th>\n",
       "      <th>birth_date</th>\n",
       "      <th>college</th>\n",
       "    </tr>\n",
       "  </thead>\n",
       "  <tbody>\n",
       "    <tr>\n",
       "      <th>4545</th>\n",
       "      <td>Ante Zizic</td>\n",
       "      <td>2018</td>\n",
       "      <td>2018</td>\n",
       "      <td>F-C</td>\n",
       "      <td>6-11</td>\n",
       "      <td>250.0</td>\n",
       "      <td>January 4, 1997</td>\n",
       "      <td>NaN</td>\n",
       "    </tr>\n",
       "    <tr>\n",
       "      <th>4546</th>\n",
       "      <td>Jim Zoet</td>\n",
       "      <td>1983</td>\n",
       "      <td>1983</td>\n",
       "      <td>C</td>\n",
       "      <td>7-1</td>\n",
       "      <td>240.0</td>\n",
       "      <td>December 20, 1953</td>\n",
       "      <td>Kent State University</td>\n",
       "    </tr>\n",
       "    <tr>\n",
       "      <th>4547</th>\n",
       "      <td>Bill Zopf</td>\n",
       "      <td>1971</td>\n",
       "      <td>1971</td>\n",
       "      <td>G</td>\n",
       "      <td>6-1</td>\n",
       "      <td>170.0</td>\n",
       "      <td>June 7, 1948</td>\n",
       "      <td>Duquesne University</td>\n",
       "    </tr>\n",
       "    <tr>\n",
       "      <th>4548</th>\n",
       "      <td>Ivica Zubac</td>\n",
       "      <td>2017</td>\n",
       "      <td>2018</td>\n",
       "      <td>C</td>\n",
       "      <td>7-1</td>\n",
       "      <td>265.0</td>\n",
       "      <td>March 18, 1997</td>\n",
       "      <td>NaN</td>\n",
       "    </tr>\n",
       "    <tr>\n",
       "      <th>4549</th>\n",
       "      <td>Matt Zunic</td>\n",
       "      <td>1949</td>\n",
       "      <td>1949</td>\n",
       "      <td>G-F</td>\n",
       "      <td>6-3</td>\n",
       "      <td>195.0</td>\n",
       "      <td>December 19, 1919</td>\n",
       "      <td>George Washington University</td>\n",
       "    </tr>\n",
       "  </tbody>\n",
       "</table>\n",
       "</div>"
      ],
      "text/plain": [
       "             name  year_start  year_end position height  weight  \\\n",
       "4545   Ante Zizic        2018      2018      F-C   6-11   250.0   \n",
       "4546     Jim Zoet        1983      1983        C    7-1   240.0   \n",
       "4547    Bill Zopf        1971      1971        G    6-1   170.0   \n",
       "4548  Ivica Zubac        2017      2018        C    7-1   265.0   \n",
       "4549   Matt Zunic        1949      1949      G-F    6-3   195.0   \n",
       "\n",
       "             birth_date                       college  \n",
       "4545    January 4, 1997                           NaN  \n",
       "4546  December 20, 1953         Kent State University  \n",
       "4547       June 7, 1948           Duquesne University  \n",
       "4548     March 18, 1997                           NaN  \n",
       "4549  December 19, 1919  George Washington University  "
      ]
     },
     "execution_count": 39,
     "metadata": {},
     "output_type": "execute_result"
    }
   ],
   "source": [
    "# ultimas filas\n",
    "print(\"\\nlast 5 rows:\")\n",
    "player_data.tail(5)"
   ]
  },
  {
   "cell_type": "code",
   "execution_count": 40,
   "metadata": {},
   "outputs": [
    {
     "name": "stdout",
     "output_type": "stream",
     "text": [
      "\n",
      "type of dataframe:\n"
     ]
    },
    {
     "data": {
      "text/plain": [
       "pandas.core.frame.DataFrame"
      ]
     },
     "execution_count": 40,
     "metadata": {},
     "output_type": "execute_result"
    }
   ],
   "source": [
    "# tipo\n",
    "print(\"\\ntype of dataframe:\")\n",
    "type(player_data)"
   ]
  },
  {
   "cell_type": "code",
   "execution_count": 41,
   "metadata": {},
   "outputs": [
    {
     "name": "stdout",
     "output_type": "stream",
     "text": [
      "\n",
      "type of columns:\n"
     ]
    },
    {
     "data": {
      "text/plain": [
       "name           object\n",
       "year_start      int64\n",
       "year_end        int64\n",
       "position       object\n",
       "height         object\n",
       "weight        float64\n",
       "birth_date     object\n",
       "college        object\n",
       "dtype: object"
      ]
     },
     "execution_count": 41,
     "metadata": {},
     "output_type": "execute_result"
    }
   ],
   "source": [
    "# tipo por columnas\n",
    "print(\"\\ntype of columns:\")\n",
    "player_data.dtypes"
   ]
  },
  {
   "cell_type": "code",
   "execution_count": 42,
   "metadata": {},
   "outputs": [
    {
     "name": "stdout",
     "output_type": "stream",
     "text": [
      "\n",
      "shape:\n"
     ]
    },
    {
     "data": {
      "text/plain": [
       "(4550, 8)"
      ]
     },
     "execution_count": 42,
     "metadata": {},
     "output_type": "execute_result"
    }
   ],
   "source": [
    "# dimension\n",
    "print(\"\\nshape:\")\n",
    "player_data.shape"
   ]
  },
  {
   "cell_type": "code",
   "execution_count": 43,
   "metadata": {},
   "outputs": [
    {
     "name": "stdout",
     "output_type": "stream",
     "text": [
      "\n",
      "cols:\n"
     ]
    },
    {
     "data": {
      "text/plain": [
       "Index(['name', 'year_start', 'year_end', 'position', 'height', 'weight',\n",
       "       'birth_date', 'college'],\n",
       "      dtype='object')"
      ]
     },
     "execution_count": 43,
     "metadata": {},
     "output_type": "execute_result"
    }
   ],
   "source": [
    "# nombre de las columnas\n",
    "print(\"\\ncols:\")\n",
    "player_data.columns"
   ]
  },
  {
   "cell_type": "code",
   "execution_count": 44,
   "metadata": {},
   "outputs": [
    {
     "name": "stdout",
     "output_type": "stream",
     "text": [
      "\n",
      "index:\n"
     ]
    },
    {
     "data": {
      "text/plain": [
       "RangeIndex(start=0, stop=4550, step=1)"
      ]
     },
     "execution_count": 44,
     "metadata": {},
     "output_type": "execute_result"
    }
   ],
   "source": [
    "# indice\n",
    "print(\"\\nindex:\")\n",
    "player_data.index"
   ]
  },
  {
   "cell_type": "code",
   "execution_count": 45,
   "metadata": {},
   "outputs": [
    {
     "name": "stdout",
     "output_type": "stream",
     "text": [
      "\n",
      "column 'position': \n"
     ]
    },
    {
     "data": {
      "text/plain": [
       "0    F-C\n",
       "1    C-F\n",
       "2      C\n",
       "3      G\n",
       "4      F\n",
       "Name: position, dtype: object"
      ]
     },
     "execution_count": 45,
     "metadata": {},
     "output_type": "execute_result"
    }
   ],
   "source": [
    "# acceder a la columna posicion\n",
    "print(\"\\ncolumn 'position': \")\n",
    "player_data['position'].head()"
   ]
  },
  {
   "cell_type": "code",
   "execution_count": 46,
   "metadata": {},
   "outputs": [
    {
     "data": {
      "text/html": [
       "<div>\n",
       "<style scoped>\n",
       "    .dataframe tbody tr th:only-of-type {\n",
       "        vertical-align: middle;\n",
       "    }\n",
       "\n",
       "    .dataframe tbody tr th {\n",
       "        vertical-align: top;\n",
       "    }\n",
       "\n",
       "    .dataframe thead th {\n",
       "        text-align: right;\n",
       "    }\n",
       "</style>\n",
       "<table border=\"1\" class=\"dataframe\">\n",
       "  <thead>\n",
       "    <tr style=\"text-align: right;\">\n",
       "      <th></th>\n",
       "      <th>name</th>\n",
       "      <th>year_start</th>\n",
       "      <th>year_end</th>\n",
       "      <th>position</th>\n",
       "      <th>height</th>\n",
       "      <th>weight</th>\n",
       "      <th>Birth</th>\n",
       "      <th>College</th>\n",
       "    </tr>\n",
       "  </thead>\n",
       "  <tbody>\n",
       "    <tr>\n",
       "      <th>0</th>\n",
       "      <td>Alaa Abdelnaby</td>\n",
       "      <td>1991</td>\n",
       "      <td>1995</td>\n",
       "      <td>F-C</td>\n",
       "      <td>6-10</td>\n",
       "      <td>240.0</td>\n",
       "      <td>June 24, 1968</td>\n",
       "      <td>Duke University</td>\n",
       "    </tr>\n",
       "    <tr>\n",
       "      <th>1</th>\n",
       "      <td>Zaid Abdul-Aziz</td>\n",
       "      <td>1969</td>\n",
       "      <td>1978</td>\n",
       "      <td>C-F</td>\n",
       "      <td>6-9</td>\n",
       "      <td>235.0</td>\n",
       "      <td>April 7, 1946</td>\n",
       "      <td>Iowa State University</td>\n",
       "    </tr>\n",
       "    <tr>\n",
       "      <th>2</th>\n",
       "      <td>Kareem Abdul-Jabbar</td>\n",
       "      <td>1970</td>\n",
       "      <td>1989</td>\n",
       "      <td>C</td>\n",
       "      <td>7-2</td>\n",
       "      <td>225.0</td>\n",
       "      <td>April 16, 1947</td>\n",
       "      <td>University of California, Los Angeles</td>\n",
       "    </tr>\n",
       "    <tr>\n",
       "      <th>3</th>\n",
       "      <td>Mahmoud Abdul-Rauf</td>\n",
       "      <td>1991</td>\n",
       "      <td>2001</td>\n",
       "      <td>G</td>\n",
       "      <td>6-1</td>\n",
       "      <td>162.0</td>\n",
       "      <td>March 9, 1969</td>\n",
       "      <td>Louisiana State University</td>\n",
       "    </tr>\n",
       "    <tr>\n",
       "      <th>4</th>\n",
       "      <td>Tariq Abdul-Wahad</td>\n",
       "      <td>1998</td>\n",
       "      <td>2003</td>\n",
       "      <td>F</td>\n",
       "      <td>6-6</td>\n",
       "      <td>223.0</td>\n",
       "      <td>November 3, 1974</td>\n",
       "      <td>San Jose State University</td>\n",
       "    </tr>\n",
       "  </tbody>\n",
       "</table>\n",
       "</div>"
      ],
      "text/plain": [
       "                  name  year_start  year_end position height  weight  \\\n",
       "0       Alaa Abdelnaby        1991      1995      F-C   6-10   240.0   \n",
       "1      Zaid Abdul-Aziz        1969      1978      C-F    6-9   235.0   \n",
       "2  Kareem Abdul-Jabbar        1970      1989        C    7-2   225.0   \n",
       "3   Mahmoud Abdul-Rauf        1991      2001        G    6-1   162.0   \n",
       "4    Tariq Abdul-Wahad        1998      2003        F    6-6   223.0   \n",
       "\n",
       "              Birth                                College  \n",
       "0     June 24, 1968                        Duke University  \n",
       "1     April 7, 1946                  Iowa State University  \n",
       "2    April 16, 1947  University of California, Los Angeles  \n",
       "3     March 9, 1969             Louisiana State University  \n",
       "4  November 3, 1974              San Jose State University  "
      ]
     },
     "execution_count": 46,
     "metadata": {},
     "output_type": "execute_result"
    }
   ],
   "source": [
    "# cambiar nombre de una o varias columnas\n",
    "player_data = player_data.rename(columns={\"birth_date\": \"Birth\", \"college\": \"College\"})\n",
    "player_data.head()"
   ]
  },
  {
   "cell_type": "code",
   "execution_count": 47,
   "metadata": {},
   "outputs": [
    {
     "data": {
      "text/html": [
       "<div>\n",
       "<style scoped>\n",
       "    .dataframe tbody tr th:only-of-type {\n",
       "        vertical-align: middle;\n",
       "    }\n",
       "\n",
       "    .dataframe tbody tr th {\n",
       "        vertical-align: top;\n",
       "    }\n",
       "\n",
       "    .dataframe thead th {\n",
       "        text-align: right;\n",
       "    }\n",
       "</style>\n",
       "<table border=\"1\" class=\"dataframe\">\n",
       "  <thead>\n",
       "    <tr style=\"text-align: right;\">\n",
       "      <th></th>\n",
       "      <th>year_start</th>\n",
       "      <th>year_end</th>\n",
       "      <th>position</th>\n",
       "      <th>height</th>\n",
       "      <th>weight</th>\n",
       "      <th>Birth</th>\n",
       "      <th>College</th>\n",
       "    </tr>\n",
       "    <tr>\n",
       "      <th>name</th>\n",
       "      <th></th>\n",
       "      <th></th>\n",
       "      <th></th>\n",
       "      <th></th>\n",
       "      <th></th>\n",
       "      <th></th>\n",
       "      <th></th>\n",
       "    </tr>\n",
       "  </thead>\n",
       "  <tbody>\n",
       "    <tr>\n",
       "      <th>Alaa Abdelnaby</th>\n",
       "      <td>1991</td>\n",
       "      <td>1995</td>\n",
       "      <td>F-C</td>\n",
       "      <td>6-10</td>\n",
       "      <td>240.0</td>\n",
       "      <td>June 24, 1968</td>\n",
       "      <td>Duke University</td>\n",
       "    </tr>\n",
       "    <tr>\n",
       "      <th>Zaid Abdul-Aziz</th>\n",
       "      <td>1969</td>\n",
       "      <td>1978</td>\n",
       "      <td>C-F</td>\n",
       "      <td>6-9</td>\n",
       "      <td>235.0</td>\n",
       "      <td>April 7, 1946</td>\n",
       "      <td>Iowa State University</td>\n",
       "    </tr>\n",
       "    <tr>\n",
       "      <th>Kareem Abdul-Jabbar</th>\n",
       "      <td>1970</td>\n",
       "      <td>1989</td>\n",
       "      <td>C</td>\n",
       "      <td>7-2</td>\n",
       "      <td>225.0</td>\n",
       "      <td>April 16, 1947</td>\n",
       "      <td>University of California, Los Angeles</td>\n",
       "    </tr>\n",
       "    <tr>\n",
       "      <th>Mahmoud Abdul-Rauf</th>\n",
       "      <td>1991</td>\n",
       "      <td>2001</td>\n",
       "      <td>G</td>\n",
       "      <td>6-1</td>\n",
       "      <td>162.0</td>\n",
       "      <td>March 9, 1969</td>\n",
       "      <td>Louisiana State University</td>\n",
       "    </tr>\n",
       "    <tr>\n",
       "      <th>Tariq Abdul-Wahad</th>\n",
       "      <td>1998</td>\n",
       "      <td>2003</td>\n",
       "      <td>F</td>\n",
       "      <td>6-6</td>\n",
       "      <td>223.0</td>\n",
       "      <td>November 3, 1974</td>\n",
       "      <td>San Jose State University</td>\n",
       "    </tr>\n",
       "  </tbody>\n",
       "</table>\n",
       "</div>"
      ],
      "text/plain": [
       "                     year_start  year_end position height  weight  \\\n",
       "name                                                                \n",
       "Alaa Abdelnaby             1991      1995      F-C   6-10   240.0   \n",
       "Zaid Abdul-Aziz            1969      1978      C-F    6-9   235.0   \n",
       "Kareem Abdul-Jabbar        1970      1989        C    7-2   225.0   \n",
       "Mahmoud Abdul-Rauf         1991      2001        G    6-1   162.0   \n",
       "Tariq Abdul-Wahad          1998      2003        F    6-6   223.0   \n",
       "\n",
       "                                Birth                                College  \n",
       "name                                                                          \n",
       "Alaa Abdelnaby          June 24, 1968                        Duke University  \n",
       "Zaid Abdul-Aziz         April 7, 1946                  Iowa State University  \n",
       "Kareem Abdul-Jabbar    April 16, 1947  University of California, Los Angeles  \n",
       "Mahmoud Abdul-Rauf      March 9, 1969             Louisiana State University  \n",
       "Tariq Abdul-Wahad    November 3, 1974              San Jose State University  "
      ]
     },
     "execution_count": 47,
     "metadata": {},
     "output_type": "execute_result"
    }
   ],
   "source": [
    "# fijar columna especifica como indice\n",
    "player_data = player_data.set_index([\"name\"])\n",
    "player_data.head()"
   ]
  },
  {
   "cell_type": "code",
   "execution_count": 48,
   "metadata": {},
   "outputs": [
    {
     "data": {
      "text/html": [
       "<div>\n",
       "<style scoped>\n",
       "    .dataframe tbody tr th:only-of-type {\n",
       "        vertical-align: middle;\n",
       "    }\n",
       "\n",
       "    .dataframe tbody tr th {\n",
       "        vertical-align: top;\n",
       "    }\n",
       "\n",
       "    .dataframe thead th {\n",
       "        text-align: right;\n",
       "    }\n",
       "</style>\n",
       "<table border=\"1\" class=\"dataframe\">\n",
       "  <thead>\n",
       "    <tr style=\"text-align: right;\">\n",
       "      <th></th>\n",
       "      <th>year_start</th>\n",
       "      <th>year_end</th>\n",
       "      <th>position</th>\n",
       "      <th>height</th>\n",
       "      <th>weight</th>\n",
       "      <th>Birth</th>\n",
       "      <th>College</th>\n",
       "    </tr>\n",
       "    <tr>\n",
       "      <th>name</th>\n",
       "      <th></th>\n",
       "      <th></th>\n",
       "      <th></th>\n",
       "      <th></th>\n",
       "      <th></th>\n",
       "      <th></th>\n",
       "      <th></th>\n",
       "    </tr>\n",
       "  </thead>\n",
       "  <tbody>\n",
       "    <tr>\n",
       "      <th>Penny Early</th>\n",
       "      <td>1969</td>\n",
       "      <td>1969</td>\n",
       "      <td>G</td>\n",
       "      <td>5-3</td>\n",
       "      <td>114.0</td>\n",
       "      <td>May 30, 1943</td>\n",
       "      <td>NaN</td>\n",
       "    </tr>\n",
       "    <tr>\n",
       "      <th>Spud Webb</th>\n",
       "      <td>1986</td>\n",
       "      <td>1998</td>\n",
       "      <td>G</td>\n",
       "      <td>5-6</td>\n",
       "      <td>133.0</td>\n",
       "      <td>July 13, 1963</td>\n",
       "      <td>North Carolina State University</td>\n",
       "    </tr>\n",
       "    <tr>\n",
       "      <th>Earl Boykins</th>\n",
       "      <td>1999</td>\n",
       "      <td>2012</td>\n",
       "      <td>G</td>\n",
       "      <td>5-5</td>\n",
       "      <td>135.0</td>\n",
       "      <td>June 2, 1976</td>\n",
       "      <td>Eastern Michigan University</td>\n",
       "    </tr>\n",
       "    <tr>\n",
       "      <th>Muggsy Bogues</th>\n",
       "      <td>1988</td>\n",
       "      <td>2001</td>\n",
       "      <td>G</td>\n",
       "      <td>5-3</td>\n",
       "      <td>136.0</td>\n",
       "      <td>January 9, 1965</td>\n",
       "      <td>Wake Forest University</td>\n",
       "    </tr>\n",
       "    <tr>\n",
       "      <th>Chet Aubuchon</th>\n",
       "      <td>1947</td>\n",
       "      <td>1947</td>\n",
       "      <td>G</td>\n",
       "      <td>5-10</td>\n",
       "      <td>137.0</td>\n",
       "      <td>May 18, 1916</td>\n",
       "      <td>Michigan State University</td>\n",
       "    </tr>\n",
       "  </tbody>\n",
       "</table>\n",
       "</div>"
      ],
      "text/plain": [
       "               year_start  year_end position height  weight            Birth  \\\n",
       "name                                                                           \n",
       "Penny Early          1969      1969        G    5-3   114.0     May 30, 1943   \n",
       "Spud Webb            1986      1998        G    5-6   133.0    July 13, 1963   \n",
       "Earl Boykins         1999      2012        G    5-5   135.0     June 2, 1976   \n",
       "Muggsy Bogues        1988      2001        G    5-3   136.0  January 9, 1965   \n",
       "Chet Aubuchon        1947      1947        G   5-10   137.0     May 18, 1916   \n",
       "\n",
       "                                       College  \n",
       "name                                            \n",
       "Penny Early                                NaN  \n",
       "Spud Webb      North Carolina State University  \n",
       "Earl Boykins       Eastern Michigan University  \n",
       "Muggsy Bogues           Wake Forest University  \n",
       "Chet Aubuchon        Michigan State University  "
      ]
     },
     "execution_count": 48,
     "metadata": {},
     "output_type": "execute_result"
    }
   ],
   "source": [
    "# ordenar dataframe por columna especifica\n",
    "player_data = player_data.sort_values(\"weight\")\n",
    "player_data.head()"
   ]
  },
  {
   "cell_type": "code",
   "execution_count": 49,
   "metadata": {},
   "outputs": [
    {
     "data": {
      "text/html": [
       "<div>\n",
       "<style scoped>\n",
       "    .dataframe tbody tr th:only-of-type {\n",
       "        vertical-align: middle;\n",
       "    }\n",
       "\n",
       "    .dataframe tbody tr th {\n",
       "        vertical-align: top;\n",
       "    }\n",
       "\n",
       "    .dataframe thead th {\n",
       "        text-align: right;\n",
       "    }\n",
       "</style>\n",
       "<table border=\"1\" class=\"dataframe\">\n",
       "  <thead>\n",
       "    <tr style=\"text-align: right;\">\n",
       "      <th></th>\n",
       "      <th>year_start</th>\n",
       "      <th>year_end</th>\n",
       "      <th>position</th>\n",
       "      <th>height</th>\n",
       "      <th>weight</th>\n",
       "      <th>Birth</th>\n",
       "      <th>College</th>\n",
       "    </tr>\n",
       "  </thead>\n",
       "  <tbody>\n",
       "    <tr>\n",
       "      <th>count</th>\n",
       "      <td>4550.000000</td>\n",
       "      <td>4550.000000</td>\n",
       "      <td>4549</td>\n",
       "      <td>4549</td>\n",
       "      <td>4544.000000</td>\n",
       "      <td>4519</td>\n",
       "      <td>4248</td>\n",
       "    </tr>\n",
       "    <tr>\n",
       "      <th>unique</th>\n",
       "      <td>NaN</td>\n",
       "      <td>NaN</td>\n",
       "      <td>7</td>\n",
       "      <td>28</td>\n",
       "      <td>NaN</td>\n",
       "      <td>4161</td>\n",
       "      <td>473</td>\n",
       "    </tr>\n",
       "    <tr>\n",
       "      <th>top</th>\n",
       "      <td>NaN</td>\n",
       "      <td>NaN</td>\n",
       "      <td>G</td>\n",
       "      <td>6-7</td>\n",
       "      <td>NaN</td>\n",
       "      <td>February 23, 1945</td>\n",
       "      <td>University of Kentucky</td>\n",
       "    </tr>\n",
       "    <tr>\n",
       "      <th>freq</th>\n",
       "      <td>NaN</td>\n",
       "      <td>NaN</td>\n",
       "      <td>1574</td>\n",
       "      <td>473</td>\n",
       "      <td>NaN</td>\n",
       "      <td>3</td>\n",
       "      <td>99</td>\n",
       "    </tr>\n",
       "    <tr>\n",
       "      <th>mean</th>\n",
       "      <td>1985.076264</td>\n",
       "      <td>1989.272527</td>\n",
       "      <td>NaN</td>\n",
       "      <td>NaN</td>\n",
       "      <td>208.908011</td>\n",
       "      <td>NaN</td>\n",
       "      <td>NaN</td>\n",
       "    </tr>\n",
       "    <tr>\n",
       "      <th>std</th>\n",
       "      <td>20.974188</td>\n",
       "      <td>21.874761</td>\n",
       "      <td>NaN</td>\n",
       "      <td>NaN</td>\n",
       "      <td>26.268662</td>\n",
       "      <td>NaN</td>\n",
       "      <td>NaN</td>\n",
       "    </tr>\n",
       "    <tr>\n",
       "      <th>min</th>\n",
       "      <td>1947.000000</td>\n",
       "      <td>1947.000000</td>\n",
       "      <td>NaN</td>\n",
       "      <td>NaN</td>\n",
       "      <td>114.000000</td>\n",
       "      <td>NaN</td>\n",
       "      <td>NaN</td>\n",
       "    </tr>\n",
       "    <tr>\n",
       "      <th>25%</th>\n",
       "      <td>1969.000000</td>\n",
       "      <td>1973.000000</td>\n",
       "      <td>NaN</td>\n",
       "      <td>NaN</td>\n",
       "      <td>190.000000</td>\n",
       "      <td>NaN</td>\n",
       "      <td>NaN</td>\n",
       "    </tr>\n",
       "    <tr>\n",
       "      <th>50%</th>\n",
       "      <td>1986.000000</td>\n",
       "      <td>1992.000000</td>\n",
       "      <td>NaN</td>\n",
       "      <td>NaN</td>\n",
       "      <td>210.000000</td>\n",
       "      <td>NaN</td>\n",
       "      <td>NaN</td>\n",
       "    </tr>\n",
       "    <tr>\n",
       "      <th>75%</th>\n",
       "      <td>2003.000000</td>\n",
       "      <td>2009.000000</td>\n",
       "      <td>NaN</td>\n",
       "      <td>NaN</td>\n",
       "      <td>225.000000</td>\n",
       "      <td>NaN</td>\n",
       "      <td>NaN</td>\n",
       "    </tr>\n",
       "    <tr>\n",
       "      <th>max</th>\n",
       "      <td>2018.000000</td>\n",
       "      <td>2018.000000</td>\n",
       "      <td>NaN</td>\n",
       "      <td>NaN</td>\n",
       "      <td>360.000000</td>\n",
       "      <td>NaN</td>\n",
       "      <td>NaN</td>\n",
       "    </tr>\n",
       "  </tbody>\n",
       "</table>\n",
       "</div>"
      ],
      "text/plain": [
       "         year_start     year_end position height       weight  \\\n",
       "count   4550.000000  4550.000000     4549   4549  4544.000000   \n",
       "unique          NaN          NaN        7     28          NaN   \n",
       "top             NaN          NaN        G    6-7          NaN   \n",
       "freq            NaN          NaN     1574    473          NaN   \n",
       "mean    1985.076264  1989.272527      NaN    NaN   208.908011   \n",
       "std       20.974188    21.874761      NaN    NaN    26.268662   \n",
       "min     1947.000000  1947.000000      NaN    NaN   114.000000   \n",
       "25%     1969.000000  1973.000000      NaN    NaN   190.000000   \n",
       "50%     1986.000000  1992.000000      NaN    NaN   210.000000   \n",
       "75%     2003.000000  2009.000000      NaN    NaN   225.000000   \n",
       "max     2018.000000  2018.000000      NaN    NaN   360.000000   \n",
       "\n",
       "                    Birth                 College  \n",
       "count                4519                    4248  \n",
       "unique               4161                     473  \n",
       "top     February 23, 1945  University of Kentucky  \n",
       "freq                    3                      99  \n",
       "mean                  NaN                     NaN  \n",
       "std                   NaN                     NaN  \n",
       "min                   NaN                     NaN  \n",
       "25%                   NaN                     NaN  \n",
       "50%                   NaN                     NaN  \n",
       "75%                   NaN                     NaN  \n",
       "max                   NaN                     NaN  "
      ]
     },
     "execution_count": 49,
     "metadata": {},
     "output_type": "execute_result"
    }
   ],
   "source": [
    "# resumen de la información \n",
    "player_data.describe(include='all')# player_data.describe()"
   ]
  },
  {
   "cell_type": "markdown",
   "metadata": {},
   "source": [
    "### Operando sobre Dataframes\n",
    "\n",
    "Cuando se trabaja con un conjunto de datos, se crea una dinámica de preguntas y respuestas, en donde a medida que necesito información, se va accediendo al dataframe. En algunas ocaciones es directo, basta un simple módulo, aunque en otras será necesaria realizar operaciones un poco más complejas. \n",
    "\n",
    "Por ejemplo, del conjunto de datos en estudio, se esta interesado en responder las siguientes preguntas:\n"
   ]
  },
  {
   "cell_type": "markdown",
   "metadata": {},
   "source": [
    "**a) Determine si el dataframe tiene valores nulos**"
   ]
  },
  {
   "cell_type": "code",
   "execution_count": 50,
   "metadata": {},
   "outputs": [
    {
     "name": "stdout",
     "output_type": "stream",
     "text": [
      "year_start\n",
      "valores nulos: 0\n",
      "\n",
      "year_end\n",
      "valores nulos: 0\n",
      "\n",
      "position\n",
      "valores nulos: 1\n",
      "\n",
      "height\n",
      "valores nulos: 1\n",
      "\n",
      "weight\n",
      "valores nulos: 6\n",
      "\n",
      "Birth\n",
      "valores nulos: 31\n",
      "\n",
      "College\n",
      "valores nulos: 302\n",
      "\n"
     ]
    }
   ],
   "source": [
    "# veamos las columnas con datos nulos\n",
    "for col in player_data.columns:\n",
    "   \n",
    "    temp = player_data[player_data[col].isnull()]\n",
    "    print(col)\n",
    "    print(f\"valores nulos: {len(temp)}\\n\")"
   ]
  },
  {
   "cell_type": "code",
   "execution_count": 51,
   "metadata": {},
   "outputs": [
    {
     "data": {
      "text/plain": [
       "name\n",
       "Penny Early        False\n",
       "Spud Webb           True\n",
       "Earl Boykins        True\n",
       "Muggsy Bogues       True\n",
       "Chet Aubuchon       True\n",
       "Greg Grant          True\n",
       "Angelo Musi         True\n",
       "Ernie Calverley     True\n",
       "Tyler Ulis          True\n",
       "Lionel Malamed      True\n",
       "dtype: bool"
      ]
     },
     "execution_count": 51,
     "metadata": {},
     "output_type": "execute_result"
    }
   ],
   "source": [
    "# ocupar comando .notnull().all(axis=1) para ver todos los valores que NO son nulos para todas las columnas\n",
    "player_data.notnull().all(axis=1).head(10)"
   ]
  },
  {
   "cell_type": "markdown",
   "metadata": {},
   "source": [
    "**b) Elimine los valores nulos del dataframe**"
   ]
  },
  {
   "cell_type": "code",
   "execution_count": 52,
   "metadata": {},
   "outputs": [
    {
     "data": {
      "text/html": [
       "<div>\n",
       "<style scoped>\n",
       "    .dataframe tbody tr th:only-of-type {\n",
       "        vertical-align: middle;\n",
       "    }\n",
       "\n",
       "    .dataframe tbody tr th {\n",
       "        vertical-align: top;\n",
       "    }\n",
       "\n",
       "    .dataframe thead th {\n",
       "        text-align: right;\n",
       "    }\n",
       "</style>\n",
       "<table border=\"1\" class=\"dataframe\">\n",
       "  <thead>\n",
       "    <tr style=\"text-align: right;\">\n",
       "      <th></th>\n",
       "      <th>year_start</th>\n",
       "      <th>year_end</th>\n",
       "      <th>position</th>\n",
       "      <th>height</th>\n",
       "      <th>weight</th>\n",
       "      <th>Birth</th>\n",
       "      <th>College</th>\n",
       "    </tr>\n",
       "    <tr>\n",
       "      <th>name</th>\n",
       "      <th></th>\n",
       "      <th></th>\n",
       "      <th></th>\n",
       "      <th></th>\n",
       "      <th></th>\n",
       "      <th></th>\n",
       "      <th></th>\n",
       "    </tr>\n",
       "  </thead>\n",
       "  <tbody>\n",
       "    <tr>\n",
       "      <th>Spud Webb</th>\n",
       "      <td>1986</td>\n",
       "      <td>1998</td>\n",
       "      <td>G</td>\n",
       "      <td>5-6</td>\n",
       "      <td>133.0</td>\n",
       "      <td>July 13, 1963</td>\n",
       "      <td>North Carolina State University</td>\n",
       "    </tr>\n",
       "    <tr>\n",
       "      <th>Earl Boykins</th>\n",
       "      <td>1999</td>\n",
       "      <td>2012</td>\n",
       "      <td>G</td>\n",
       "      <td>5-5</td>\n",
       "      <td>135.0</td>\n",
       "      <td>June 2, 1976</td>\n",
       "      <td>Eastern Michigan University</td>\n",
       "    </tr>\n",
       "    <tr>\n",
       "      <th>Muggsy Bogues</th>\n",
       "      <td>1988</td>\n",
       "      <td>2001</td>\n",
       "      <td>G</td>\n",
       "      <td>5-3</td>\n",
       "      <td>136.0</td>\n",
       "      <td>January 9, 1965</td>\n",
       "      <td>Wake Forest University</td>\n",
       "    </tr>\n",
       "    <tr>\n",
       "      <th>Chet Aubuchon</th>\n",
       "      <td>1947</td>\n",
       "      <td>1947</td>\n",
       "      <td>G</td>\n",
       "      <td>5-10</td>\n",
       "      <td>137.0</td>\n",
       "      <td>May 18, 1916</td>\n",
       "      <td>Michigan State University</td>\n",
       "    </tr>\n",
       "    <tr>\n",
       "      <th>Greg Grant</th>\n",
       "      <td>1990</td>\n",
       "      <td>1996</td>\n",
       "      <td>G</td>\n",
       "      <td>5-7</td>\n",
       "      <td>140.0</td>\n",
       "      <td>August 29, 1966</td>\n",
       "      <td>Trenton State University</td>\n",
       "    </tr>\n",
       "  </tbody>\n",
       "</table>\n",
       "</div>"
      ],
      "text/plain": [
       "               year_start  year_end position height  weight            Birth  \\\n",
       "name                                                                           \n",
       "Spud Webb            1986      1998        G    5-6   133.0    July 13, 1963   \n",
       "Earl Boykins         1999      2012        G    5-5   135.0     June 2, 1976   \n",
       "Muggsy Bogues        1988      2001        G    5-3   136.0  January 9, 1965   \n",
       "Chet Aubuchon        1947      1947        G   5-10   137.0     May 18, 1916   \n",
       "Greg Grant           1990      1996        G    5-7   140.0  August 29, 1966   \n",
       "\n",
       "                                       College  \n",
       "name                                            \n",
       "Spud Webb      North Carolina State University  \n",
       "Earl Boykins       Eastern Michigan University  \n",
       "Muggsy Bogues           Wake Forest University  \n",
       "Chet Aubuchon        Michigan State University  \n",
       "Greg Grant            Trenton State University  "
      ]
     },
     "execution_count": 52,
     "metadata": {},
     "output_type": "execute_result"
    }
   ],
   "source": [
    "# ocupar masking\n",
    "mask = lambda df: df.notnull().all(axis=1)\n",
    "player_data = player_data[mask]\n",
    "player_data.head()"
   ]
  },
  {
   "cell_type": "markdown",
   "metadata": {},
   "source": [
    "**c) Determinar el tiempo (en años) de cada jugador en su posición**"
   ]
  },
  {
   "cell_type": "code",
   "execution_count": 53,
   "metadata": {},
   "outputs": [
    {
     "data": {
      "text/html": [
       "<div>\n",
       "<style scoped>\n",
       "    .dataframe tbody tr th:only-of-type {\n",
       "        vertical-align: middle;\n",
       "    }\n",
       "\n",
       "    .dataframe tbody tr th {\n",
       "        vertical-align: top;\n",
       "    }\n",
       "\n",
       "    .dataframe thead th {\n",
       "        text-align: right;\n",
       "    }\n",
       "</style>\n",
       "<table border=\"1\" class=\"dataframe\">\n",
       "  <thead>\n",
       "    <tr style=\"text-align: right;\">\n",
       "      <th></th>\n",
       "      <th>year_start</th>\n",
       "      <th>year_end</th>\n",
       "      <th>position</th>\n",
       "      <th>height</th>\n",
       "      <th>weight</th>\n",
       "      <th>Birth</th>\n",
       "      <th>College</th>\n",
       "      <th>duration</th>\n",
       "    </tr>\n",
       "    <tr>\n",
       "      <th>name</th>\n",
       "      <th></th>\n",
       "      <th></th>\n",
       "      <th></th>\n",
       "      <th></th>\n",
       "      <th></th>\n",
       "      <th></th>\n",
       "      <th></th>\n",
       "      <th></th>\n",
       "    </tr>\n",
       "  </thead>\n",
       "  <tbody>\n",
       "    <tr>\n",
       "      <th>Spud Webb</th>\n",
       "      <td>1986</td>\n",
       "      <td>1998</td>\n",
       "      <td>G</td>\n",
       "      <td>5-6</td>\n",
       "      <td>133.0</td>\n",
       "      <td>July 13, 1963</td>\n",
       "      <td>North Carolina State University</td>\n",
       "      <td>12</td>\n",
       "    </tr>\n",
       "    <tr>\n",
       "      <th>Earl Boykins</th>\n",
       "      <td>1999</td>\n",
       "      <td>2012</td>\n",
       "      <td>G</td>\n",
       "      <td>5-5</td>\n",
       "      <td>135.0</td>\n",
       "      <td>June 2, 1976</td>\n",
       "      <td>Eastern Michigan University</td>\n",
       "      <td>13</td>\n",
       "    </tr>\n",
       "    <tr>\n",
       "      <th>Muggsy Bogues</th>\n",
       "      <td>1988</td>\n",
       "      <td>2001</td>\n",
       "      <td>G</td>\n",
       "      <td>5-3</td>\n",
       "      <td>136.0</td>\n",
       "      <td>January 9, 1965</td>\n",
       "      <td>Wake Forest University</td>\n",
       "      <td>13</td>\n",
       "    </tr>\n",
       "    <tr>\n",
       "      <th>Chet Aubuchon</th>\n",
       "      <td>1947</td>\n",
       "      <td>1947</td>\n",
       "      <td>G</td>\n",
       "      <td>5-10</td>\n",
       "      <td>137.0</td>\n",
       "      <td>May 18, 1916</td>\n",
       "      <td>Michigan State University</td>\n",
       "      <td>0</td>\n",
       "    </tr>\n",
       "    <tr>\n",
       "      <th>Greg Grant</th>\n",
       "      <td>1990</td>\n",
       "      <td>1996</td>\n",
       "      <td>G</td>\n",
       "      <td>5-7</td>\n",
       "      <td>140.0</td>\n",
       "      <td>August 29, 1966</td>\n",
       "      <td>Trenton State University</td>\n",
       "      <td>6</td>\n",
       "    </tr>\n",
       "  </tbody>\n",
       "</table>\n",
       "</div>"
      ],
      "text/plain": [
       "               year_start  year_end position height  weight            Birth  \\\n",
       "name                                                                           \n",
       "Spud Webb            1986      1998        G    5-6   133.0    July 13, 1963   \n",
       "Earl Boykins         1999      2012        G    5-5   135.0     June 2, 1976   \n",
       "Muggsy Bogues        1988      2001        G    5-3   136.0  January 9, 1965   \n",
       "Chet Aubuchon        1947      1947        G   5-10   137.0     May 18, 1916   \n",
       "Greg Grant           1990      1996        G    5-7   140.0  August 29, 1966   \n",
       "\n",
       "                                       College  duration  \n",
       "name                                                      \n",
       "Spud Webb      North Carolina State University        12  \n",
       "Earl Boykins       Eastern Michigan University        13  \n",
       "Muggsy Bogues           Wake Forest University        13  \n",
       "Chet Aubuchon        Michigan State University         0  \n",
       "Greg Grant            Trenton State University         6  "
      ]
     },
     "execution_count": 53,
     "metadata": {},
     "output_type": "execute_result"
    }
   ],
   "source": [
    "player_data['duration'] = player_data['year_end'] - player_data['year_start']\n",
    "player_data.head()"
   ]
  },
  {
   "cell_type": "markdown",
   "metadata": {},
   "source": [
    "**d) Castear la fecha de str a objeto datetime**"
   ]
  },
  {
   "cell_type": "code",
   "execution_count": 54,
   "metadata": {},
   "outputs": [
    {
     "data": {
      "text/html": [
       "<div>\n",
       "<style scoped>\n",
       "    .dataframe tbody tr th:only-of-type {\n",
       "        vertical-align: middle;\n",
       "    }\n",
       "\n",
       "    .dataframe tbody tr th {\n",
       "        vertical-align: top;\n",
       "    }\n",
       "\n",
       "    .dataframe thead th {\n",
       "        text-align: right;\n",
       "    }\n",
       "</style>\n",
       "<table border=\"1\" class=\"dataframe\">\n",
       "  <thead>\n",
       "    <tr style=\"text-align: right;\">\n",
       "      <th></th>\n",
       "      <th>year_start</th>\n",
       "      <th>year_end</th>\n",
       "      <th>position</th>\n",
       "      <th>height</th>\n",
       "      <th>weight</th>\n",
       "      <th>Birth</th>\n",
       "      <th>College</th>\n",
       "      <th>duration</th>\n",
       "      <th>birth_date_dt</th>\n",
       "    </tr>\n",
       "    <tr>\n",
       "      <th>name</th>\n",
       "      <th></th>\n",
       "      <th></th>\n",
       "      <th></th>\n",
       "      <th></th>\n",
       "      <th></th>\n",
       "      <th></th>\n",
       "      <th></th>\n",
       "      <th></th>\n",
       "      <th></th>\n",
       "    </tr>\n",
       "  </thead>\n",
       "  <tbody>\n",
       "    <tr>\n",
       "      <th>Spud Webb</th>\n",
       "      <td>1986</td>\n",
       "      <td>1998</td>\n",
       "      <td>G</td>\n",
       "      <td>5-6</td>\n",
       "      <td>133.0</td>\n",
       "      <td>July 13, 1963</td>\n",
       "      <td>North Carolina State University</td>\n",
       "      <td>12</td>\n",
       "      <td>1963-07-13</td>\n",
       "    </tr>\n",
       "    <tr>\n",
       "      <th>Earl Boykins</th>\n",
       "      <td>1999</td>\n",
       "      <td>2012</td>\n",
       "      <td>G</td>\n",
       "      <td>5-5</td>\n",
       "      <td>135.0</td>\n",
       "      <td>June 2, 1976</td>\n",
       "      <td>Eastern Michigan University</td>\n",
       "      <td>13</td>\n",
       "      <td>1976-06-02</td>\n",
       "    </tr>\n",
       "    <tr>\n",
       "      <th>Muggsy Bogues</th>\n",
       "      <td>1988</td>\n",
       "      <td>2001</td>\n",
       "      <td>G</td>\n",
       "      <td>5-3</td>\n",
       "      <td>136.0</td>\n",
       "      <td>January 9, 1965</td>\n",
       "      <td>Wake Forest University</td>\n",
       "      <td>13</td>\n",
       "      <td>1965-01-09</td>\n",
       "    </tr>\n",
       "    <tr>\n",
       "      <th>Chet Aubuchon</th>\n",
       "      <td>1947</td>\n",
       "      <td>1947</td>\n",
       "      <td>G</td>\n",
       "      <td>5-10</td>\n",
       "      <td>137.0</td>\n",
       "      <td>May 18, 1916</td>\n",
       "      <td>Michigan State University</td>\n",
       "      <td>0</td>\n",
       "      <td>1916-05-18</td>\n",
       "    </tr>\n",
       "    <tr>\n",
       "      <th>Greg Grant</th>\n",
       "      <td>1990</td>\n",
       "      <td>1996</td>\n",
       "      <td>G</td>\n",
       "      <td>5-7</td>\n",
       "      <td>140.0</td>\n",
       "      <td>August 29, 1966</td>\n",
       "      <td>Trenton State University</td>\n",
       "      <td>6</td>\n",
       "      <td>1966-08-29</td>\n",
       "    </tr>\n",
       "  </tbody>\n",
       "</table>\n",
       "</div>"
      ],
      "text/plain": [
       "               year_start  year_end position height  weight            Birth  \\\n",
       "name                                                                           \n",
       "Spud Webb            1986      1998        G    5-6   133.0    July 13, 1963   \n",
       "Earl Boykins         1999      2012        G    5-5   135.0     June 2, 1976   \n",
       "Muggsy Bogues        1988      2001        G    5-3   136.0  January 9, 1965   \n",
       "Chet Aubuchon        1947      1947        G   5-10   137.0     May 18, 1916   \n",
       "Greg Grant           1990      1996        G    5-7   140.0  August 29, 1966   \n",
       "\n",
       "                                       College  duration birth_date_dt  \n",
       "name                                                                    \n",
       "Spud Webb      North Carolina State University        12    1963-07-13  \n",
       "Earl Boykins       Eastern Michigan University        13    1976-06-02  \n",
       "Muggsy Bogues           Wake Forest University        13    1965-01-09  \n",
       "Chet Aubuchon        Michigan State University         0    1916-05-18  \n",
       "Greg Grant            Trenton State University         6    1966-08-29  "
      ]
     },
     "execution_count": 54,
     "metadata": {},
     "output_type": "execute_result"
    }
   ],
   "source": [
    "player_data['birth_date_dt'] = pd.to_datetime(player_data['Birth'], format=\"%B %d, %Y\")\n",
    "player_data.head()"
   ]
  },
  {
   "cell_type": "markdown",
   "metadata": {},
   "source": [
    "**e) Determinar todas las posiciones**"
   ]
  },
  {
   "cell_type": "code",
   "execution_count": 55,
   "metadata": {},
   "outputs": [
    {
     "data": {
      "text/plain": [
       "array(['G', 'G-F', 'F-G', 'F', 'F-C', 'C-F', 'C'], dtype=object)"
      ]
     },
     "execution_count": 55,
     "metadata": {},
     "output_type": "execute_result"
    }
   ],
   "source": [
    "positions = player_data['position'].unique()\n",
    "positions"
   ]
  },
  {
   "cell_type": "markdown",
   "metadata": {},
   "source": [
    "**f) Iterar sobre cada posición y encontrar el mayor valor asociado a la columna `weight`**"
   ]
  },
  {
   "cell_type": "code",
   "execution_count": 56,
   "metadata": {},
   "outputs": [
    {
     "data": {
      "text/plain": [
       "{'G': 235.0,\n",
       " 'G-F': 240.0,\n",
       " 'F-G': 245.0,\n",
       " 'F': 284.0,\n",
       " 'F-C': 290.0,\n",
       " 'C-F': 280.0,\n",
       " 'C': 360.0}"
      ]
     },
     "execution_count": 56,
     "metadata": {},
     "output_type": "execute_result"
    }
   ],
   "source": [
    "# Iterar sobre cada posición y encontrar el mayor valor.\n",
    "nba_position_duration = dict()\n",
    "\n",
    "# iterar\n",
    "for position in positions:\n",
    "    \n",
    "    # filtrar \n",
    "    df_aux = player_data.loc[lambda x: x['position'] == position]\n",
    "    \n",
    "    # encontrar maximo de la columna objetivo\n",
    "    max_duration = df_aux['weight'].max()\n",
    "    \n",
    "    # guardar en pd.Series\n",
    "    nba_position_duration[position] = max_duration\n",
    "    \n",
    "# retornar serie\n",
    "nba_position_duration"
   ]
  },
  {
   "cell_type": "markdown",
   "metadata": {},
   "source": [
    "## Referencias\n",
    "\n",
    "1. [Python Pandas Tutorial: A Complete Introduction for Beginners](https://www.learndatasci.com/tutorials/python-pandas-tutorial-complete-introduction-for-beginners/)\n",
    "2. [General functions](https://pandas.pydata.org/pandas-docs/stable/reference/general_functions.html)"
   ]
  }
 ],
 "metadata": {
  "kernelspec": {
   "display_name": "Python 3 (ipykernel)",
   "language": "python",
   "name": "python3"
  },
  "language_info": {
   "codemirror_mode": {
    "name": "ipython",
    "version": 3
   },
   "file_extension": ".py",
   "mimetype": "text/x-python",
   "name": "python",
   "nbconvert_exporter": "python",
   "pygments_lexer": "ipython3",
   "version": "3.8.10"
  }
 },
 "nbformat": 4,
 "nbformat_minor": 4
}
