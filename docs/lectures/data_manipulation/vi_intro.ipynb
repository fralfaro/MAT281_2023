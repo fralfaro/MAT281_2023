{
 "cells": [
  {
   "cell_type": "markdown",
   "id": "32031e7c",
   "metadata": {},
   "source": [
    "# Introducción\n",
    "\n",
    "## Introducción \n",
    "\n",
    "Aprender sobre visualización es importante por varias razones:\n",
    "\n",
    "* **Comunicar información compleja de manera clara y efectiva**: Al presentar datos de una manera visual, es más fácil identificar patrones y tendencias, así como también hacer comparaciones y contrastes. Esto es especialmente importante cuando se trabaja con grandes conjuntos de datos o cuando se trata de presentar información a un público diverso.\n",
    "\n",
    "\n",
    "* **Descubrir información oculta o desconocida**: A menudo, los datos pueden contener patrones o relaciones que no son obvios a simple vista, pero que pueden ser descubiertos mediante la exploración y la visualización. La visualización también puede ayudar a identificar errores y anomalías en los datos, lo que puede ser importante para la toma de decisiones y la planificación.\n",
    "\n",
    "\n",
    "* **Mejorar la capacidad de análisis de datos**: Al comprender cómo presentar datos de manera efectiva, se puede desarrollar una mejor comprensión de los datos y las relaciones que existen entre ellos. Esto puede ayudar a tomar decisiones informadas basadas en datos y a identificar tendencias y oportunidades que de otra manera podrían haber pasado desapercibidas.\n",
    "\n",
    "\n",
    "\n",
    "\n",
    "### Malos Gráficos\n",
    "\n",
    "<img src=\"https://drive.google.com/uc?export=view&id=1mBbk0VQuOGnMxakMtdW3TZ1oE6tSblbe\" width = \"500\" align=\"center\"/>\n",
    "\n",
    "\n",
    "<img src=\"https://drive.google.com/uc?export=view&id=1Y9R8b5GOWBl_ldmwlVBHTmAxhaxVdZZG\" width = \"500\" align=\"center\"/>\n",
    "\n",
    "### Buenos Gráficos\n",
    "\n",
    "<img src=\"https://drive.google.com/uc?export=view&id=1eYv5Ii2f7ArXdnUp9sM7_n84_Tfb5wee\" width = \"600\" align=\"center\"/>\n",
    "\n",
    "\n"
   ]
  },
  {
   "cell_type": "markdown",
   "id": "f1cdf4c5",
   "metadata": {},
   "source": [
    "### Primeras visualizaciones\n",
    "\n",
    "**Campaña de Napoleón a Moscú (Charles Minard, 1889)**\n",
    "\n",
    "Gráfico que muestra el número de las fuerzas francesas en su marcha hacia Moscú y durante la retirada, por Charles Minard. También contiene información ambiental como la temperatura por fecha.\n",
    "\n",
    "<img src=\"https://drive.google.com/uc?export=view&id=1yxD4ur6zHL7E1ZTcR-DhhkqNohYgQuVT\" width = \"600\" align=\"center\"/>"
   ]
  },
  {
   "cell_type": "markdown",
   "id": "6acf80b8",
   "metadata": {},
   "source": [
    "**Mapa del cólera (John Snow, 1855)**\n",
    "\n",
    "Gráfico que muestra los casos de cólera durante la epidemia en Londres de 1854 y Las cruces la ubicación de las bombas de agua.\n",
    "\n",
    "<img src=\"https://drive.google.com/uc?export=view&id=1CbtIoJVPDb30Jqjsuz8jyJCZt3YGnbDj\" width = \"600\" align=\"center\"/>"
   ]
  },
  {
   "cell_type": "markdown",
   "id": "9601f981",
   "metadata": {},
   "source": [
    "## ¿Por qué utilizar gráficos?\n",
    "\n",
    "* El 70 % de los receptores sensoriales del cuerpo humano está dedicado a la visión.\n",
    "* Cerebro ha sido entrenado evolutivamente para interpretar la información visual de manera masiva.\n",
    "\n",
    "    _“The eye and the visual cortex of the brain form a massively\n",
    "    parallel processor that provides the highest bandwidth channel\n",
    "    into human cognitive centers”\n",
    "    — Colin Ware, Information Visualization, 2004._\n",
    "    \n",
    "> **Nota**: En lo siguientes ejemplos utilizaremos código de `matplotlib` y `seaborn`, sin embargo, no entraremos en detalles debido a que cada una de estas librerías será estudiada en los siguientes capítulos."
   ]
  },
  {
   "cell_type": "markdown",
   "id": "8f3dd3ee",
   "metadata": {},
   "source": [
    "### Cuarteto de ANSCOMBE \n",
    "\n",
    "El **Cuarteto de Anscombe** es un conjunto de cuatro conjuntos de datos que tienen las mismas estadísticas descriptivas (medias, varianzas, correlaciones y regresiones), pero que se ven muy diferentes cuando se visualizan. Fueron presentados por el estadístico Francis Anscombe en 1973 para demostrar la importancia de la visualización en el análisis de datos.\n",
    "\n",
    "Los cuatro conjuntos de datos consisten en pares de variables **x** e **y**, y cada conjunto representa un tipo diferente de relación entre las variables. A simple vista, los cuatro conjuntos parecen tener distribuciones y relaciones completamente diferentes entre sí, pero cuando se analizan las estadísticas descriptivas, todas son idénticas."
   ]
  },
  {
   "cell_type": "code",
   "execution_count": 1,
   "id": "b35fd237",
   "metadata": {
    "tags": [
     "{",
     "\"tags\":",
     "[",
     "\"hide-input\"",
     "]",
     "}"
    ]
   },
   "outputs": [
    {
     "name": "stdout",
     "output_type": "stream",
     "text": [
      "Estadisticas Basicas:\n",
      "\n",
      "          Dataset I              Dataset II\n"
     ]
    },
    {
     "data": {
      "text/html": [
       "<table style=\"display:inline\" border=\"1\" class=\"dataframe\">\n",
       "  <thead>\n",
       "    <tr style=\"text-align: right;\">\n",
       "      <th></th>\n",
       "      <th>x</th>\n",
       "      <th>y</th>\n",
       "    </tr>\n",
       "  </thead>\n",
       "  <tbody>\n",
       "    <tr>\n",
       "      <th>count</th>\n",
       "      <td>11.000000</td>\n",
       "      <td>11.000000</td>\n",
       "    </tr>\n",
       "    <tr>\n",
       "      <th>mean</th>\n",
       "      <td>9.000000</td>\n",
       "      <td>7.500909</td>\n",
       "    </tr>\n",
       "    <tr>\n",
       "      <th>std</th>\n",
       "      <td>3.316625</td>\n",
       "      <td>2.031568</td>\n",
       "    </tr>\n",
       "    <tr>\n",
       "      <th>min</th>\n",
       "      <td>4.000000</td>\n",
       "      <td>4.260000</td>\n",
       "    </tr>\n",
       "    <tr>\n",
       "      <th>25%</th>\n",
       "      <td>6.500000</td>\n",
       "      <td>6.315000</td>\n",
       "    </tr>\n",
       "    <tr>\n",
       "      <th>50%</th>\n",
       "      <td>9.000000</td>\n",
       "      <td>7.580000</td>\n",
       "    </tr>\n",
       "    <tr>\n",
       "      <th>75%</th>\n",
       "      <td>11.500000</td>\n",
       "      <td>8.570000</td>\n",
       "    </tr>\n",
       "    <tr>\n",
       "      <th>max</th>\n",
       "      <td>14.000000</td>\n",
       "      <td>10.840000</td>\n",
       "    </tr>\n",
       "  </tbody>\n",
       "</table style=\"display:inline\">&nbsp;&nbsp;&nbsp;&nbsp;<table style=\"display:inline\" border=\"1\" class=\"dataframe\">\n",
       "  <thead>\n",
       "    <tr style=\"text-align: right;\">\n",
       "      <th></th>\n",
       "      <th>x</th>\n",
       "      <th>y</th>\n",
       "    </tr>\n",
       "  </thead>\n",
       "  <tbody>\n",
       "    <tr>\n",
       "      <th>count</th>\n",
       "      <td>11.000000</td>\n",
       "      <td>11.000000</td>\n",
       "    </tr>\n",
       "    <tr>\n",
       "      <th>mean</th>\n",
       "      <td>9.000000</td>\n",
       "      <td>7.500909</td>\n",
       "    </tr>\n",
       "    <tr>\n",
       "      <th>std</th>\n",
       "      <td>3.316625</td>\n",
       "      <td>2.031657</td>\n",
       "    </tr>\n",
       "    <tr>\n",
       "      <th>min</th>\n",
       "      <td>4.000000</td>\n",
       "      <td>3.100000</td>\n",
       "    </tr>\n",
       "    <tr>\n",
       "      <th>25%</th>\n",
       "      <td>6.500000</td>\n",
       "      <td>6.695000</td>\n",
       "    </tr>\n",
       "    <tr>\n",
       "      <th>50%</th>\n",
       "      <td>9.000000</td>\n",
       "      <td>8.140000</td>\n",
       "    </tr>\n",
       "    <tr>\n",
       "      <th>75%</th>\n",
       "      <td>11.500000</td>\n",
       "      <td>8.950000</td>\n",
       "    </tr>\n",
       "    <tr>\n",
       "      <th>max</th>\n",
       "      <td>14.000000</td>\n",
       "      <td>9.260000</td>\n",
       "    </tr>\n",
       "  </tbody>\n",
       "</table style=\"display:inline\">&nbsp;&nbsp;&nbsp;&nbsp;"
      ]
     },
     "metadata": {},
     "output_type": "display_data"
    },
    {
     "name": "stdout",
     "output_type": "stream",
     "text": [
      "\n",
      "          Dataset III              Dataset IV\n"
     ]
    },
    {
     "data": {
      "text/html": [
       "<table style=\"display:inline\" border=\"1\" class=\"dataframe\">\n",
       "  <thead>\n",
       "    <tr style=\"text-align: right;\">\n",
       "      <th></th>\n",
       "      <th>x</th>\n",
       "      <th>y</th>\n",
       "    </tr>\n",
       "  </thead>\n",
       "  <tbody>\n",
       "    <tr>\n",
       "      <th>count</th>\n",
       "      <td>11.000000</td>\n",
       "      <td>11.000000</td>\n",
       "    </tr>\n",
       "    <tr>\n",
       "      <th>mean</th>\n",
       "      <td>9.000000</td>\n",
       "      <td>7.500000</td>\n",
       "    </tr>\n",
       "    <tr>\n",
       "      <th>std</th>\n",
       "      <td>3.316625</td>\n",
       "      <td>2.030424</td>\n",
       "    </tr>\n",
       "    <tr>\n",
       "      <th>min</th>\n",
       "      <td>4.000000</td>\n",
       "      <td>5.390000</td>\n",
       "    </tr>\n",
       "    <tr>\n",
       "      <th>25%</th>\n",
       "      <td>6.500000</td>\n",
       "      <td>6.250000</td>\n",
       "    </tr>\n",
       "    <tr>\n",
       "      <th>50%</th>\n",
       "      <td>9.000000</td>\n",
       "      <td>7.110000</td>\n",
       "    </tr>\n",
       "    <tr>\n",
       "      <th>75%</th>\n",
       "      <td>11.500000</td>\n",
       "      <td>7.980000</td>\n",
       "    </tr>\n",
       "    <tr>\n",
       "      <th>max</th>\n",
       "      <td>14.000000</td>\n",
       "      <td>12.740000</td>\n",
       "    </tr>\n",
       "  </tbody>\n",
       "</table style=\"display:inline\">&nbsp;&nbsp;&nbsp;&nbsp;<table style=\"display:inline\" border=\"1\" class=\"dataframe\">\n",
       "  <thead>\n",
       "    <tr style=\"text-align: right;\">\n",
       "      <th></th>\n",
       "      <th>x</th>\n",
       "      <th>y</th>\n",
       "    </tr>\n",
       "  </thead>\n",
       "  <tbody>\n",
       "    <tr>\n",
       "      <th>count</th>\n",
       "      <td>11.000000</td>\n",
       "      <td>11.000000</td>\n",
       "    </tr>\n",
       "    <tr>\n",
       "      <th>mean</th>\n",
       "      <td>9.000000</td>\n",
       "      <td>7.500909</td>\n",
       "    </tr>\n",
       "    <tr>\n",
       "      <th>std</th>\n",
       "      <td>3.316625</td>\n",
       "      <td>2.030579</td>\n",
       "    </tr>\n",
       "    <tr>\n",
       "      <th>min</th>\n",
       "      <td>8.000000</td>\n",
       "      <td>5.250000</td>\n",
       "    </tr>\n",
       "    <tr>\n",
       "      <th>25%</th>\n",
       "      <td>8.000000</td>\n",
       "      <td>6.170000</td>\n",
       "    </tr>\n",
       "    <tr>\n",
       "      <th>50%</th>\n",
       "      <td>8.000000</td>\n",
       "      <td>7.040000</td>\n",
       "    </tr>\n",
       "    <tr>\n",
       "      <th>75%</th>\n",
       "      <td>8.000000</td>\n",
       "      <td>8.190000</td>\n",
       "    </tr>\n",
       "    <tr>\n",
       "      <th>max</th>\n",
       "      <td>19.000000</td>\n",
       "      <td>12.500000</td>\n",
       "    </tr>\n",
       "  </tbody>\n",
       "</table style=\"display:inline\">&nbsp;&nbsp;&nbsp;&nbsp;"
      ]
     },
     "metadata": {},
     "output_type": "display_data"
    },
    {
     "name": "stdout",
     "output_type": "stream",
     "text": [
      "Correlaciones:\n",
      "\n",
      "     Dataset I           Dataset II           Dataset III           Dataset IV\n"
     ]
    },
    {
     "data": {
      "text/html": [
       "<table style=\"display:inline\" border=\"1\" class=\"dataframe\">\n",
       "  <thead>\n",
       "    <tr style=\"text-align: right;\">\n",
       "      <th></th>\n",
       "      <th>x</th>\n",
       "      <th>y</th>\n",
       "    </tr>\n",
       "  </thead>\n",
       "  <tbody>\n",
       "    <tr>\n",
       "      <th>x</th>\n",
       "      <td>1.000000</td>\n",
       "      <td>0.816421</td>\n",
       "    </tr>\n",
       "    <tr>\n",
       "      <th>y</th>\n",
       "      <td>0.816421</td>\n",
       "      <td>1.000000</td>\n",
       "    </tr>\n",
       "  </tbody>\n",
       "</table style=\"display:inline\">&nbsp;&nbsp;&nbsp;&nbsp;<table style=\"display:inline\" border=\"1\" class=\"dataframe\">\n",
       "  <thead>\n",
       "    <tr style=\"text-align: right;\">\n",
       "      <th></th>\n",
       "      <th>x</th>\n",
       "      <th>y</th>\n",
       "    </tr>\n",
       "  </thead>\n",
       "  <tbody>\n",
       "    <tr>\n",
       "      <th>x</th>\n",
       "      <td>1.000000</td>\n",
       "      <td>0.816237</td>\n",
       "    </tr>\n",
       "    <tr>\n",
       "      <th>y</th>\n",
       "      <td>0.816237</td>\n",
       "      <td>1.000000</td>\n",
       "    </tr>\n",
       "  </tbody>\n",
       "</table style=\"display:inline\">&nbsp;&nbsp;&nbsp;&nbsp;<table style=\"display:inline\" border=\"1\" class=\"dataframe\">\n",
       "  <thead>\n",
       "    <tr style=\"text-align: right;\">\n",
       "      <th></th>\n",
       "      <th>x</th>\n",
       "      <th>y</th>\n",
       "    </tr>\n",
       "  </thead>\n",
       "  <tbody>\n",
       "    <tr>\n",
       "      <th>x</th>\n",
       "      <td>1.000000</td>\n",
       "      <td>0.816287</td>\n",
       "    </tr>\n",
       "    <tr>\n",
       "      <th>y</th>\n",
       "      <td>0.816287</td>\n",
       "      <td>1.000000</td>\n",
       "    </tr>\n",
       "  </tbody>\n",
       "</table style=\"display:inline\">&nbsp;&nbsp;&nbsp;&nbsp;<table style=\"display:inline\" border=\"1\" class=\"dataframe\">\n",
       "  <thead>\n",
       "    <tr style=\"text-align: right;\">\n",
       "      <th></th>\n",
       "      <th>x</th>\n",
       "      <th>y</th>\n",
       "    </tr>\n",
       "  </thead>\n",
       "  <tbody>\n",
       "    <tr>\n",
       "      <th>x</th>\n",
       "      <td>1.000000</td>\n",
       "      <td>0.816521</td>\n",
       "    </tr>\n",
       "    <tr>\n",
       "      <th>y</th>\n",
       "      <td>0.816521</td>\n",
       "      <td>1.000000</td>\n",
       "    </tr>\n",
       "  </tbody>\n",
       "</table style=\"display:inline\">&nbsp;&nbsp;&nbsp;&nbsp;"
      ]
     },
     "metadata": {},
     "output_type": "display_data"
    },
    {
     "name": "stdout",
     "output_type": "stream",
     "text": [
      "Graficos:\n",
      "\n"
     ]
    },
    {
     "data": {
      "image/png": "[encoded data removed]",
      "text/plain": [
       "<Figure size 1152x288 with 4 Axes>"
      ]
     },
     "metadata": {
      "needs_background": "light"
     },
     "output_type": "display_data"
    }
   ],
   "source": [
    "from IPython.display import display_html\n",
    "\n",
    "def display_side_by_side(*args):\n",
    "    html_str = ''\n",
    "    for df in args:\n",
    "        html_str += df.to_html()\n",
    "        html_str += '&nbsp;&nbsp;&nbsp;&nbsp;'\n",
    "    display_html(\n",
    "        html_str.replace('table','table style=\"display:inline\"'), \n",
    "        raw=True\n",
    "    )\n",
    "\n",
    "import seaborn as sns\n",
    "import matplotlib.pyplot as plt\n",
    "\n",
    "# Cargar los datos del cuarteto de Anscombe\n",
    "anscombe = sns.load_dataset(\"anscombe\")\n",
    "\n",
    "# Dividir los datos en cuatro conjuntos según el valor de \"dataset\"\n",
    "ds1 = anscombe[anscombe['dataset'] == 'I']\n",
    "ds2 = anscombe[anscombe['dataset'] == 'II']\n",
    "ds3 = anscombe[anscombe['dataset'] == 'III']\n",
    "ds4 = anscombe[anscombe['dataset'] == 'IV']\n",
    "\n",
    "# Mostrar estadisticas para cada conjunto\n",
    "print(\"Estadisticas Basicas:\\n\")\n",
    "x=\" \"\n",
    "print(f\"{10*x}Dataset I {13*x}Dataset II\")\n",
    "display_side_by_side(ds1.describe(),ds2.describe())\n",
    "print()\n",
    "print(f\"{10*x}Dataset III {13*x}Dataset IV\")\n",
    "display_side_by_side(ds3.describe(),ds4.describe())\n",
    "\n",
    "# Mostrar  correlaciones para cada conjunto\n",
    "print(\"Correlaciones:\\n\")\n",
    "\n",
    "print(f\"{5*x}Dataset I {10*x}Dataset II {10*x}Dataset III {10*x}Dataset IV\")\n",
    "display_side_by_side(ds1.corr(),ds2.corr(),ds3.corr(),ds4.corr())\n",
    "\n",
    "\n",
    "print(\"Graficos:\\n\")\n",
    "\n",
    "# Crear una figura con cuatro subplots\n",
    "fig, axs = plt.subplots(ncols=4, figsize=(16, 4))\n",
    "\n",
    "# Graficar cada conjunto de datos en su respectivo subplot\n",
    "sns.regplot(x='x', y='y', data=ds1, ax=axs[0], ci=None)\n",
    "sns.regplot(x='x', y='y', data=ds2, ax=axs[1], ci=None)\n",
    "sns.regplot(x='x', y='y', data=ds3, ax=axs[2], ci=None)\n",
    "sns.regplot(x='x', y='y', data=ds4, ax=axs[3], ci=None)\n",
    "\n",
    "# Agregar títulos a los subplots\n",
    "axs[0].set_title('Dataset I')\n",
    "axs[1].set_title('Dataset II')\n",
    "axs[2].set_title('Dataset III')\n",
    "axs[3].set_title('Dataset IV')\n",
    "\n",
    "# Mostrar el gráfico\n",
    "plt.show()"
   ]
  },
  {
   "cell_type": "markdown",
   "id": "7907bd5a",
   "metadata": {},
   "source": [
    "### Paradoja de Simpson\n",
    "\n",
    "La **Paradoja de Simpson** es un fenómeno en la visualización de datos que puede ocurrir cuando se analizan datos de diferentes subgrupos o categorías de una población. La paradoja se produce cuando una tendencia o patrón que aparece en cada subgrupo se invierte o desaparece cuando se combinan los datos de todos los subgrupos.\n",
    "\n",
    "Supongamos que tienes datos de la tasa de éxito de un tratamiento médico para tres grupos de pacientes: uno con edad joven, uno con edad media y uno con edad avanzada. Los datos se presentan en la siguiente tabla:\n",
    "\n",
    "|                 \t| Grupo 1 \t| Grupo 2 \t| Grupo 3 \t|\n",
    "|-----------------\t|---------\t|---------\t|---------\t|\n",
    "| Tasa de éxito   \t| 90%     \t| 85%     \t| 70%     \t|\n",
    "| Número de casos \t| 100     \t| 200     \t| 300     \t|\n",
    "\n",
    "En la tabla anterior, se puede observar que la tasa de éxito general del tratamiento es del 80%. Sin embargo, si se examina cada grupo de forma individual, la tasa de éxito para cada grupo es mayor en comparación con el promedio general. Esto es un ejemplo de la Paradoja de Simpson.\n",
    "\n",
    "A continuación se presenta un código en Python que ilustra este ejemplo:"
   ]
  },
  {
   "cell_type": "code",
   "execution_count": 2,
   "id": "ec2ae7cc",
   "metadata": {
    "tags": [
     "{",
     "\"tags\":",
     "[",
     "\"hide-input\"",
     "]",
     "}"
    ]
   },
   "outputs": [
    {
     "name": "stdout",
     "output_type": "stream",
     "text": [
      "Tasa de éxito general: 0.8166666666666668\n"
     ]
    },
    {
     "data": {
      "image/png": "[encoded data removed]",
      "text/plain": [
       "<Figure size 432x288 with 1 Axes>"
      ]
     },
     "metadata": {
      "needs_background": "light"
     },
     "output_type": "display_data"
    }
   ],
   "source": [
    "import pandas as pd\n",
    "import matplotlib.pyplot as plt\n",
    "\n",
    "# Crear un DataFrame con los datos\n",
    "data = {'Grupo': ['Grupo 1', 'Grupo 2', 'Grupo 3'], \n",
    "        'Tasa de éxito': [0.9, 0.85, 0.7], \n",
    "        'Número de casos': [100, 200, 300]}\n",
    "df = pd.DataFrame(data)\n",
    "\n",
    "# Calcular la tasa de éxito general\n",
    "general_success_rate = df['Tasa de éxito'].mean()\n",
    "print('Tasa de éxito general:', general_success_rate)\n",
    "\n",
    "# Graficar los datos\n",
    "fig, ax = plt.subplots()\n",
    "df.plot(x='Grupo', y='Tasa de éxito', kind='bar', ax=ax)\n",
    "ax.axhline(y=general_success_rate, color='r', linestyle='--')\n",
    "ax.set_ylabel('Tasa de éxito')\n",
    "ax.set_title('Paradoja de Simpson')\n",
    "plt.show()"
   ]
  },
  {
   "cell_type": "markdown",
   "id": "0ff05ae0",
   "metadata": {},
   "source": [
    "Otro ejemplo sería aplicar un modelo de regresión líneal al conjunto de **datos completos** y luego aplicarlo al conjunto de datos separado **por categorías**."
   ]
  },
  {
   "cell_type": "code",
   "execution_count": 3,
   "id": "50733267",
   "metadata": {
    "tags": [
     "{",
     "\"tags\":",
     "[",
     "\"hide-input\"",
     "]",
     "}"
    ]
   },
   "outputs": [],
   "source": [
    "import pandas as pd\n",
    "import numpy as np\n",
    "from matplotlib import pyplot as plt\n",
    "\n",
    "# Generate 'random' data\n",
    "np.random.seed(0)\n",
    "X = 2.5 * np.random.randn(100) + 1.5   # Array of 100 values with mean = 1.5, stddev = 2.5\n",
    "res = 0.5 * np.random.randn(100)       # Generate 100 residual terms\n",
    "y = 2 + 0.3 * X + res                  # Actual values of Y\n",
    "\n",
    "# Create pandas dataframe to store our X and y values\n",
    "ds1 = pd.DataFrame({\n",
    "    'x': X+10,\n",
    "    'y': y+10}\n",
    ").assign(label = 'Dataset I')\n",
    "\n",
    "ds2 = pd.DataFrame({\n",
    "    'x': X,\n",
    "    'y': y}\n",
    ").assign(label = 'Dataset II')\n",
    "\n",
    "df = pd.concat([ds1,ds2])"
   ]
  },
  {
   "cell_type": "code",
   "execution_count": 4,
   "id": "b453bbb3",
   "metadata": {
    "tags": [
     "{",
     "\"tags\":",
     "[",
     "\"hide-input\"",
     "]",
     "}"
    ]
   },
   "outputs": [
    {
     "name": "stdout",
     "output_type": "stream",
     "text": [
      "Grafico para todo el conjunto de datos\n"
     ]
    },
    {
     "data": {
      "image/png": "[encoded data removed]",
      "text/plain": [
       "<Figure size 360x360 with 1 Axes>"
      ]
     },
     "metadata": {
      "needs_background": "light"
     },
     "output_type": "display_data"
    }
   ],
   "source": [
    "print(\"Grafico para todo el conjunto de datos\")\n",
    "sns.lmplot (x='x', y='y',  data=df,   ci=None)\n",
    "plt.show()"
   ]
  },
  {
   "cell_type": "code",
   "execution_count": 5,
   "id": "0fb845ba",
   "metadata": {
    "tags": [
     "{",
     "\"tags\":",
     "[",
     "\"hide-input\"",
     "]",
     "}"
    ]
   },
   "outputs": [
    {
     "name": "stdout",
     "output_type": "stream",
     "text": [
      "Grafico para los grupos por separados\n"
     ]
    },
    {
     "data": {
      "image/png": "[encoded data removed]",
      "text/plain": [
       "<Figure size 444x360 with 1 Axes>"
      ]
     },
     "metadata": {
      "needs_background": "light"
     },
     "output_type": "display_data"
    }
   ],
   "source": [
    "print(\"Grafico para los grupos por separados\")\n",
    "sns.lmplot (x='x', y='y', data=df,    hue='label', ci=None)\n",
    "plt.show()"
   ]
  },
  {
   "cell_type": "markdown",
   "id": "41483acd",
   "metadata": {},
   "source": [
    "## Teoría de visualización\n",
    "\n",
    "La **teoría de visualización** se refiere a la investigación y el estudio de cómo las personas procesan, interpretan y comprenden información visual. La visualización puede involucrar cualquier tipo de información que pueda ser representada visualmente, incluyendo gráficos, diagramas, mapas, fotografías y videos.\n",
    "\n",
    "Algunos de los conceptos y principios importantes en la teoría de visualización incluyen:\n",
    "\n",
    "* **Percepción visual**: Cómo procesamos y entendemos la información visual a través de nuestros sentidos.\n",
    "\n",
    "\n",
    "* **Cognición visual**: Cómo procesamos y entendemos la información visual a través de nuestros procesos mentales, como la atención, la memoria y la toma de decisiones.\n",
    "\n",
    "\n",
    "* **Diseño visual**: Cómo se pueden crear visualizaciones efectivas y atractivas para comunicar información de manera clara y efectiva.\n",
    "\n",
    "\n",
    "* **Interactividad visual**: Cómo las visualizaciones interactivas pueden ayudar a los usuarios a explorar y comprender mejor la información visual.\n",
    "\n",
    "\n",
    "### Consejos generales\n",
    "\n",
    "**Noah Iliinsky** es un experto en visualización de datos y ha identificado cuatro pilares fundamentales de la visualización. \n",
    "\n",
    "Estos pilares son:\n",
    "\n",
    "* **Contenido**: El contenido se refiere a la información que se está visualizando. Para que la visualización sea efectiva, es importante tener una comprensión clara del contenido y cómo se relaciona con el objetivo de la visualización.\n",
    "\n",
    "\n",
    "* **Función**: La función se refiere al propósito de la visualización. ¿Qué se espera que haga la visualización? ¿Debe mostrar una tendencia, comparar datos o explorar patrones? Es importante tener en cuenta la función de la visualización para asegurarse de que se está diseñando de manera efectiva.\n",
    "\n",
    "\n",
    "* **Forma**: La forma se refiere a la apariencia visual de la visualización. Esto incluye cosas como el tipo de gráfico o diagrama utilizado, la paleta de colores y la tipografía. La forma debe ser coherente y legible para que la visualización sea fácil de entender.\n",
    "\n",
    "\n",
    "* **Audiencia**: La audiencia se refiere a las personas que verán la visualización. La comprensión de la audiencia es esencial para determinar el nivel de detalle y complejidad adecuados para la visualización. La visualización debe ser accesible y comprensible para su audiencia objetivo.\n",
    "\n",
    "> **Nota**: Se recomienda ver el siguiente [video](https://www.youtube.com/watch?v=nC92wIzpQFE&ab_channel=StarsConf) para profundizar estos conceptos\n",
    "\n",
    "\n",
    "## Más Aspectos de la Visualización\n",
    "\n",
    "### Honestidad\n",
    "\n",
    "El ojo humano no tiene la misma precisión al estimar distintas atribuciones:\n",
    "* **Largo**: Bien estimado y sin sesgo, con un factor multiplicativo de 0.9 a 1.1.\n",
    "* **Área**: Subestimado y con sesgo, con un factor multiplicativo de 0.6 a 0.9.\n",
    "* **Volumen**: Muy subestimado y con sesgo, con un factor multiplicativo de 0.5 a 0.8.\n",
    "\n",
    "Resulta inadecuado realizar gráficos de datos utilizando áreas o volúmenes si no queda claro la atribución utilizada.\n",
    "\n",
    "<img src=\"https://drive.google.com/uc?export=view&id=1E7EKU89dauPh6qXZV1MtLlFPHA3BJaPe\" width = \"500\" align=\"center\"/>\n",
    "\n",
    "\n",
    "Una pseudo-excepción la constituyen los _pie-chart_ o gráficos circulares,\n",
    "porque el ojo humano distingue bien ángulos y segmentos de círculo,\n",
    "y porque es posible indicar los porcentajes respectivos."
   ]
  },
  {
   "cell_type": "code",
   "execution_count": 6,
   "id": "533f4ec9",
   "metadata": {
    "tags": [
     "{",
     "\"tags\":",
     "[",
     "\"hide-input\"",
     "]",
     "}"
    ]
   },
   "outputs": [
    {
     "data": {
      "image/png": "[encoded data removed]",
      "text/plain": [
       "<Figure size 576x576 with 1 Axes>"
      ]
     },
     "metadata": {},
     "output_type": "display_data"
    }
   ],
   "source": [
    "# Pie chart, where the slices will be ordered and plotted counter-clockwise:\n",
    "labels = 'Frogs', 'Hogs', 'Dogs', 'Logs'\n",
    "sizes = [15, 30, 45, 10]\n",
    "explode = (0, 0.1, 0, 0)  # only \"explode\" the 2nd slice (i.e. 'Hogs')\n",
    "\n",
    "fig1, ax1 = plt.subplots(figsize=(8, 8))\n",
    "ax1.pie(\n",
    "    sizes,\n",
    "    explode=explode,\n",
    "    labels=labels,\n",
    "    autopct='%1.1f%%',\n",
    "    shadow=True,\n",
    "    startangle=90\n",
    ")\n",
    "ax1.axis('equal')  # Equal aspect ratio ensures that pie is drawn as a circle.\n",
    "\n",
    "plt.show()"
   ]
  },
  {
   "cell_type": "markdown",
   "id": "034652de",
   "metadata": {},
   "source": [
    "### Priorización\n",
    "\n",
    "Dato más importante debe utilizar elemento de mejor percepción."
   ]
  },
  {
   "cell_type": "code",
   "execution_count": 7,
   "id": "12000bc4",
   "metadata": {
    "tags": [
     "{",
     "\"tags\":",
     "[",
     "\"hide-input\"",
     "]",
     "}"
    ]
   },
   "outputs": [
    {
     "data": {
      "image/png": "[encoded data removed]",
      "text/plain": [
       "<Figure size 1152x576 with 4 Axes>"
      ]
     },
     "metadata": {
      "needs_background": "light"
     },
     "output_type": "display_data"
    }
   ],
   "source": [
    "np.random.seed(42)\n",
    "N = 31\n",
    "x = np.arange(N)\n",
    "y1 = 80 + 20 *x / N + 5 * np.random.rand(N)\n",
    "y2 = 75 + 25 *x / N + 5 * np.random.rand(N)\n",
    "fig, axs = plt.subplots(2, 2, sharex=True, sharey=True, figsize=(16,8))\n",
    "\n",
    "axs[0][0].plot(x, y1, 'ok')\n",
    "axs[0][0].plot(x, y2, 'sk')\n",
    "\n",
    "axs[0][1].plot(x, y1, 'ob')\n",
    "axs[0][1].plot(x, y2, 'or')\n",
    "\n",
    "axs[1][0].plot(x, y1, 'ob')\n",
    "axs[1][0].plot(x, y2, '*k')\n",
    "\n",
    "axs[1][1].plot(x, y1, 'sr')\n",
    "axs[1][1].plot(x, y2, 'ob')\n",
    "\n",
    "plt.show()"
   ]
  },
  {
   "cell_type": "markdown",
   "id": "5bad392d",
   "metadata": {
    "tags": [
     "{",
     "\"tags\":",
     "[",
     "\"hide-input\"",
     "]",
     "}"
    ]
   },
   "source": [
    "### Percepción\n",
    "\n",
    "No todos los elementos tienen la misma percepción a nivel del sistema visual. En particular, el color y la forma son elementos preatentivos: un color distinto o una forma distinta se reconocen de manera no conciente.\n",
    "\n",
    "Ejemplos de elementos preatentivos.\n",
    "\n",
    "<img src=\"https://raw.githubusercontent.com/fralfaro/MAT281_2022/main/docs/lectures/data_manipulation/visualization/images/preatentivo1.png\" alt=\"\" width=\"600\" align=\"middle\"/>\n",
    "\n",
    "<img src=\"https://raw.githubusercontent.com/fralfaro/MAT281_2022/main/docs/lectures/data_manipulation/visualization/images/preatentivo2.png\" alt=\"\" width=\"600\" align=\"middle\"/>\n",
    "\n",
    "\n",
    "\n",
    "El sistema visual humano puede estimar con precisión siguientes atributos visuales:\n",
    "1. Posición\n",
    "2. Largo\n",
    "3. Pendiente\n",
    "4. Ángulo\n",
    "5. Área\n",
    "6. Volumen\n",
    "7. Color\n",
    "\n",
    "Utilice el atributo que se estima con mayor precisión cuando sea posible.\n",
    "\n",
    "### Colormaps\n",
    "Puesto que la percepción del color tiene muy baja precisión, resulta ***inadecuado*** tratar de representar un valor numérico con colores.\n",
    "* ¿Qué diferencia numérica existe entre el verde y el rojo?\n",
    "* ¿Que asociación preexistente posee el color rojo, el amarillo y el verde?\n",
    "* ¿Con cuánta precisión podemos distinguir valores en una escala de grises?\n",
    "\n",
    "<img src=\"https://drive.google.com/uc?export=view&id=173WCTQ0Bwj0y3ta8bC7Ybrruds8I3mdR\" width = \"250\" align=\"center\"/>\n",
    "\n"
   ]
  },
  {
   "cell_type": "markdown",
   "id": "0bc24c9d",
   "metadata": {},
   "source": [
    "\n",
    "## Python Landscape\n",
    "\n",
    "Para empezar, [PyViz](https://pyviz.org/) es un sitio web que se dedica a ayudar a los usuarios a decidir dentro de las mejores herramientas de visualización open-source implementadas en Python, dependiendo de sus necesidades y objetivos. Mucho de lo que se menciona en esta sección está en detalle en la página web del proyecto PyViz.\n",
    "\n",
    "Algunas de las librerías de visualización de Python más conocidas son:\n",
    "\n",
    "<img src=\"https://drive.google.com/uc?export=view&id=1iArYU6XXoPtTGIXsdmZru_sC4f8snf8g\" width = \"700\" align=\"center\"/>\n",
    "\n",
    "\n",
    "Este esquema es una adaptación de uno presentado en la charla [_The Python Visualization Landscape_](https://us.pycon.org/2017/schedule/presentation/616/) realizada por [Jake VanderPlas](http://vanderplas.com/) en la PyCon 2017.\n",
    "\n",
    "Cada una de estas librerías fue creada para satisfacer diferentes necesidades, algunas han ganado más adeptos que otras por uno u otro motivo. Tal como avanza la tecnología, estas librerías se actualizan o se crean nuevas, la importancia no recae en ser un experto en una, si no en saber adaptarse a las situaciones, tomar la mejor decicisión y escoger según nuestras necesidades y preferencias. Por ejemplo, `matplotlib` nació como una solución para imitar los gráficos de `MATLAB` (puedes ver la historia completa [aquí](https://matplotlib.org/users/history.html)), manteniendo una sintaxis similar y con ello poder crear gráficos __estáticos__ de muy buen nivel.\n",
    "\n",
    "Debido al éxito de `matplotlib` en la comunidad, nacen librerías basadas ella. Algunos ejemplos son:\n",
    "\n",
    "- `seaborn` se basa en `matpĺotlib` pero su nicho corresponde a las visualizaciones estadísticas.\n",
    "- `ggpy` una suerte de copia a `ggplot2` perteneciente al lenguaje de programación `R`.\n",
    "- `networkx` visualizaciones de grafos.\n",
    "- `pandas` no es una librería de visualización propiamente tal, pero utiliza a `matplotplib` como _bakcned_ en los métodos con tal de crear gráficos de manera muy rápida, e.g. `pandas.DataFrame.plot.bar()`\n",
    "\n",
    "Por otro lado, con tal de crear visualizaciones __interactivas__ aparecen librerías basadas en `javascript`, algunas de las más conocidas en Python son:\n",
    "\n",
    "- `bokeh` tiene como objetivo proporcionar gráficos versátiles, elegantes e incluso interactivos, teniendo una gran performance con grandes datasets o incluso streaming de datos.\n",
    "- `plotly` visualizaciones interactivas que en conjunto a `Dash` (de la misma empresa) permite crear aplicaciones webs, similar a `shiny` de `R`.\n",
    "- `D3.js` a pesar de estar basado en `javascript` se ha ganado un lugar en el corazón de toda la comunidad, debido a la ilimitada cantidad de visualizaciones que son posibles de hacer, por ejemplo, la [malla interactiva](https://mallas.labcomp.cl/) que hizo un estudiante de la UTFSM está hecha en `D3.js`. \n",
    "\n",
    "De las librerías más recientes está `Altair`, que consiste en visualizaciones declarativas (ya lo veremos en el próximo laboratorio). Construída sobre `Vega-Lite`, a su vez que esté está sobre `Vega` y este finalmente sobre `D3.js`. `Altair` permite crear visualizaciones estáticas e interactivas con pocas líneas de código, sin embargo, al ser relativamente nueva, aún existen funcionalidades en desarrollo o que simplemente aún no existen en esta librería pero en otras si.\n",
    "\n"
   ]
  }
 ],
 "metadata": {
  "kernelspec": {
   "display_name": "Python 3 (ipykernel)",
   "language": "python",
   "name": "python3"
  },
  "language_info": {
   "codemirror_mode": {
    "name": "ipython",
    "version": 3
   },
   "file_extension": ".py",
   "mimetype": "text/x-python",
   "name": "python",
   "nbconvert_exporter": "python",
   "pygments_lexer": "ipython3",
   "version": "3.8.10"
  }
 },
 "nbformat": 4,
 "nbformat_minor": 5
}
