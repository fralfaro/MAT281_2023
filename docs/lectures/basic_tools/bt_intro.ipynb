{
 "cells": [
  {
   "cell_type": "markdown",
   "id": "bb352b10",
   "metadata": {},
   "source": [
    "# Introducción\n",
    "\n",
    "<a id='c1'></a>\n",
    "## Sistema Operativo"
   ]
  },
  {
   "cell_type": "markdown",
   "id": "ad4514ac",
   "metadata": {},
   "source": [
    "<img src=\"https://drive.google.com/uc?export=view&id=18Lpga5oTzrhXfZLf1NVQZ3zj6dZHhPpJ\" width = \"600\" align=\"center\"/>"
   ]
  },
  {
   "cell_type": "markdown",
   "id": "c733c63b",
   "metadata": {},
   "source": [
    "* Personalmente recomiendo **Linux**, en particular distribuciones como Ubuntu, Mint o Fedora por su facilidad a la hora de instalar.\n",
    "* En ocasiones las implementaciones en **Windows** no están completamente integradas e inclusive en ocasiones no están disponibles.\n",
    "    - Una alternativa es [**Windows Subsystem for Linux**](https://docs.microsoft.com/en-us/windows/wsl/about), pero lamentablemente no se asegura un 100% de compatibilidad.\n",
    "* En el caso que poseas un equipo con **macOS** no debería haber problema."
   ]
  },
  {
   "cell_type": "markdown",
   "id": "697ff2d5",
   "metadata": {},
   "source": [
    "### Interfaz de Línea de Comandos (*Command Line Interface* / CLI)\n",
    "\n",
    "* Es un método que permite a los usuarios interactuar con algún programa informático por medio de líneas de texto.\n",
    "* Típicamente se hace uso de una terminal/*shell* (ver imagen).\n",
    "* En el día a día dentro de la oficina facilita flujo de trabajo.\n",
    "* Permite moverse entre manipular directorios y ficheros, instalar/actualizar herramientas, aplicaciones, softwares, etc.\n",
    "\n",
    "<img src=\"https://drive.google.com/uc?export=view&id=1dZ9A0Q5LI7z4Lc_WxLPUcBTRgdZQcmgh\" width = \"700\" align=\"center\"/>\n",
    "\n"
   ]
  },
  {
   "cell_type": "markdown",
   "id": "55e28c83",
   "metadata": {},
   "source": [
    "## Python\n",
    "\n",
    "<img src=\"https://drive.google.com/uc?export=view&id=1X2cJKKD4KvGb_nkr2n3-EB9umYMX5_pc\" width = \"200\" align=\"center\"/>\n",
    "\n",
    "[Python](https://www.python.org/) es un lenguaje de programación interpretado cuya filosofía hace hincapié en la legibilidad de su código.\n",
    "\n",
    "Se trata de un lenguaje de programación multiparadigma, ya que soporta orientación a objetos, programación imperativa y, en menor medida, programación funcional. Es un lenguaje interpretado, dinámico y multiplataforma.\n",
    "\n",
    "Las principales librerías científicas a instalar y que ocuparemos durante el curso son:\n",
    "\n",
    "* [Numpy](http://www.numpy.org/): Computación científica.\n",
    "* [Pandas](https://pandas.pydata.org/): Análisis de datos.\n",
    "* [Matplotlib](https://matplotlib.org/): Visualización.\n",
    "* [Scikit-Learn](http://scikit-learn.org/stable/): Machine Learning\n",
    "\n",
    "Durante el curso se ocuparán más librerías a modo de complementación (ejemplo, scipy, seaborn, statsmodels ,etc.)\n",
    "\n",
    "### Entorno Virtual\n",
    "\n",
    "<img src=\"https://drive.google.com/uc?export=view&id=13jwJyUiioa1FahcxkVj1eC3Ast4XMYSW\" width = \"400\" align=\"center\"/>\n"
   ]
  },
  {
   "cell_type": "markdown",
   "id": "bb86f8c6",
   "metadata": {},
   "source": [
    "__Problemas recurrentes:__\n",
    "- Dependencias de librerías (*packages*) incompatibles.\n",
    "- Dificultad a la hora de compartir y reproducir resultados, e.g. no conocer las versiones de las librerías instaladas.\n",
    "- Tener una máquina virtual para cada desarrollo es tedioso y costoso.\n",
    "- Miedo constante a instalar algo nuevo y tu script vuelva a funcionar.\n",
    "\n",
    "**Solución** \n",
    "\n",
    "Aislar el desarrollo con tal de mejorar la compatibilidad y reproducibilidad de resultados. \n",
    "\n",
    "**Para el curso (es recomendable)**\n",
    "\n",
    "<img src=\"https://drive.google.com/uc?export=view&id=18WGhAX5EjwwI0lqvqn2ez-UOsHm4Lc4U\" width = \"400\" align=\"center\"/>\n",
    "\n",
    "> *Package, dependency and environment management for any language—Python, R, Ruby, Lua, Scala, Java, JavaScript, C/ C++, FORTRAN.*\n",
    "\n",
    "**¿Por qué Conda?**\n",
    "\n",
    "* Open Source\n",
    "* Gestor de librerías __y__ entornos virtuales. \n",
    "* Compatible con Linux, Windows y macOS.\n",
    "* Es agnóstico al lenguaje de programación (inicialmente fue desarrollado para Python).\n",
    "* Es de fácil instalación y uso.\n",
    "\n",
    "**Otras alternativas**\n",
    "\n",
    "* `pip + virtualenv`: el primero es el gestor favorito de librerías de Python y el segundo es un gestos de entornos virtuales, el contra es que es exclusivo de Python.\n",
    "* `Pipenv` o  `Poetry`: librerías enfocadas al manejo de dependencias (muy recomendables!) "
   ]
  },
  {
   "cell_type": "markdown",
   "id": "db075381",
   "metadata": {},
   "source": [
    "## Entorno de desarrollo integrado\n",
    "\n",
    "<img src=\"https://drive.google.com/uc?export=view&id=1KHqKPRrjZ95LKLGphB-4V8BOSmuzbLRY\" width = \"400\" align=\"center\"/>\n",
    "\n",
    "\n",
    "* Un [entorno de desarrollo integrado](https://es.wikipedia.org/wiki/Entorno_de_desarrollo_integrado), en inglés **Integrated Development Environment (IDE)**, es una aplicación informática que proporciona servicios integrales para facilitarle al desarrollador o programador el desarrollo de software.\n",
    "\n",
    "* Normalmente, un IDE consiste de un editor de código fuente, herramientas de construcción automáticas y un depurador. La mayoría de los IDE tienen auto-completado inteligente de código (IntelliSense). \n",
    "\n",
    "* Algunos IDE contienen un compilador, un intérprete, o ambos, tales como NetBeans y Eclipse; otros no, tales como SharpDevelop y Lazarus.\n",
    "\n",
    "Existen varios IDE populares que sirven para varios lenguajes de programaci+on. En python, el más recomendable es [Pycharm](https://www.jetbrains.com/pycharm/?gclid=Cj0KCQjw-uH6BRDQARIsAI3I-Uc0HFf8ll0EZRnc6FCFaozMsnxkCiciIok-iRMyfN1xHB9vaArGw6IaAnV7EALw_wcB)."
   ]
  },
  {
   "cell_type": "markdown",
   "id": "2b55801f",
   "metadata": {},
   "source": [
    "### Pycharm\n",
    "\n",
    "<img src=\"https://drive.google.com/uc?export=view&id=14D1nSHAHDEP3hgYbvyIKYwSjV0m4Uv2X\" width = \"200\" align=\"center\"/>\n",
    "\n",
    "PyCharm es un IDE para desarrolladores profesionales. Fue creado por JetBrains, una empresa conocida por crear excelentes herramientas de desarrollo de software.\n",
    "\n",
    "Hay dos versiones de PyCharm:\n",
    "\n",
    "* **Community**: versión gratuita de código abierto, ligera, buena para Python y desarrollo científico\n",
    "* **Professional**: versión de pago, IDE con todas las funciones con soporte para desarrollo web también\n",
    "\n",
    "### Observación\n",
    "\n",
    "Se recomienda que puedan descargar Pycharm (en su versión gratuita) para poder familiarizarse con este tipo de herramientas, aunque el curso está orientado a trabajar sobre la terminal y con jupyter notebook."
   ]
  },
  {
   "cell_type": "markdown",
   "id": "0f53d6e9",
   "metadata": {},
   "source": [
    "## Project Jupyter \n",
    "\n",
    "[Project Jupyter](https://jupyter.org/index.html) exists to develop open-source software, open-standards, and services for interactive computing across dozens of programming languages.*\n",
    "\n",
    "<img src=\"https://drive.google.com/uc?export=view&id=1vU6my6StGiM2GePMHz8zh3kxoeTFjJZx\" width = \"200\" align=\"center\"/>\n",
    "\n",
    "### Jupyter Notebook\n",
    "\n",
    "Es una aplicación web que permite crear y compartir documentos que contienen código, ecuaciones, visualizaciones y texto. Entre sus usos se encuentra:\n",
    "\n",
    "* Limpieza de datos\n",
    "* Transformación de datos\n",
    "* Simulaciones numéricas\n",
    "* Modelamiendo Estadístico\n",
    "* Visualización de Datos\n",
    "* Machine Learning\n",
    "* Mucho más.\n",
    "\n",
    "### Jupyter Lab\n",
    "\n",
    "<img src=\"https://drive.google.com/uc?export=view&id=1Jd1nDAaOIx6oi71t4vlNyk9U5Ck4nXbO\" width = \"200\" align=\"center\"/>\n",
    "\n",
    "* Es la siguiente generación de la interfaz de usuario de *Project Jupyter*.\n",
    "* Similar a Jupyter Notebook cuenta con la facilidad de editar archivos .ipynb (notebooks) y heramientas como una terminal, editor de texto, explorador de archivos, etc.\n",
    "* Eventualmente Jupyter Lab reemplazará a Jupyter Notebok (aunque la versión estable fue liberada hace algunos meses).\n",
    "* Cuenta con una serie de extensiones que puedes instalar (y desarrollar inclurisve.\n",
    "* Más información en: https://github.com/jupyterlab/jupyterlab-demo"
   ]
  },
  {
   "cell_type": "markdown",
   "id": "6e9e75fc",
   "metadata": {},
   "source": [
    "### Otros Proyectos\n",
    "\n",
    "Entre los más conocidos se encuentran:\n",
    "\n",
    "* [JupyterHub](https://jupyterhub.readthedocs.io/): Distribuir Jupyter Noterbooks a múltiples usuarios.\n",
    "* [nbviewer](https://nbviewer.jupyter.org/): Compartir Jupyter Notebooks.\n",
    "* [Jupyter Book](https://jupyterbook.org/): Construir y publicar libros de tópicos computacionales.\n",
    "* [Jupyter Docker Stacks](https://jupyter-docker-stacks.readthedocs.io/): Imágenes de Jupyter para utilizar en Docker."
   ]
  },
  {
   "cell_type": "markdown",
   "id": "c51138c5",
   "metadata": {},
   "source": [
    "## Versionamiento de Código\n",
    "\n",
    "<img src=\"https://drive.google.com/uc?export=view&id=1Ut8o7F-6gVnOAKdCoeKeQSQVeKp4jUQF\" width = \"600\" align=\"center\"/>\n",
    "\n",
    "* Permite compartir el código fuente de nuestros desarrollos y a la vez mantener un registro de los cambios por los que va pasando.\n",
    "\n",
    "* Herramienta más importante y fundamental dentro del desarrollo.\n",
    "* Tipos de versionadores de código:\n",
    " * [Sistemas Centralizados](https://sites.google.com/site/practicadesarrollosoft/temario/sistemas-de-versionado-de-cdigo/sistemas-de-versionado-de-cdigo-centralizados): Son los más \"tradicionales\", por ejemplo SVN, CVS, etc.\n",
    " * [Sistemas Distribuidos](https://sites.google.com/site/practicadesarrollosoft/temario/sistemas-de-versionado-de-cdigo/sistemas-de-versionado-de-cdigo-distribuidos): son los que están en auge actualmente como: Git, Mercurial, Bazaar, etc."
   ]
  },
  {
   "cell_type": "markdown",
   "id": "880cdd25",
   "metadata": {},
   "source": [
    "### Git\n",
    "\n",
    "<img src=\"https://drive.google.com/uc?export=view&id=11HuPSXZirEprOaDLF16lWhRZBhmhK9xo\" width = \"400\" align=\"center\"/>\n",
    "\n",
    "> [__Git__](https://git-scm.com/) is a free and open source distributed version control system designed to handle everything from small to very large projects with speed and efficiency.\n",
    "\n",
    "\n",
    "Es importante comprender que _Git_ es la herramienta que permite versionar tus proyectos, sin embargo, a la hora de querer aprovechar más funcionalidades, como compartir o sincronizar tus trabajos se hace necesario utilizar servicios externos. Los más famosos son:\n",
    "\n",
    "* GitHub\n",
    "* GitLab\n",
    "* Bitbucket\n",
    "\n",
    "Piensa lo siguiente, cualquiera podría implementar un correo electrónico entre dos computadoras conectadas entre ellas por LAN pero no conectadas a Internet. Sin embargo la gente utiliza servicios como Gmail, Outlook, etc. con tal de aprovechar de mejor manera las funcionalidades que ofrece la tecnología del correo electrónico. Esta es una analogía perfecta entre las diferencias de Git y los servicios como GitHub o GitLab.\n",
    "\n",
    "### GitHub\n",
    "\n",
    "<img src=\"https://drive.google.com/uc?export=view&id=1EYCy88maSKMvLl_cBa_f1LwRGe5Qo3GS\" width = \"400\" align=\"center\"/>\n",
    "\n",
    "> [GitHub](https://github.com/) is a development platform inspired by the way you work. From open source to business, you can host and review code, manage projects, and build software alongside 30 million developers.M\n",
    "\n",
    "### Gitlab\n",
    "\n",
    "<img src=\"https://drive.google.com/uc?export=view&id=1cfRZBKk1eCKa69muhVLx4LRKv9JOl76i\" width = \"400\" align=\"center\"/>\n",
    "\n",
    "\n",
    "\n",
    "\n",
    "> [Gitlab](https://gitlab.com/) is an open source end-to-end software development platform with built-in version control, issue tracking, code review, CI/CD, and more. Self-host GitLab on your own servers, in a container, or on a cloud provider.\n",
    "\n"
   ]
  },
  {
   "cell_type": "markdown",
   "id": "de3d9f63",
   "metadata": {},
   "source": [
    "\n",
    "### Resumen\n",
    "\n",
    "* Sistema operativo: Cualquiera, sin embargo se recomiendan alternativas basadas en Unix.\n",
    "* Lenguaje de programación: Python\n",
    "* Entorno virtual: Conda, preferentemetne a través de miniconda.\n",
    "* Entorno de trabajo: Jupyter Lab.\n",
    "* Versionamiento: Git & GitHub."
   ]
  },
  {
   "cell_type": "markdown",
   "id": "0db570a3",
   "metadata": {},
   "source": [
    "## Configuraciones\n",
    "\n",
    "### Git\n",
    "\n",
    "Puede descargar el instalador en la [página oficial](https://git-scm.com/downloads) (escoger el sistema operativo correspondiente).\n",
    "\n",
    "Para validar si tu instalación fue correcta, debes ejecutar en la terminal:\n",
    " ```\n",
    " git --version\n",
    " ```\n",
    "Usuarios de Windows que no agregaron Git al `PATH` tendrán que utilizar la terminal `Git Bash`.\n",
    "\n",
    "### GitHub\n",
    "\n",
    "Crear una cuenta directamente en el [sitio oficial](https://github.com/).\n",
    "    * Utilizando tu correo institucional puedes registrarte a través de [GitHub Student Developer Pack](https://education.github.com/pack), con el cual puedes acceder a repositorios privados, entre otras cosas. \n",
    "\n",
    "\n",
    "### Google Colab\n",
    "\n",
    "[Google Colab](https://colab.research.google.com/) será la herramienta oficial que utilizaremos en este curso. Google Colab proporciona un entorno en línea para ejecutar y desarrollar código Python, lo que significa que no es necesario configurar nada en tu computadora local. Simplemente necesitarás una conexión a Internet y una cuenta de Google para aprovechar al máximo este curso.\n",
    "\n",
    "Con Google Colab, podrás seguir las lecciones, completar ejercicios interactivos y trabajar en proyectos prácticos, todo dentro de un entorno de programación en línea. Además, Colab ofrece la capacidad de colaborar con otros estudiantes en tiempo real, lo que fomenta el aprendizaje colaborativo y la resolución conjunta de problemas.\n",
    "\n",
    "### Portafolio Personal\n",
    "\n",
    "Para los entregables del curso, utilizaremos la plantilla de [MAT281-Portfolio](https://github.com/fralfaro/MAT281-Portfolio).\n",
    "\n",
    "> **Nota**: Las instrucciones de uso se encuentran en el [siguiente archivo](https://github.com/fralfaro/MAT281-Portfolio/blob/master/docs/setup.md).\n",
    "\n",
    "\n"
   ]
  }
 ],
 "metadata": {
  "jupytext": {
   "cell_metadata_filter": "-all",
   "main_language": "python",
   "notebook_metadata_filter": "-all"
  },
  "kernelspec": {
   "display_name": "Python 3 (ipykernel)",
   "language": "python",
   "name": "python3"
  },
  "language_info": {
   "codemirror_mode": {
    "name": "ipython",
    "version": 3
   },
   "file_extension": ".py",
   "mimetype": "text/x-python",
   "name": "python",
   "nbconvert_exporter": "python",
   "pygments_lexer": "ipython3",
   "version": "3.8.10"
  }
 },
 "nbformat": 4,
 "nbformat_minor": 5
}
